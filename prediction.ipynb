{
 "cells": [
  {
   "cell_type": "markdown",
   "metadata": {},
   "source": [
    "# Divination Hackathon Prediction"
   ]
  },
  {
   "cell_type": "markdown",
   "metadata": {},
   "source": [
    "Import some basic libraries.\n",
    "* Pandas - provided data frames\n",
    "* matplotlib.pyplot - plotting support\n",
    "\n",
    "Use Magic %matplotlib to display graphics inline instead of in a popup window.\n"
   ]
  },
  {
   "cell_type": "code",
<<<<<<< HEAD
   "execution_count": 2,
=======
   "execution_count": 155,
>>>>>>> add decision tree
   "metadata": {
    "collapsed": false
   },
   "outputs": [],
   "source": [
    "import pandas as pd                 # pandas is a dataframe library\n",
    "import matplotlib.pyplot as plt      # matplotlib.pyplot plots data\n",
    "import numpy as np\n",
    "\n",
    "%matplotlib inline"
   ]
  },
  {
   "cell_type": "markdown",
   "metadata": {},
   "source": [
    "## Loading and Reviewing the Data"
   ]
  },
  {
   "cell_type": "code",
<<<<<<< HEAD
   "execution_count": 3,
=======
   "execution_count": 156,
>>>>>>> add decision tree
   "metadata": {
    "collapsed": false
   },
   "outputs": [],
   "source": [
    "df = pd.read_csv(\"./hackathon-data.csv\")"
   ]
  },
  {
   "cell_type": "code",
<<<<<<< HEAD
   "execution_count": 4,
=======
   "execution_count": 157,
>>>>>>> add decision tree
   "metadata": {
    "collapsed": false
   },
   "outputs": [
    {
     "data": {
      "text/plain": [
       "(7078, 47)"
      ]
     },
<<<<<<< HEAD
     "execution_count": 4,
=======
     "execution_count": 157,
>>>>>>> add decision tree
     "metadata": {},
     "output_type": "execute_result"
    }
   ],
   "source": [
    "df.shape"
   ]
  },
  {
   "cell_type": "code",
<<<<<<< HEAD
   "execution_count": 5,
=======
   "execution_count": 158,
   "metadata": {
    "collapsed": false
   },
   "outputs": [],
   "source": [
    "# df.head(5)"
   ]
  },
  {
   "cell_type": "code",
   "execution_count": 159,
   "metadata": {
    "collapsed": false
   },
   "outputs": [],
   "source": [
    "# df.tail(5)"
   ]
  },
  {
   "cell_type": "markdown",
   "metadata": {},
   "source": [
    "### Definition of features\n",
    "From the metadata on the data source we have the following definition of the data columns.\n",
    "\n",
    "Joined Proctor:\n",
    "The date the user is registered on Andela Proctor platform.\n",
    "\n",
    "Stage:\n",
    "The stage the user got to. Bootcamp indicates entry to Bootcamp and Offer indicates offer into fellowship.\n",
    "\n",
    "Bootcamp:\n",
    "Whether the user made it to Bootcamp or not.\n",
    "\n",
    "Score:\n",
    "The score of the user on Proctor.\n",
    "\n",
    "% Score:\n",
    "The percentage score, which is score / 200.\n",
    "\n",
    "% Completed:\n",
    "Percentage of the curriculum that was completed.\n",
    "\n",
    "\n",
    "Ma-Sb (Correct | Wrong | Tries):\n",
    "M - Module\n",
    "S - Section\n",
    "a - Module number\n",
    "b - Section number\n",
    "\n",
    "Section 1 - Quizzes: \n",
    "The Correct/Wrong columns indicates the number the user got correctly and got wrongly respectively. Tries indicates number of attempts by the user to solve the quiz.\n",
    "\n",
    "Section 2 - Labs:\n",
    "Tries indicates the number of the times the user attempted the lab.\n",
    "Labs only have number of tries unlike quizzes.\n",
    "\n",
    "Note: 0 tries indicates the user do not attempt the quiz/lab.\n",
    "\n",
    "Examples:\n",
    "M1-S1 Correct - number of questions the user got correctly in Module 1 Section 1.\n",
    "M2-S1 Wrong - number of questions the user got wrong in Module 2 Section 1.\n",
    "M1-S2 Tries - number of attempts by the user to answer the questions in Module 1 Section 2.\n",
    "\n"
   ]
  },
  {
   "cell_type": "markdown",
   "metadata": {},
   "source": [
    "## Check for null values"
   ]
  },
  {
   "cell_type": "code",
   "execution_count": 160,
   "metadata": {
    "collapsed": false
   },
   "outputs": [
    {
     "data": {
      "text/plain": [
       "False"
      ]
     },
     "execution_count": 160,
     "metadata": {},
     "output_type": "execute_result"
    }
   ],
   "source": [
    "df.isnull().values.any()"
   ]
  },
  {
   "cell_type": "markdown",
   "metadata": {},
   "source": [
    "### Correlated Feature Check"
   ]
  },
  {
   "cell_type": "markdown",
   "metadata": {},
   "source": [
    "Helper function that displays correlation by color.  Red is most correlated, Blue least."
   ]
  },
  {
   "cell_type": "code",
   "execution_count": 161,
   "metadata": {
    "collapsed": true
   },
   "outputs": [],
   "source": [
    "def plot_corr(df, size=20):\n",
    "    \"\"\"\n",
    "    Function plots a graphical correlation matrix for each pair of columns in the dataframe.\n",
    "\n",
    "    Input:\n",
    "        df: pandas DataFrame\n",
    "        size: vertical and horizontal size of the plot\n",
    "\n",
    "    Displays:\n",
    "        matrix of correlation between columns.  Blue-cyan-yellow-red-darkred => less to more correlated\n",
    "                                                0 ------------------>  1\n",
    "                                                Expect a darkred line running from top left to bottom right\n",
    "    \"\"\"\n",
    "\n",
    "    corr = df.corr()    # data frame correlation function\n",
    "    fig, ax = plt.subplots(figsize=(size, size))\n",
    "    ax.matshow(corr)   # color code the rectangles by correlation value\n",
    "    plt.xticks(range(len(corr.columns)), corr.columns)  # draw x tick marks\n",
    "    plt.yticks(range(len(corr.columns)), corr.columns)  # draw y tick marks\n"
   ]
  },
  {
   "cell_type": "code",
   "execution_count": 162,
   "metadata": {
    "collapsed": false,
    "scrolled": true
   },
   "outputs": [
    {
     "data": {
      "image/png": "iVBORw0KGgoAAAANSUhEUgAABq4AAAY1CAYAAABTyC8XAAAABHNCSVQICAgIfAhkiAAAAAlwSFlz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\nABWEKwAAAAAAACq8xeXAxEYDXukAAAAASUVORK5CYII=\n",
      "text/plain": [
       "<matplotlib.figure.Figure at 0x10b9e6c18>"
      ]
     },
     "metadata": {},
     "output_type": "display_data"
    }
   ],
   "source": [
    "plot_corr(df)"
   ]
  },
  {
   "cell_type": "code",
   "execution_count": 163,
>>>>>>> add decision tree
   "metadata": {
    "collapsed": false
   },
   "outputs": [
    {
     "data": {
      "text/html": [
       "<div>\n",
       "<table border=\"1\" class=\"dataframe\">\n",
       "  <thead>\n",
       "    <tr style=\"text-align: right;\">\n",
       "      <th></th>\n",
       "      <th>S/N</th>\n",
       "      <th>Bootcamp</th>\n",
       "      <th>Score</th>\n",
       "      <th>% Completed</th>\n",
       "      <th>M1-S1 Correct</th>\n",
       "      <th>M1-S1 Wrong</th>\n",
       "      <th>M1-S1 Tries</th>\n",
       "      <th>M1-S2 Tries</th>\n",
       "      <th>M2-S1 Correct</th>\n",
       "      <th>M2-S1 Wrong</th>\n",
       "      <th>...</th>\n",
       "      <th>M8-S1 Tries</th>\n",
       "      <th>M8-S2 Tries</th>\n",
       "      <th>M9-S1 Correct</th>\n",
       "      <th>M9-S1 Wrong</th>\n",
       "      <th>M9-S1 Tries</th>\n",
       "      <th>M9-S2 Tries</th>\n",
       "      <th>M10-S1 Correct</th>\n",
       "      <th>M10-S1 Wrong</th>\n",
       "      <th>M10-S1 Tries</th>\n",
       "      <th>M10-S2 Tries</th>\n",
       "    </tr>\n",
       "  </thead>\n",
       "  <tbody>\n",
       "    <tr>\n",
       "      <th>S/N</th>\n",
       "      <td>1.000000</td>\n",
       "      <td>0.050296</td>\n",
       "      <td>0.418005</td>\n",
       "      <td>0.311434</td>\n",
       "      <td>0.439836</td>\n",
       "      <td>0.270719</td>\n",
       "      <td>0.270719</td>\n",
       "      <td>NaN</td>\n",
       "      <td>0.375611</td>\n",
       "      <td>0.365756</td>\n",
       "      <td>...</td>\n",
       "      <td>0.219062</td>\n",
       "      <td>NaN</td>\n",
       "      <td>0.232751</td>\n",
       "      <td>0.202679</td>\n",
       "      <td>0.202679</td>\n",
       "      <td>NaN</td>\n",
       "      <td>0.209650</td>\n",
       "      <td>0.194885</td>\n",
       "      <td>0.194881</td>\n",
       "      <td>0.099598</td>\n",
       "    </tr>\n",
       "    <tr>\n",
       "      <th>Bootcamp</th>\n",
       "      <td>0.050296</td>\n",
       "      <td>1.000000</td>\n",
       "      <td>0.243794</td>\n",
       "      <td>0.322563</td>\n",
       "      <td>0.198934</td>\n",
       "      <td>0.011089</td>\n",
       "      <td>0.011089</td>\n",
       "      <td>NaN</td>\n",
       "      <td>0.192152</td>\n",
       "      <td>0.072944</td>\n",
       "      <td>...</td>\n",
       "      <td>0.097173</td>\n",
       "      <td>NaN</td>\n",
       "      <td>0.317111</td>\n",
       "      <td>0.067467</td>\n",
       "      <td>0.067467</td>\n",
       "      <td>NaN</td>\n",
       "      <td>0.332742</td>\n",
       "      <td>0.059618</td>\n",
       "      <td>0.059602</td>\n",
       "      <td>0.116299</td>\n",
       "    </tr>\n",
       "    <tr>\n",
       "      <th>Score</th>\n",
       "      <td>0.418005</td>\n",
       "      <td>0.243794</td>\n",
       "      <td>1.000000</td>\n",
       "      <td>0.828956</td>\n",
       "      <td>0.901902</td>\n",
       "      <td>0.610764</td>\n",
       "      <td>0.610764</td>\n",
       "      <td>NaN</td>\n",
       "      <td>0.897635</td>\n",
       "      <td>0.722747</td>\n",
       "      <td>...</td>\n",
       "      <td>0.440783</td>\n",
       "      <td>NaN</td>\n",
       "      <td>0.658190</td>\n",
       "      <td>0.376155</td>\n",
       "      <td>0.376155</td>\n",
       "      <td>NaN</td>\n",
       "      <td>0.651325</td>\n",
       "      <td>0.326401</td>\n",
       "      <td>0.326623</td>\n",
       "      <td>0.235495</td>\n",
       "    </tr>\n",
       "    <tr>\n",
       "      <th>% Completed</th>\n",
       "      <td>0.311434</td>\n",
       "      <td>0.322563</td>\n",
       "      <td>0.828956</td>\n",
       "      <td>1.000000</td>\n",
       "      <td>0.725359</td>\n",
       "      <td>0.317825</td>\n",
       "      <td>0.317825</td>\n",
       "      <td>NaN</td>\n",
       "      <td>0.737040</td>\n",
       "      <td>0.514597</td>\n",
       "      <td>...</td>\n",
       "      <td>0.665213</td>\n",
       "      <td>NaN</td>\n",
       "      <td>0.918891</td>\n",
       "      <td>0.565812</td>\n",
       "      <td>0.565812</td>\n",
       "      <td>NaN</td>\n",
       "      <td>0.907993</td>\n",
       "      <td>0.516088</td>\n",
       "      <td>0.516332</td>\n",
       "      <td>0.372292</td>\n",
       "    </tr>\n",
       "    <tr>\n",
       "      <th>M1-S1 Correct</th>\n",
       "      <td>0.439836</td>\n",
       "      <td>0.198934</td>\n",
       "      <td>0.901902</td>\n",
       "      <td>0.725359</td>\n",
       "      <td>1.000000</td>\n",
       "      <td>0.328963</td>\n",
       "      <td>0.328963</td>\n",
       "      <td>NaN</td>\n",
       "      <td>0.820096</td>\n",
       "      <td>0.641107</td>\n",
       "      <td>...</td>\n",
       "      <td>0.379790</td>\n",
       "      <td>NaN</td>\n",
       "      <td>0.561836</td>\n",
       "      <td>0.313071</td>\n",
       "      <td>0.313071</td>\n",
       "      <td>NaN</td>\n",
       "      <td>0.543097</td>\n",
       "      <td>0.290187</td>\n",
       "      <td>0.290374</td>\n",
       "      <td>0.247924</td>\n",
       "    </tr>\n",
<<<<<<< HEAD
       "  </tbody>\n",
       "</table>\n",
       "<p>5 rows × 47 columns</p>\n",
       "</div>"
      ],
      "text/plain": [
       "   S/N Joined Proctor on           Stage Bootcamp  Score % Score  % Completed  \\\n",
       "0    1        2015-12-29  Andela Proctor    False    113  56.50%           20   \n",
       "1    2        2015-12-29  Andela Proctor    False    104  52.00%           13   \n",
       "2    3        2015-12-29         Plum.io    False    113  56.50%          100   \n",
       "3    4        2015-12-29  Andela Proctor    False      0   0.00%            0   \n",
       "4    5        2015-12-29  Andela Proctor    False      0   0.00%            0   \n",
       "\n",
       "   M1-S1 Correct  M1-S1 Wrong  M1-S1 Tries      ...       M8-S1 Tries  \\\n",
       "0              3            3            3      ...                 0   \n",
       "1              3            3            3      ...                 0   \n",
       "2              1            5            5      ...                 4   \n",
       "3              0            0            0      ...                 0   \n",
       "4              0            0            0      ...                 0   \n",
       "\n",
       "   M8-S2 Tries  M9-S1 Correct  M9-S1 Wrong  M9-S1 Tries  M9-S2 Tries  \\\n",
       "0            0              0            0            0            0   \n",
       "1            0              0            0            0            0   \n",
       "2            0              9           10           10            0   \n",
       "3            0              0            0            0            0   \n",
       "4            0              0            0            0            0   \n",
       "\n",
       "   M10-S1 Correct  M10-S1 Wrong  M10-S1 Tries  M10-S2 Tries  \n",
       "0               0             0             0             0  \n",
       "1               0             0             0             0  \n",
       "2              13            30            30             1  \n",
       "3               0             0             0             0  \n",
       "4               0             0             0             0  \n",
       "\n",
       "[5 rows x 47 columns]"
      ]
     },
     "execution_count": 5,
     "metadata": {},
     "output_type": "execute_result"
    }
   ],
   "source": [
    "df.head(5)"
   ]
  },
  {
   "cell_type": "code",
   "execution_count": 6,
   "metadata": {
    "collapsed": false
   },
   "outputs": [
    {
     "data": {
      "text/html": [
       "<div>\n",
       "<table border=\"1\" class=\"dataframe\">\n",
       "  <thead>\n",
       "    <tr style=\"text-align: right;\">\n",
       "      <th></th>\n",
       "      <th>S/N</th>\n",
       "      <th>Joined Proctor on</th>\n",
       "      <th>Stage</th>\n",
       "      <th>Bootcamp</th>\n",
       "      <th>Score</th>\n",
       "      <th>% Score</th>\n",
       "      <th>% Completed</th>\n",
       "      <th>M1-S1 Correct</th>\n",
=======
       "    <tr>\n",
>>>>>>> add decision tree
       "      <th>M1-S1 Wrong</th>\n",
       "      <td>0.270719</td>\n",
       "      <td>0.011089</td>\n",
       "      <td>0.610764</td>\n",
       "      <td>0.317825</td>\n",
       "      <td>0.328963</td>\n",
       "      <td>1.000000</td>\n",
       "      <td>1.000000</td>\n",
       "      <td>NaN</td>\n",
       "      <td>0.552244</td>\n",
       "      <td>0.659561</td>\n",
       "      <td>...</td>\n",
       "      <td>0.242600</td>\n",
       "      <td>NaN</td>\n",
       "      <td>0.149616</td>\n",
       "      <td>0.259709</td>\n",
       "      <td>0.259709</td>\n",
       "      <td>NaN</td>\n",
       "      <td>0.133721</td>\n",
       "      <td>0.232083</td>\n",
       "      <td>0.232072</td>\n",
       "      <td>0.017480</td>\n",
       "    </tr>\n",
       "    <tr>\n",
       "      <th>M1-S1 Tries</th>\n",
       "      <td>0.270719</td>\n",
       "      <td>0.011089</td>\n",
       "      <td>0.610764</td>\n",
       "      <td>0.317825</td>\n",
       "      <td>0.328963</td>\n",
       "      <td>1.000000</td>\n",
       "      <td>1.000000</td>\n",
       "      <td>NaN</td>\n",
       "      <td>0.552244</td>\n",
       "      <td>0.659561</td>\n",
       "      <td>...</td>\n",
       "      <td>0.242600</td>\n",
       "      <td>NaN</td>\n",
       "      <td>0.149616</td>\n",
       "      <td>0.259709</td>\n",
       "      <td>0.259709</td>\n",
       "      <td>NaN</td>\n",
       "      <td>0.133721</td>\n",
       "      <td>0.232083</td>\n",
       "      <td>0.232072</td>\n",
       "      <td>0.017480</td>\n",
       "    </tr>\n",
       "    <tr>\n",
       "      <th>M1-S2 Tries</th>\n",
       "      <td>NaN</td>\n",
       "      <td>NaN</td>\n",
       "      <td>NaN</td>\n",
       "      <td>NaN</td>\n",
       "      <td>NaN</td>\n",
       "      <td>NaN</td>\n",
       "      <td>NaN</td>\n",
       "      <td>NaN</td>\n",
       "      <td>NaN</td>\n",
       "      <td>NaN</td>\n",
       "      <td>...</td>\n",
       "      <td>NaN</td>\n",
       "      <td>NaN</td>\n",
       "      <td>NaN</td>\n",
       "      <td>NaN</td>\n",
       "      <td>NaN</td>\n",
       "      <td>NaN</td>\n",
       "      <td>NaN</td>\n",
       "      <td>NaN</td>\n",
       "      <td>NaN</td>\n",
       "      <td>NaN</td>\n",
       "    </tr>\n",
       "    <tr>\n",
       "      <th>M2-S1 Correct</th>\n",
       "      <td>0.375611</td>\n",
       "      <td>0.192152</td>\n",
       "      <td>0.897635</td>\n",
       "      <td>0.737040</td>\n",
       "      <td>0.820096</td>\n",
       "      <td>0.552244</td>\n",
       "      <td>0.552244</td>\n",
       "      <td>NaN</td>\n",
       "      <td>1.000000</td>\n",
       "      <td>0.634790</td>\n",
       "      <td>...</td>\n",
       "      <td>0.399580</td>\n",
       "      <td>NaN</td>\n",
       "      <td>0.558557</td>\n",
       "      <td>0.343637</td>\n",
       "      <td>0.343637</td>\n",
       "      <td>NaN</td>\n",
       "      <td>0.545631</td>\n",
       "      <td>0.320975</td>\n",
       "      <td>0.321214</td>\n",
       "      <td>0.198558</td>\n",
       "    </tr>\n",
       "    <tr>\n",
       "      <th>M2-S1 Wrong</th>\n",
       "      <td>0.365756</td>\n",
       "      <td>0.072944</td>\n",
       "      <td>0.722747</td>\n",
       "      <td>0.514597</td>\n",
       "      <td>0.641107</td>\n",
       "      <td>0.659561</td>\n",
       "      <td>0.659561</td>\n",
       "      <td>NaN</td>\n",
       "      <td>0.634790</td>\n",
       "      <td>1.000000</td>\n",
       "      <td>...</td>\n",
       "      <td>0.347342</td>\n",
       "      <td>NaN</td>\n",
       "      <td>0.327916</td>\n",
       "      <td>0.343295</td>\n",
       "      <td>0.343295</td>\n",
       "      <td>NaN</td>\n",
       "      <td>0.301581</td>\n",
       "      <td>0.313484</td>\n",
       "      <td>0.313460</td>\n",
       "      <td>0.116317</td>\n",
       "    </tr>\n",
       "    <tr>\n",
       "      <th>M2-S1 Tries</th>\n",
       "      <td>0.365756</td>\n",
       "      <td>0.072944</td>\n",
       "      <td>0.722747</td>\n",
       "      <td>0.514597</td>\n",
       "      <td>0.641107</td>\n",
       "      <td>0.659561</td>\n",
       "      <td>0.659561</td>\n",
       "      <td>NaN</td>\n",
       "      <td>0.634790</td>\n",
       "      <td>1.000000</td>\n",
       "      <td>...</td>\n",
       "      <td>0.347342</td>\n",
       "      <td>NaN</td>\n",
       "      <td>0.327916</td>\n",
       "      <td>0.343295</td>\n",
       "      <td>0.343295</td>\n",
       "      <td>NaN</td>\n",
       "      <td>0.301581</td>\n",
       "      <td>0.313484</td>\n",
       "      <td>0.313460</td>\n",
       "      <td>0.116317</td>\n",
       "    </tr>\n",
<<<<<<< HEAD
       "  </tbody>\n",
       "</table>\n",
       "<p>5 rows × 47 columns</p>\n",
       "</div>"
      ],
      "text/plain": [
       "       S/N Joined Proctor on           Stage Bootcamp  Score % Score  \\\n",
       "7073  7074        2016-03-28  Andela Proctor    False    176  88.00%   \n",
       "7074  7075        2016-02-22  Andela Proctor    False    107  53.50%   \n",
       "7075  7076        2016-06-13  Andela Proctor    False    161  80.50%   \n",
       "7076  7077        2016-05-23  Andela Proctor    False    165  82.50%   \n",
       "7077  7078        2016-09-01  Andela Proctor    False    151  75.50%   \n",
       "\n",
       "      % Completed  M1-S1 Correct  M1-S1 Wrong  M1-S1 Tries      ...       \\\n",
       "7073          100              8            0            0      ...        \n",
       "7074           62              5            3            3      ...        \n",
       "7075          100              8            0            0      ...        \n",
       "7076           93              8            0            0      ...        \n",
       "7077           93              7            1            1      ...        \n",
       "\n",
       "      M8-S1 Tries  M8-S2 Tries  M9-S1 Correct  M9-S1 Wrong  M9-S1 Tries  \\\n",
       "7073            3            0             13            1            1   \n",
       "7074            6            0              4           10           10   \n",
       "7075            2            0             12            2            2   \n",
       "7076            3            0             12            2            2   \n",
       "7077            4            0              6            8            8   \n",
       "\n",
       "      M9-S2 Tries  M10-S1 Correct  M10-S1 Wrong  M10-S1 Tries  M10-S2 Tries  \n",
       "7073            0              22             6             6             1  \n",
       "7074            0              13            15            15             0  \n",
       "7075            0              23             5             5             1  \n",
       "7076            0              22             6             6             7  \n",
       "7077            0              23             5             5            26  \n",
       "\n",
       "[5 rows x 47 columns]"
      ]
     },
     "execution_count": 6,
     "metadata": {},
     "output_type": "execute_result"
    }
   ],
   "source": [
    "df.tail(5)"
   ]
  },
  {
   "cell_type": "markdown",
   "metadata": {},
   "source": [
    "### Definition of features\n",
    "From the metadata on the data source we have the following definition of the data columns.\n",
    "\n",
    "Joined Proctor:\n",
    "The date the user is registered on Andela Proctor platform.\n",
    "\n",
    "Stage:\n",
    "The stage the user got to. Bootcamp indicates entry to Bootcamp and Offer indicates offer into fellowship.\n",
    "\n",
    "Bootcamp:\n",
    "Whether the user made it to Bootcamp or not.\n",
    "\n",
    "Score:\n",
    "The score of the user on Proctor.\n",
    "\n",
    "% Score:\n",
    "The percentage score, which is score / 200.\n",
    "\n",
    "% Completed:\n",
    "Percentage of the curriculum that was completed.\n",
    "\n",
    "\n",
    "Ma-Sb (Correct | Wrong | Tries):\n",
    "M - Module\n",
    "S - Section\n",
    "a - Module number\n",
    "b - Section number\n",
    "\n",
    "Section 1 - Quizzes: \n",
    "The Correct/Wrong columns indicates the number the user got correctly and got wrongly respectively. Tries indicates number of attempts by the user to solve the quiz.\n",
    "\n",
    "Section 2 - Labs:\n",
    "Tries indicates the number of the times the user attempted the lab.\n",
    "Labs only have number of tries unlike quizzes.\n",
    "\n",
    "Note: 0 tries indicates the user do not attempt the quiz/lab.\n",
    "\n",
    "Examples:\n",
    "M1-S1 Correct - number of questions the user got correctly in Module 1 Section 1.\n",
    "M2-S1 Wrong - number of questions the user got wrong in Module 2 Section 1.\n",
    "M1-S2 Tries - number of attempts by the user to answer the questions in Module 1 Section 2.\n",
    "\n"
   ]
  },
  {
   "cell_type": "markdown",
   "metadata": {},
   "source": [
    "## Check for null values"
   ]
  },
  {
   "cell_type": "code",
   "execution_count": 7,
   "metadata": {
    "collapsed": false
   },
   "outputs": [
    {
     "data": {
      "text/plain": [
       "False"
      ]
     },
     "execution_count": 7,
     "metadata": {},
     "output_type": "execute_result"
    }
   ],
   "source": [
    "df.isnull().values.any()"
   ]
  },
  {
   "cell_type": "markdown",
   "metadata": {},
   "source": [
    "### Correlated Feature Check"
   ]
  },
  {
   "cell_type": "markdown",
   "metadata": {},
   "source": [
    "Helper function that displays correlation by color.  Red is most correlated, Blue least."
   ]
  },
  {
   "cell_type": "code",
   "execution_count": 8,
   "metadata": {
    "collapsed": true
   },
   "outputs": [],
   "source": [
    "def plot_corr(df, size=11):\n",
    "    \"\"\"\n",
    "    Function plots a graphical correlation matrix for each pair of columns in the dataframe.\n",
    "\n",
    "    Input:\n",
    "        df: pandas DataFrame\n",
    "        size: vertical and horizontal size of the plot\n",
    "\n",
    "    Displays:\n",
    "        matrix of correlation between columns.  Blue-cyan-yellow-red-darkred => less to more correlated\n",
    "                                                0 ------------------>  1\n",
    "                                                Expect a darkred line running from top left to bottom right\n",
    "    \"\"\"\n",
    "\n",
    "    corr = df.corr()    # data frame correlation function\n",
    "    fig, ax = plt.subplots(figsize=(size, size))\n",
    "    ax.matshow(corr)   # color code the rectangles by correlation value\n",
    "    plt.xticks(range(len(corr.columns)), corr.columns)  # draw x tick marks\n",
    "    plt.yticks(range(len(corr.columns)), corr.columns)  # draw y tick marks\n"
   ]
  },
  {
   "cell_type": "code",
   "execution_count": 9,
   "metadata": {
    "collapsed": false
   },
   "outputs": [
    {
     "data": {
      "image/png": "iVBORw0KGgoAAAANSUhEUgAAA/0AAAN8CAYAAAAK08odAAAABHNCSVQICAgIfAhkiAAAAAlwSFlz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\nmVmD+v/ZF+uKUDqn4QAAAABJRU5ErkJggg==\n",
      "text/plain": [
       "<matplotlib.figure.Figure at 0x108db6358>"
      ]
     },
     "metadata": {},
     "output_type": "display_data"
    }
   ],
   "source": [
    "plot_corr(df)"
   ]
  },
  {
   "cell_type": "code",
   "execution_count": 10,
   "metadata": {
    "collapsed": false
   },
   "outputs": [
    {
     "data": {
      "text/html": [
       "<div>\n",
       "<table border=\"1\" class=\"dataframe\">\n",
       "  <thead>\n",
       "    <tr style=\"text-align: right;\">\n",
       "      <th></th>\n",
       "      <th>S/N</th>\n",
       "      <th>Bootcamp</th>\n",
       "      <th>Score</th>\n",
       "      <th>% Completed</th>\n",
       "      <th>M1-S1 Correct</th>\n",
       "      <th>M1-S1 Wrong</th>\n",
       "      <th>M1-S1 Tries</th>\n",
       "      <th>M1-S2 Tries</th>\n",
       "      <th>M2-S1 Correct</th>\n",
       "      <th>M2-S1 Wrong</th>\n",
       "      <th>...</th>\n",
       "      <th>M8-S1 Tries</th>\n",
       "      <th>M8-S2 Tries</th>\n",
       "      <th>M9-S1 Correct</th>\n",
       "      <th>M9-S1 Wrong</th>\n",
       "      <th>M9-S1 Tries</th>\n",
       "      <th>M9-S2 Tries</th>\n",
       "      <th>M10-S1 Correct</th>\n",
       "      <th>M10-S1 Wrong</th>\n",
       "      <th>M10-S1 Tries</th>\n",
       "      <th>M10-S2 Tries</th>\n",
       "    </tr>\n",
       "  </thead>\n",
       "  <tbody>\n",
=======
>>>>>>> add decision tree
       "    <tr>\n",
       "      <th>M2-S2 Tries</th>\n",
       "      <td>0.068510</td>\n",
       "      <td>0.022343</td>\n",
       "      <td>0.067698</td>\n",
       "      <td>0.100279</td>\n",
       "      <td>0.097602</td>\n",
       "      <td>-0.000020</td>\n",
       "      <td>-0.000020</td>\n",
       "      <td>NaN</td>\n",
       "      <td>0.056222</td>\n",
       "      <td>0.031884</td>\n",
       "      <td>...</td>\n",
       "      <td>0.059849</td>\n",
       "      <td>NaN</td>\n",
       "      <td>0.070201</td>\n",
       "      <td>0.032625</td>\n",
       "      <td>0.032625</td>\n",
       "      <td>NaN</td>\n",
       "      <td>0.061084</td>\n",
       "      <td>0.028732</td>\n",
       "      <td>0.028727</td>\n",
       "      <td>0.093557</td>\n",
       "    </tr>\n",
       "    <tr>\n",
       "      <th>M3-S1 Correct</th>\n",
       "      <td>NaN</td>\n",
       "      <td>NaN</td>\n",
       "      <td>NaN</td>\n",
       "      <td>NaN</td>\n",
       "      <td>NaN</td>\n",
       "      <td>NaN</td>\n",
       "      <td>NaN</td>\n",
       "      <td>NaN</td>\n",
       "      <td>NaN</td>\n",
       "      <td>NaN</td>\n",
       "      <td>...</td>\n",
       "      <td>NaN</td>\n",
       "      <td>NaN</td>\n",
       "      <td>NaN</td>\n",
       "      <td>NaN</td>\n",
       "      <td>NaN</td>\n",
       "      <td>NaN</td>\n",
       "      <td>NaN</td>\n",
       "      <td>NaN</td>\n",
       "      <td>NaN</td>\n",
       "      <td>NaN</td>\n",
       "    </tr>\n",
       "    <tr>\n",
       "      <th>M3-S1 Wrong</th>\n",
       "      <td>0.308972</td>\n",
       "      <td>0.058517</td>\n",
       "      <td>0.667270</td>\n",
       "      <td>0.533974</td>\n",
       "      <td>0.595186</td>\n",
       "      <td>0.543519</td>\n",
       "      <td>0.543519</td>\n",
       "      <td>NaN</td>\n",
       "      <td>0.683608</td>\n",
       "      <td>0.701461</td>\n",
       "      <td>...</td>\n",
       "      <td>0.373431</td>\n",
       "      <td>NaN</td>\n",
       "      <td>0.362909</td>\n",
       "      <td>0.343042</td>\n",
       "      <td>0.343042</td>\n",
       "      <td>NaN</td>\n",
       "      <td>0.335081</td>\n",
       "      <td>0.351587</td>\n",
       "      <td>0.351552</td>\n",
       "      <td>0.113596</td>\n",
       "    </tr>\n",
       "    <tr>\n",
       "      <th>M3-S1 Tries</th>\n",
       "      <td>0.309037</td>\n",
       "      <td>0.058476</td>\n",
       "      <td>0.667510</td>\n",
       "      <td>0.534056</td>\n",
       "      <td>0.595518</td>\n",
       "      <td>0.543490</td>\n",
       "      <td>0.543490</td>\n",
       "      <td>NaN</td>\n",
       "      <td>0.684075</td>\n",
       "      <td>0.701344</td>\n",
       "      <td>...</td>\n",
       "      <td>0.373308</td>\n",
       "      <td>NaN</td>\n",
       "      <td>0.362763</td>\n",
       "      <td>0.342928</td>\n",
       "      <td>0.342928</td>\n",
       "      <td>NaN</td>\n",
       "      <td>0.334943</td>\n",
       "      <td>0.351478</td>\n",
       "      <td>0.351444</td>\n",
       "      <td>0.113547</td>\n",
       "    </tr>\n",
       "    <tr>\n",
       "      <th>M3-S2 Tries</th>\n",
       "      <td>0.110873</td>\n",
       "      <td>0.088101</td>\n",
       "      <td>0.225855</td>\n",
       "      <td>0.332339</td>\n",
       "      <td>0.247229</td>\n",
       "      <td>0.023110</td>\n",
       "      <td>0.023110</td>\n",
       "      <td>NaN</td>\n",
       "      <td>0.203685</td>\n",
       "      <td>0.113385</td>\n",
       "      <td>...</td>\n",
       "      <td>0.158100</td>\n",
       "      <td>NaN</td>\n",
       "      <td>0.277994</td>\n",
       "      <td>0.107255</td>\n",
       "      <td>0.107255</td>\n",
       "      <td>NaN</td>\n",
       "      <td>0.277472</td>\n",
       "      <td>0.093352</td>\n",
       "      <td>0.093407</td>\n",
       "      <td>0.211741</td>\n",
       "    </tr>\n",
       "    <tr>\n",
       "      <th>M4-S1 Correct</th>\n",
       "      <td>0.213086</td>\n",
       "      <td>0.321340</td>\n",
       "      <td>0.668450</td>\n",
       "      <td>0.888222</td>\n",
       "      <td>0.561736</td>\n",
       "      <td>0.159166</td>\n",
       "      <td>0.159166</td>\n",
       "      <td>NaN</td>\n",
       "      <td>0.591334</td>\n",
       "      <td>0.324507</td>\n",
       "      <td>...</td>\n",
       "      <td>0.572170</td>\n",
       "      <td>NaN</td>\n",
       "      <td>0.871280</td>\n",
       "      <td>0.477764</td>\n",
       "      <td>0.477764</td>\n",
       "      <td>NaN</td>\n",
       "      <td>0.870984</td>\n",
       "      <td>0.451476</td>\n",
       "      <td>0.451722</td>\n",
       "      <td>0.293034</td>\n",
       "    </tr>\n",
       "    <tr>\n",
       "      <th>M4-S1 Wrong</th>\n",
       "      <td>0.248170</td>\n",
       "      <td>0.069576</td>\n",
       "      <td>0.427996</td>\n",
       "      <td>0.584312</td>\n",
       "      <td>0.380365</td>\n",
       "      <td>0.282461</td>\n",
       "      <td>0.282461</td>\n",
       "      <td>NaN</td>\n",
       "      <td>0.400111</td>\n",
       "      <td>0.388475</td>\n",
       "      <td>...</td>\n",
       "      <td>0.663670</td>\n",
       "      <td>NaN</td>\n",
       "      <td>0.526550</td>\n",
       "      <td>0.635000</td>\n",
       "      <td>0.635000</td>\n",
       "      <td>NaN</td>\n",
       "      <td>0.470774</td>\n",
       "      <td>0.620671</td>\n",
       "      <td>0.620676</td>\n",
       "      <td>0.172376</td>\n",
       "    </tr>\n",
       "    <tr>\n",
       "      <th>M4-S1 Tries</th>\n",
       "      <td>0.248369</td>\n",
       "      <td>0.069506</td>\n",
       "      <td>0.428591</td>\n",
       "      <td>0.585233</td>\n",
       "      <td>0.380697</td>\n",
       "      <td>0.282799</td>\n",
       "      <td>0.282799</td>\n",
       "      <td>NaN</td>\n",
       "      <td>0.400543</td>\n",
       "      <td>0.388738</td>\n",
       "      <td>...</td>\n",
       "      <td>0.663850</td>\n",
       "      <td>NaN</td>\n",
       "      <td>0.527270</td>\n",
       "      <td>0.635512</td>\n",
       "      <td>0.635512</td>\n",
       "      <td>NaN</td>\n",
       "      <td>0.471387</td>\n",
       "      <td>0.621484</td>\n",
       "      <td>0.621489</td>\n",
       "      <td>0.172557</td>\n",
       "    </tr>\n",
       "    <tr>\n",
       "      <th>M4-S2 Tries</th>\n",
       "      <td>0.060260</td>\n",
       "      <td>0.162746</td>\n",
       "      <td>0.212082</td>\n",
       "      <td>0.335774</td>\n",
       "      <td>0.203044</td>\n",
       "      <td>0.030938</td>\n",
       "      <td>0.030938</td>\n",
       "      <td>NaN</td>\n",
       "      <td>0.183788</td>\n",
       "      <td>0.114443</td>\n",
       "      <td>...</td>\n",
       "      <td>0.181146</td>\n",
       "      <td>NaN</td>\n",
       "      <td>0.297360</td>\n",
       "      <td>0.124029</td>\n",
       "      <td>0.124029</td>\n",
       "      <td>NaN</td>\n",
       "      <td>0.304212</td>\n",
       "      <td>0.094381</td>\n",
       "      <td>0.094429</td>\n",
       "      <td>0.268557</td>\n",
       "    </tr>\n",
       "    <tr>\n",
       "      <th>M5-S1 Correct</th>\n",
       "      <td>0.268103</td>\n",
       "      <td>0.295925</td>\n",
       "      <td>0.646387</td>\n",
       "      <td>0.905199</td>\n",
       "      <td>0.591148</td>\n",
       "      <td>0.124530</td>\n",
       "      <td>0.124530</td>\n",
       "      <td>NaN</td>\n",
       "      <td>0.548287</td>\n",
       "      <td>0.320465</td>\n",
       "      <td>...</td>\n",
       "      <td>0.630364</td>\n",
       "      <td>NaN</td>\n",
       "      <td>0.873160</td>\n",
       "      <td>0.506610</td>\n",
       "      <td>0.506610</td>\n",
       "      <td>NaN</td>\n",
       "      <td>0.856104</td>\n",
       "      <td>0.471602</td>\n",
       "      <td>0.471808</td>\n",
       "      <td>0.389685</td>\n",
       "    </tr>\n",
       "    <tr>\n",
       "      <th>M5-S1 Wrong</th>\n",
       "      <td>0.193730</td>\n",
       "      <td>0.003152</td>\n",
       "      <td>0.265235</td>\n",
       "      <td>0.387344</td>\n",
       "      <td>0.261081</td>\n",
       "      <td>0.190478</td>\n",
       "      <td>0.190478</td>\n",
       "      <td>NaN</td>\n",
       "      <td>0.232559</td>\n",
       "      <td>0.281905</td>\n",
       "      <td>...</td>\n",
       "      <td>0.521146</td>\n",
       "      <td>NaN</td>\n",
       "      <td>0.350467</td>\n",
       "      <td>0.510792</td>\n",
       "      <td>0.510792</td>\n",
       "      <td>NaN</td>\n",
       "      <td>0.289320</td>\n",
       "      <td>0.488779</td>\n",
       "      <td>0.488753</td>\n",
       "      <td>0.134275</td>\n",
       "    </tr>\n",
       "    <tr>\n",
       "      <th>M5-S1 Tries</th>\n",
       "      <td>0.193056</td>\n",
       "      <td>0.002950</td>\n",
       "      <td>0.267472</td>\n",
       "      <td>0.390537</td>\n",
       "      <td>0.262073</td>\n",
       "      <td>0.191279</td>\n",
       "      <td>0.191279</td>\n",
       "      <td>NaN</td>\n",
       "      <td>0.234756</td>\n",
       "      <td>0.281535</td>\n",
       "      <td>...</td>\n",
       "      <td>0.521526</td>\n",
       "      <td>NaN</td>\n",
       "      <td>0.353879</td>\n",
       "      <td>0.510332</td>\n",
       "      <td>0.510332</td>\n",
       "      <td>NaN</td>\n",
       "      <td>0.293158</td>\n",
       "      <td>0.488049</td>\n",
       "      <td>0.488023</td>\n",
       "      <td>0.134935</td>\n",
       "    </tr>\n",
       "    <tr>\n",
       "      <th>M5-S2 Tries</th>\n",
       "      <td>0.054949</td>\n",
       "      <td>0.099949</td>\n",
       "      <td>0.232072</td>\n",
       "      <td>0.377788</td>\n",
       "      <td>0.203944</td>\n",
       "      <td>0.045861</td>\n",
       "      <td>0.045861</td>\n",
       "      <td>NaN</td>\n",
       "      <td>0.205554</td>\n",
       "      <td>0.118997</td>\n",
       "      <td>...</td>\n",
       "      <td>0.175324</td>\n",
       "      <td>NaN</td>\n",
       "      <td>0.342148</td>\n",
       "      <td>0.148725</td>\n",
       "      <td>0.148725</td>\n",
       "      <td>NaN</td>\n",
       "      <td>0.357923</td>\n",
       "      <td>0.114928</td>\n",
       "      <td>0.114943</td>\n",
       "      <td>0.230310</td>\n",
       "    </tr>\n",
       "    <tr>\n",
       "      <th>M6-S1 Correct</th>\n",
       "      <td>0.235470</td>\n",
       "      <td>0.297417</td>\n",
       "      <td>0.643079</td>\n",
       "      <td>0.910189</td>\n",
       "      <td>0.552936</td>\n",
       "      <td>0.151779</td>\n",
       "      <td>0.151779</td>\n",
       "      <td>NaN</td>\n",
       "      <td>0.546134</td>\n",
       "      <td>0.329521</td>\n",
       "      <td>...</td>\n",
       "      <td>0.685739</td>\n",
       "      <td>NaN</td>\n",
       "      <td>0.910717</td>\n",
       "      <td>0.578096</td>\n",
       "      <td>0.578096</td>\n",
       "      <td>NaN</td>\n",
       "      <td>0.892681</td>\n",
       "      <td>0.542891</td>\n",
       "      <td>0.543124</td>\n",
       "      <td>0.339078</td>\n",
       "    </tr>\n",
       "    <tr>\n",
       "      <th>M6-S1 Wrong</th>\n",
       "      <td>0.216360</td>\n",
       "      <td>0.071569</td>\n",
       "      <td>0.312129</td>\n",
       "      <td>0.464372</td>\n",
       "      <td>0.334405</td>\n",
       "      <td>0.121254</td>\n",
       "      <td>0.121254</td>\n",
       "      <td>NaN</td>\n",
       "      <td>0.261703</td>\n",
       "      <td>0.246398</td>\n",
       "      <td>...</td>\n",
       "      <td>0.462851</td>\n",
       "      <td>NaN</td>\n",
       "      <td>0.409106</td>\n",
       "      <td>0.435293</td>\n",
       "      <td>0.435293</td>\n",
       "      <td>NaN</td>\n",
       "      <td>0.366078</td>\n",
       "      <td>0.391118</td>\n",
       "      <td>0.391091</td>\n",
       "      <td>0.249472</td>\n",
       "    </tr>\n",
       "    <tr>\n",
       "      <th>M6-S1 Tries</th>\n",
       "      <td>NaN</td>\n",
       "      <td>NaN</td>\n",
       "      <td>NaN</td>\n",
       "      <td>NaN</td>\n",
       "      <td>NaN</td>\n",
       "      <td>NaN</td>\n",
       "      <td>NaN</td>\n",
       "      <td>NaN</td>\n",
       "      <td>NaN</td>\n",
       "      <td>NaN</td>\n",
       "      <td>...</td>\n",
       "      <td>NaN</td>\n",
       "      <td>NaN</td>\n",
       "      <td>NaN</td>\n",
       "      <td>NaN</td>\n",
       "      <td>NaN</td>\n",
       "      <td>NaN</td>\n",
       "      <td>NaN</td>\n",
       "      <td>NaN</td>\n",
       "      <td>NaN</td>\n",
       "      <td>NaN</td>\n",
       "    </tr>\n",
       "    <tr>\n",
       "      <th>M6-S2 Tries</th>\n",
       "      <td>0.080696</td>\n",
       "      <td>0.230122</td>\n",
       "      <td>0.339499</td>\n",
       "      <td>0.497777</td>\n",
       "      <td>0.289016</td>\n",
       "      <td>0.036215</td>\n",
       "      <td>0.036215</td>\n",
       "      <td>NaN</td>\n",
       "      <td>0.274587</td>\n",
       "      <td>0.134394</td>\n",
       "      <td>...</td>\n",
       "      <td>0.240374</td>\n",
       "      <td>NaN</td>\n",
       "      <td>0.457650</td>\n",
       "      <td>0.181014</td>\n",
       "      <td>0.181014</td>\n",
       "      <td>NaN</td>\n",
       "      <td>0.473664</td>\n",
       "      <td>0.132321</td>\n",
       "      <td>0.132434</td>\n",
       "      <td>0.245212</td>\n",
       "    </tr>\n",
       "    <tr>\n",
       "      <th>M7-S1 Correct</th>\n",
       "      <td>0.205623</td>\n",
       "      <td>0.316125</td>\n",
       "      <td>0.603010</td>\n",
       "      <td>0.853724</td>\n",
       "      <td>0.519349</td>\n",
       "      <td>0.098421</td>\n",
       "      <td>0.098421</td>\n",
       "      <td>NaN</td>\n",
       "      <td>0.502667</td>\n",
       "      <td>0.270483</td>\n",
       "      <td>...</td>\n",
       "      <td>0.556798</td>\n",
       "      <td>NaN</td>\n",
       "      <td>0.862210</td>\n",
       "      <td>0.451821</td>\n",
       "      <td>0.451821</td>\n",
       "      <td>NaN</td>\n",
       "      <td>0.855888</td>\n",
       "      <td>0.412125</td>\n",
       "      <td>0.412436</td>\n",
       "      <td>0.331605</td>\n",
       "    </tr>\n",
       "    <tr>\n",
       "      <th>M7-S1 Wrong</th>\n",
       "      <td>0.183770</td>\n",
       "      <td>0.141841</td>\n",
       "      <td>0.436283</td>\n",
       "      <td>0.661323</td>\n",
       "      <td>0.364301</td>\n",
       "      <td>0.209355</td>\n",
       "      <td>0.209355</td>\n",
       "      <td>NaN</td>\n",
       "      <td>0.386774</td>\n",
       "      <td>0.321558</td>\n",
       "      <td>...</td>\n",
       "      <td>0.745224</td>\n",
       "      <td>NaN</td>\n",
       "      <td>0.676989</td>\n",
       "      <td>0.688015</td>\n",
       "      <td>0.688015</td>\n",
       "      <td>NaN</td>\n",
       "      <td>0.630200</td>\n",
       "      <td>0.673771</td>\n",
       "      <td>0.673734</td>\n",
       "      <td>0.221566</td>\n",
       "    </tr>\n",
       "    <tr>\n",
       "      <th>M7-S1 Tries</th>\n",
       "      <td>0.183767</td>\n",
       "      <td>0.141815</td>\n",
       "      <td>0.436585</td>\n",
       "      <td>0.661718</td>\n",
       "      <td>0.364583</td>\n",
       "      <td>0.209248</td>\n",
       "      <td>0.209248</td>\n",
       "      <td>NaN</td>\n",
       "      <td>0.386927</td>\n",
       "      <td>0.321743</td>\n",
       "      <td>...</td>\n",
       "      <td>0.745142</td>\n",
       "      <td>NaN</td>\n",
       "      <td>0.677428</td>\n",
       "      <td>0.687940</td>\n",
       "      <td>0.687940</td>\n",
       "      <td>NaN</td>\n",
       "      <td>0.630632</td>\n",
       "      <td>0.673802</td>\n",
       "      <td>0.673765</td>\n",
       "      <td>0.221655</td>\n",
       "    </tr>\n",
       "    <tr>\n",
       "      <th>M7-S2 Tries</th>\n",
       "      <td>NaN</td>\n",
       "      <td>NaN</td>\n",
       "      <td>NaN</td>\n",
       "      <td>NaN</td>\n",
       "      <td>NaN</td>\n",
       "      <td>NaN</td>\n",
       "      <td>NaN</td>\n",
       "      <td>NaN</td>\n",
       "      <td>NaN</td>\n",
       "      <td>NaN</td>\n",
       "      <td>...</td>\n",
       "      <td>NaN</td>\n",
       "      <td>NaN</td>\n",
       "      <td>NaN</td>\n",
       "      <td>NaN</td>\n",
       "      <td>NaN</td>\n",
       "      <td>NaN</td>\n",
       "      <td>NaN</td>\n",
       "      <td>NaN</td>\n",
       "      <td>NaN</td>\n",
       "      <td>NaN</td>\n",
       "    </tr>\n",
       "    <tr>\n",
       "      <th>M8-S1 Correct</th>\n",
       "      <td>0.228389</td>\n",
       "      <td>0.338814</td>\n",
       "      <td>0.650178</td>\n",
       "      <td>0.912151</td>\n",
       "      <td>0.562101</td>\n",
       "      <td>0.121663</td>\n",
       "      <td>0.121663</td>\n",
       "      <td>NaN</td>\n",
       "      <td>0.549047</td>\n",
       "      <td>0.309524</td>\n",
       "      <td>...</td>\n",
       "      <td>0.570427</td>\n",
       "      <td>NaN</td>\n",
       "      <td>0.951820</td>\n",
       "      <td>0.530187</td>\n",
       "      <td>0.530187</td>\n",
       "      <td>NaN</td>\n",
       "      <td>0.931893</td>\n",
       "      <td>0.489683</td>\n",
       "      <td>0.489977</td>\n",
       "      <td>0.339763</td>\n",
<<<<<<< HEAD
       "    </tr>\n",
       "    <tr>\n",
       "      <th>M8-S1 Wrong</th>\n",
       "      <td>0.219062</td>\n",
       "      <td>0.097173</td>\n",
       "      <td>0.440783</td>\n",
       "      <td>0.665213</td>\n",
       "      <td>0.379790</td>\n",
       "      <td>0.242600</td>\n",
       "      <td>0.242600</td>\n",
       "      <td>NaN</td>\n",
       "      <td>0.399580</td>\n",
       "      <td>0.347342</td>\n",
       "      <td>...</td>\n",
       "      <td>1.000000</td>\n",
       "      <td>NaN</td>\n",
       "      <td>0.681234</td>\n",
       "      <td>0.793558</td>\n",
       "      <td>0.793558</td>\n",
       "      <td>NaN</td>\n",
       "      <td>0.617378</td>\n",
       "      <td>0.742526</td>\n",
       "      <td>0.742487</td>\n",
       "      <td>0.230424</td>\n",
       "    </tr>\n",
       "    <tr>\n",
       "      <th>M8-S1 Tries</th>\n",
       "      <td>0.219062</td>\n",
       "      <td>0.097173</td>\n",
       "      <td>0.440783</td>\n",
       "      <td>0.665213</td>\n",
       "      <td>0.379790</td>\n",
       "      <td>0.242600</td>\n",
       "      <td>0.242600</td>\n",
       "      <td>NaN</td>\n",
       "      <td>0.399580</td>\n",
       "      <td>0.347342</td>\n",
       "      <td>...</td>\n",
       "      <td>1.000000</td>\n",
       "      <td>NaN</td>\n",
       "      <td>0.681234</td>\n",
       "      <td>0.793558</td>\n",
       "      <td>0.793558</td>\n",
       "      <td>NaN</td>\n",
       "      <td>0.617378</td>\n",
       "      <td>0.742526</td>\n",
       "      <td>0.742487</td>\n",
       "      <td>0.230424</td>\n",
       "    </tr>\n",
       "    <tr>\n",
       "      <th>M8-S2 Tries</th>\n",
       "      <td>NaN</td>\n",
       "      <td>NaN</td>\n",
       "      <td>NaN</td>\n",
       "      <td>NaN</td>\n",
       "      <td>NaN</td>\n",
       "      <td>NaN</td>\n",
       "      <td>NaN</td>\n",
       "      <td>NaN</td>\n",
       "      <td>NaN</td>\n",
       "      <td>NaN</td>\n",
       "      <td>...</td>\n",
       "      <td>NaN</td>\n",
       "      <td>NaN</td>\n",
       "      <td>NaN</td>\n",
       "      <td>NaN</td>\n",
       "      <td>NaN</td>\n",
       "      <td>NaN</td>\n",
       "      <td>NaN</td>\n",
       "      <td>NaN</td>\n",
       "      <td>NaN</td>\n",
       "      <td>NaN</td>\n",
       "    </tr>\n",
       "    <tr>\n",
       "      <th>M9-S1 Correct</th>\n",
       "      <td>0.232751</td>\n",
       "      <td>0.317111</td>\n",
       "      <td>0.658190</td>\n",
       "      <td>0.918891</td>\n",
       "      <td>0.561836</td>\n",
       "      <td>0.149616</td>\n",
       "      <td>0.149616</td>\n",
       "      <td>NaN</td>\n",
       "      <td>0.558557</td>\n",
       "      <td>0.327916</td>\n",
       "      <td>...</td>\n",
       "      <td>0.681234</td>\n",
       "      <td>NaN</td>\n",
       "      <td>1.000000</td>\n",
       "      <td>0.575835</td>\n",
       "      <td>0.575835</td>\n",
       "      <td>NaN</td>\n",
       "      <td>0.947487</td>\n",
       "      <td>0.543333</td>\n",
       "      <td>0.543572</td>\n",
       "      <td>0.331483</td>\n",
       "    </tr>\n",
       "    <tr>\n",
       "      <th>M9-S1 Wrong</th>\n",
       "      <td>0.202679</td>\n",
       "      <td>0.067467</td>\n",
       "      <td>0.376155</td>\n",
       "      <td>0.565812</td>\n",
       "      <td>0.313071</td>\n",
       "      <td>0.259709</td>\n",
       "      <td>0.259709</td>\n",
       "      <td>NaN</td>\n",
       "      <td>0.343637</td>\n",
       "      <td>0.343295</td>\n",
       "      <td>...</td>\n",
       "      <td>0.793558</td>\n",
       "      <td>NaN</td>\n",
       "      <td>0.575835</td>\n",
       "      <td>1.000000</td>\n",
       "      <td>1.000000</td>\n",
       "      <td>NaN</td>\n",
       "      <td>0.511196</td>\n",
       "      <td>0.765265</td>\n",
       "      <td>0.765285</td>\n",
       "      <td>0.163210</td>\n",
       "    </tr>\n",
       "    <tr>\n",
       "      <th>M9-S1 Tries</th>\n",
       "      <td>0.202679</td>\n",
       "      <td>0.067467</td>\n",
       "      <td>0.376155</td>\n",
       "      <td>0.565812</td>\n",
       "      <td>0.313071</td>\n",
       "      <td>0.259709</td>\n",
       "      <td>0.259709</td>\n",
       "      <td>NaN</td>\n",
       "      <td>0.343637</td>\n",
       "      <td>0.343295</td>\n",
       "      <td>...</td>\n",
       "      <td>0.793558</td>\n",
       "      <td>NaN</td>\n",
       "      <td>0.575835</td>\n",
       "      <td>1.000000</td>\n",
       "      <td>1.000000</td>\n",
       "      <td>NaN</td>\n",
       "      <td>0.511196</td>\n",
       "      <td>0.765265</td>\n",
       "      <td>0.765285</td>\n",
       "      <td>0.163210</td>\n",
       "    </tr>\n",
       "    <tr>\n",
       "      <th>M9-S2 Tries</th>\n",
       "      <td>NaN</td>\n",
       "      <td>NaN</td>\n",
       "      <td>NaN</td>\n",
       "      <td>NaN</td>\n",
       "      <td>NaN</td>\n",
       "      <td>NaN</td>\n",
       "      <td>NaN</td>\n",
       "      <td>NaN</td>\n",
       "      <td>NaN</td>\n",
       "      <td>NaN</td>\n",
       "      <td>...</td>\n",
       "      <td>NaN</td>\n",
       "      <td>NaN</td>\n",
       "      <td>NaN</td>\n",
       "      <td>NaN</td>\n",
       "      <td>NaN</td>\n",
       "      <td>NaN</td>\n",
       "      <td>NaN</td>\n",
       "      <td>NaN</td>\n",
       "      <td>NaN</td>\n",
       "      <td>NaN</td>\n",
       "    </tr>\n",
       "    <tr>\n",
       "      <th>M10-S1 Correct</th>\n",
       "      <td>0.209650</td>\n",
       "      <td>0.332742</td>\n",
       "      <td>0.651325</td>\n",
       "      <td>0.907993</td>\n",
       "      <td>0.543097</td>\n",
       "      <td>0.133721</td>\n",
       "      <td>0.133721</td>\n",
       "      <td>NaN</td>\n",
       "      <td>0.545631</td>\n",
       "      <td>0.301581</td>\n",
       "      <td>...</td>\n",
       "      <td>0.617378</td>\n",
       "      <td>NaN</td>\n",
       "      <td>0.947487</td>\n",
       "      <td>0.511196</td>\n",
       "      <td>0.511196</td>\n",
       "      <td>NaN</td>\n",
       "      <td>1.000000</td>\n",
       "      <td>0.454426</td>\n",
       "      <td>0.454378</td>\n",
       "      <td>0.335233</td>\n",
       "    </tr>\n",
       "    <tr>\n",
       "      <th>M10-S1 Wrong</th>\n",
       "      <td>0.194885</td>\n",
       "      <td>0.059618</td>\n",
       "      <td>0.326401</td>\n",
       "      <td>0.516088</td>\n",
       "      <td>0.290187</td>\n",
       "      <td>0.232083</td>\n",
       "      <td>0.232083</td>\n",
       "      <td>NaN</td>\n",
       "      <td>0.320975</td>\n",
       "      <td>0.313484</td>\n",
       "      <td>...</td>\n",
       "      <td>0.742526</td>\n",
       "      <td>NaN</td>\n",
       "      <td>0.543333</td>\n",
       "      <td>0.765265</td>\n",
       "      <td>0.765265</td>\n",
       "      <td>NaN</td>\n",
       "      <td>0.454426</td>\n",
       "      <td>1.000000</td>\n",
       "      <td>0.999968</td>\n",
       "      <td>0.132920</td>\n",
       "    </tr>\n",
       "    <tr>\n",
       "      <th>M10-S1 Tries</th>\n",
       "      <td>0.194881</td>\n",
       "      <td>0.059602</td>\n",
       "      <td>0.326623</td>\n",
       "      <td>0.516332</td>\n",
       "      <td>0.290374</td>\n",
       "      <td>0.232072</td>\n",
       "      <td>0.232072</td>\n",
       "      <td>NaN</td>\n",
       "      <td>0.321214</td>\n",
       "      <td>0.313460</td>\n",
       "      <td>...</td>\n",
       "      <td>0.742487</td>\n",
       "      <td>NaN</td>\n",
       "      <td>0.543572</td>\n",
       "      <td>0.765285</td>\n",
       "      <td>0.765285</td>\n",
       "      <td>NaN</td>\n",
       "      <td>0.454378</td>\n",
       "      <td>0.999968</td>\n",
       "      <td>1.000000</td>\n",
       "      <td>0.132972</td>\n",
       "    </tr>\n",
       "    <tr>\n",
       "      <th>M10-S2 Tries</th>\n",
       "      <td>0.099598</td>\n",
       "      <td>0.116299</td>\n",
       "      <td>0.235495</td>\n",
       "      <td>0.372292</td>\n",
       "      <td>0.247924</td>\n",
       "      <td>0.017480</td>\n",
       "      <td>0.017480</td>\n",
       "      <td>NaN</td>\n",
       "      <td>0.198558</td>\n",
       "      <td>0.116317</td>\n",
       "      <td>...</td>\n",
       "      <td>0.230424</td>\n",
       "      <td>NaN</td>\n",
       "      <td>0.331483</td>\n",
       "      <td>0.163210</td>\n",
       "      <td>0.163210</td>\n",
       "      <td>NaN</td>\n",
       "      <td>0.335233</td>\n",
       "      <td>0.132920</td>\n",
       "      <td>0.132972</td>\n",
       "      <td>1.000000</td>\n",
       "    </tr>\n",
       "  </tbody>\n",
       "</table>\n",
       "<p>44 rows × 44 columns</p>\n",
       "</div>"
      ],
      "text/plain": [
       "                     S/N  Bootcamp     Score  % Completed  M1-S1 Correct  \\\n",
       "S/N             1.000000  0.050296  0.418005     0.311434       0.439836   \n",
       "Bootcamp        0.050296  1.000000  0.243794     0.322563       0.198934   \n",
       "Score           0.418005  0.243794  1.000000     0.828956       0.901902   \n",
       "% Completed     0.311434  0.322563  0.828956     1.000000       0.725359   \n",
       "M1-S1 Correct   0.439836  0.198934  0.901902     0.725359       1.000000   \n",
       "M1-S1 Wrong     0.270719  0.011089  0.610764     0.317825       0.328963   \n",
       "M1-S1 Tries     0.270719  0.011089  0.610764     0.317825       0.328963   \n",
       "M1-S2 Tries          NaN       NaN       NaN          NaN            NaN   \n",
       "M2-S1 Correct   0.375611  0.192152  0.897635     0.737040       0.820096   \n",
       "M2-S1 Wrong     0.365756  0.072944  0.722747     0.514597       0.641107   \n",
       "M2-S1 Tries     0.365756  0.072944  0.722747     0.514597       0.641107   \n",
       "M2-S2 Tries     0.068510  0.022343  0.067698     0.100279       0.097602   \n",
       "M3-S1 Correct        NaN       NaN       NaN          NaN            NaN   \n",
       "M3-S1 Wrong     0.308972  0.058517  0.667270     0.533974       0.595186   \n",
       "M3-S1 Tries     0.309037  0.058476  0.667510     0.534056       0.595518   \n",
       "M3-S2 Tries     0.110873  0.088101  0.225855     0.332339       0.247229   \n",
       "M4-S1 Correct   0.213086  0.321340  0.668450     0.888222       0.561736   \n",
       "M4-S1 Wrong     0.248170  0.069576  0.427996     0.584312       0.380365   \n",
       "M4-S1 Tries     0.248369  0.069506  0.428591     0.585233       0.380697   \n",
       "M4-S2 Tries     0.060260  0.162746  0.212082     0.335774       0.203044   \n",
       "M5-S1 Correct   0.268103  0.295925  0.646387     0.905199       0.591148   \n",
       "M5-S1 Wrong     0.193730  0.003152  0.265235     0.387344       0.261081   \n",
       "M5-S1 Tries     0.193056  0.002950  0.267472     0.390537       0.262073   \n",
       "M5-S2 Tries     0.054949  0.099949  0.232072     0.377788       0.203944   \n",
       "M6-S1 Correct   0.235470  0.297417  0.643079     0.910189       0.552936   \n",
       "M6-S1 Wrong     0.216360  0.071569  0.312129     0.464372       0.334405   \n",
       "M6-S1 Tries          NaN       NaN       NaN          NaN            NaN   \n",
       "M6-S2 Tries     0.080696  0.230122  0.339499     0.497777       0.289016   \n",
       "M7-S1 Correct   0.205623  0.316125  0.603010     0.853724       0.519349   \n",
       "M7-S1 Wrong     0.183770  0.141841  0.436283     0.661323       0.364301   \n",
       "M7-S1 Tries     0.183767  0.141815  0.436585     0.661718       0.364583   \n",
       "M7-S2 Tries          NaN       NaN       NaN          NaN            NaN   \n",
       "M8-S1 Correct   0.228389  0.338814  0.650178     0.912151       0.562101   \n",
       "M8-S1 Wrong     0.219062  0.097173  0.440783     0.665213       0.379790   \n",
       "M8-S1 Tries     0.219062  0.097173  0.440783     0.665213       0.379790   \n",
       "M8-S2 Tries          NaN       NaN       NaN          NaN            NaN   \n",
       "M9-S1 Correct   0.232751  0.317111  0.658190     0.918891       0.561836   \n",
       "M9-S1 Wrong     0.202679  0.067467  0.376155     0.565812       0.313071   \n",
       "M9-S1 Tries     0.202679  0.067467  0.376155     0.565812       0.313071   \n",
       "M9-S2 Tries          NaN       NaN       NaN          NaN            NaN   \n",
       "M10-S1 Correct  0.209650  0.332742  0.651325     0.907993       0.543097   \n",
       "M10-S1 Wrong    0.194885  0.059618  0.326401     0.516088       0.290187   \n",
       "M10-S1 Tries    0.194881  0.059602  0.326623     0.516332       0.290374   \n",
       "M10-S2 Tries    0.099598  0.116299  0.235495     0.372292       0.247924   \n",
       "\n",
       "                M1-S1 Wrong  M1-S1 Tries  M1-S2 Tries  M2-S1 Correct  \\\n",
       "S/N                0.270719     0.270719          NaN       0.375611   \n",
       "Bootcamp           0.011089     0.011089          NaN       0.192152   \n",
       "Score              0.610764     0.610764          NaN       0.897635   \n",
       "% Completed        0.317825     0.317825          NaN       0.737040   \n",
       "M1-S1 Correct      0.328963     0.328963          NaN       0.820096   \n",
       "M1-S1 Wrong        1.000000     1.000000          NaN       0.552244   \n",
       "M1-S1 Tries        1.000000     1.000000          NaN       0.552244   \n",
       "M1-S2 Tries             NaN          NaN          NaN            NaN   \n",
       "M2-S1 Correct      0.552244     0.552244          NaN       1.000000   \n",
       "M2-S1 Wrong        0.659561     0.659561          NaN       0.634790   \n",
       "M2-S1 Tries        0.659561     0.659561          NaN       0.634790   \n",
       "M2-S2 Tries       -0.000020    -0.000020          NaN       0.056222   \n",
       "M3-S1 Correct           NaN          NaN          NaN            NaN   \n",
       "M3-S1 Wrong        0.543519     0.543519          NaN       0.683608   \n",
       "M3-S1 Tries        0.543490     0.543490          NaN       0.684075   \n",
       "M3-S2 Tries        0.023110     0.023110          NaN       0.203685   \n",
       "M4-S1 Correct      0.159166     0.159166          NaN       0.591334   \n",
       "M4-S1 Wrong        0.282461     0.282461          NaN       0.400111   \n",
       "M4-S1 Tries        0.282799     0.282799          NaN       0.400543   \n",
       "M4-S2 Tries        0.030938     0.030938          NaN       0.183788   \n",
       "M5-S1 Correct      0.124530     0.124530          NaN       0.548287   \n",
       "M5-S1 Wrong        0.190478     0.190478          NaN       0.232559   \n",
       "M5-S1 Tries        0.191279     0.191279          NaN       0.234756   \n",
       "M5-S2 Tries        0.045861     0.045861          NaN       0.205554   \n",
       "M6-S1 Correct      0.151779     0.151779          NaN       0.546134   \n",
       "M6-S1 Wrong        0.121254     0.121254          NaN       0.261703   \n",
       "M6-S1 Tries             NaN          NaN          NaN            NaN   \n",
       "M6-S2 Tries        0.036215     0.036215          NaN       0.274587   \n",
       "M7-S1 Correct      0.098421     0.098421          NaN       0.502667   \n",
       "M7-S1 Wrong        0.209355     0.209355          NaN       0.386774   \n",
       "M7-S1 Tries        0.209248     0.209248          NaN       0.386927   \n",
       "M7-S2 Tries             NaN          NaN          NaN            NaN   \n",
       "M8-S1 Correct      0.121663     0.121663          NaN       0.549047   \n",
       "M8-S1 Wrong        0.242600     0.242600          NaN       0.399580   \n",
       "M8-S1 Tries        0.242600     0.242600          NaN       0.399580   \n",
       "M8-S2 Tries             NaN          NaN          NaN            NaN   \n",
       "M9-S1 Correct      0.149616     0.149616          NaN       0.558557   \n",
       "M9-S1 Wrong        0.259709     0.259709          NaN       0.343637   \n",
       "M9-S1 Tries        0.259709     0.259709          NaN       0.343637   \n",
       "M9-S2 Tries             NaN          NaN          NaN            NaN   \n",
       "M10-S1 Correct     0.133721     0.133721          NaN       0.545631   \n",
       "M10-S1 Wrong       0.232083     0.232083          NaN       0.320975   \n",
       "M10-S1 Tries       0.232072     0.232072          NaN       0.321214   \n",
       "M10-S2 Tries       0.017480     0.017480          NaN       0.198558   \n",
       "\n",
       "                M2-S1 Wrong      ...       M8-S1 Tries  M8-S2 Tries  \\\n",
       "S/N                0.365756      ...          0.219062          NaN   \n",
       "Bootcamp           0.072944      ...          0.097173          NaN   \n",
       "Score              0.722747      ...          0.440783          NaN   \n",
       "% Completed        0.514597      ...          0.665213          NaN   \n",
       "M1-S1 Correct      0.641107      ...          0.379790          NaN   \n",
       "M1-S1 Wrong        0.659561      ...          0.242600          NaN   \n",
       "M1-S1 Tries        0.659561      ...          0.242600          NaN   \n",
       "M1-S2 Tries             NaN      ...               NaN          NaN   \n",
       "M2-S1 Correct      0.634790      ...          0.399580          NaN   \n",
       "M2-S1 Wrong        1.000000      ...          0.347342          NaN   \n",
       "M2-S1 Tries        1.000000      ...          0.347342          NaN   \n",
       "M2-S2 Tries        0.031884      ...          0.059849          NaN   \n",
       "M3-S1 Correct           NaN      ...               NaN          NaN   \n",
       "M3-S1 Wrong        0.701461      ...          0.373431          NaN   \n",
       "M3-S1 Tries        0.701344      ...          0.373308          NaN   \n",
       "M3-S2 Tries        0.113385      ...          0.158100          NaN   \n",
       "M4-S1 Correct      0.324507      ...          0.572170          NaN   \n",
       "M4-S1 Wrong        0.388475      ...          0.663670          NaN   \n",
       "M4-S1 Tries        0.388738      ...          0.663850          NaN   \n",
       "M4-S2 Tries        0.114443      ...          0.181146          NaN   \n",
       "M5-S1 Correct      0.320465      ...          0.630364          NaN   \n",
       "M5-S1 Wrong        0.281905      ...          0.521146          NaN   \n",
       "M5-S1 Tries        0.281535      ...          0.521526          NaN   \n",
       "M5-S2 Tries        0.118997      ...          0.175324          NaN   \n",
       "M6-S1 Correct      0.329521      ...          0.685739          NaN   \n",
       "M6-S1 Wrong        0.246398      ...          0.462851          NaN   \n",
       "M6-S1 Tries             NaN      ...               NaN          NaN   \n",
       "M6-S2 Tries        0.134394      ...          0.240374          NaN   \n",
       "M7-S1 Correct      0.270483      ...          0.556798          NaN   \n",
       "M7-S1 Wrong        0.321558      ...          0.745224          NaN   \n",
       "M7-S1 Tries        0.321743      ...          0.745142          NaN   \n",
       "M7-S2 Tries             NaN      ...               NaN          NaN   \n",
       "M8-S1 Correct      0.309524      ...          0.570427          NaN   \n",
       "M8-S1 Wrong        0.347342      ...          1.000000          NaN   \n",
       "M8-S1 Tries        0.347342      ...          1.000000          NaN   \n",
       "M8-S2 Tries             NaN      ...               NaN          NaN   \n",
       "M9-S1 Correct      0.327916      ...          0.681234          NaN   \n",
       "M9-S1 Wrong        0.343295      ...          0.793558          NaN   \n",
       "M9-S1 Tries        0.343295      ...          0.793558          NaN   \n",
       "M9-S2 Tries             NaN      ...               NaN          NaN   \n",
       "M10-S1 Correct     0.301581      ...          0.617378          NaN   \n",
       "M10-S1 Wrong       0.313484      ...          0.742526          NaN   \n",
       "M10-S1 Tries       0.313460      ...          0.742487          NaN   \n",
       "M10-S2 Tries       0.116317      ...          0.230424          NaN   \n",
       "\n",
       "                M9-S1 Correct  M9-S1 Wrong  M9-S1 Tries  M9-S2 Tries  \\\n",
       "S/N                  0.232751     0.202679     0.202679          NaN   \n",
       "Bootcamp             0.317111     0.067467     0.067467          NaN   \n",
       "Score                0.658190     0.376155     0.376155          NaN   \n",
       "% Completed          0.918891     0.565812     0.565812          NaN   \n",
       "M1-S1 Correct        0.561836     0.313071     0.313071          NaN   \n",
       "M1-S1 Wrong          0.149616     0.259709     0.259709          NaN   \n",
       "M1-S1 Tries          0.149616     0.259709     0.259709          NaN   \n",
       "M1-S2 Tries               NaN          NaN          NaN          NaN   \n",
       "M2-S1 Correct        0.558557     0.343637     0.343637          NaN   \n",
       "M2-S1 Wrong          0.327916     0.343295     0.343295          NaN   \n",
       "M2-S1 Tries          0.327916     0.343295     0.343295          NaN   \n",
       "M2-S2 Tries          0.070201     0.032625     0.032625          NaN   \n",
       "M3-S1 Correct             NaN          NaN          NaN          NaN   \n",
       "M3-S1 Wrong          0.362909     0.343042     0.343042          NaN   \n",
       "M3-S1 Tries          0.362763     0.342928     0.342928          NaN   \n",
       "M3-S2 Tries          0.277994     0.107255     0.107255          NaN   \n",
       "M4-S1 Correct        0.871280     0.477764     0.477764          NaN   \n",
       "M4-S1 Wrong          0.526550     0.635000     0.635000          NaN   \n",
       "M4-S1 Tries          0.527270     0.635512     0.635512          NaN   \n",
       "M4-S2 Tries          0.297360     0.124029     0.124029          NaN   \n",
       "M5-S1 Correct        0.873160     0.506610     0.506610          NaN   \n",
       "M5-S1 Wrong          0.350467     0.510792     0.510792          NaN   \n",
       "M5-S1 Tries          0.353879     0.510332     0.510332          NaN   \n",
       "M5-S2 Tries          0.342148     0.148725     0.148725          NaN   \n",
       "M6-S1 Correct        0.910717     0.578096     0.578096          NaN   \n",
       "M6-S1 Wrong          0.409106     0.435293     0.435293          NaN   \n",
       "M6-S1 Tries               NaN          NaN          NaN          NaN   \n",
       "M6-S2 Tries          0.457650     0.181014     0.181014          NaN   \n",
       "M7-S1 Correct        0.862210     0.451821     0.451821          NaN   \n",
       "M7-S1 Wrong          0.676989     0.688015     0.688015          NaN   \n",
       "M7-S1 Tries          0.677428     0.687940     0.687940          NaN   \n",
       "M7-S2 Tries               NaN          NaN          NaN          NaN   \n",
       "M8-S1 Correct        0.951820     0.530187     0.530187          NaN   \n",
       "M8-S1 Wrong          0.681234     0.793558     0.793558          NaN   \n",
       "M8-S1 Tries          0.681234     0.793558     0.793558          NaN   \n",
       "M8-S2 Tries               NaN          NaN          NaN          NaN   \n",
       "M9-S1 Correct        1.000000     0.575835     0.575835          NaN   \n",
       "M9-S1 Wrong          0.575835     1.000000     1.000000          NaN   \n",
       "M9-S1 Tries          0.575835     1.000000     1.000000          NaN   \n",
       "M9-S2 Tries               NaN          NaN          NaN          NaN   \n",
       "M10-S1 Correct       0.947487     0.511196     0.511196          NaN   \n",
       "M10-S1 Wrong         0.543333     0.765265     0.765265          NaN   \n",
       "M10-S1 Tries         0.543572     0.765285     0.765285          NaN   \n",
       "M10-S2 Tries         0.331483     0.163210     0.163210          NaN   \n",
       "\n",
       "                M10-S1 Correct  M10-S1 Wrong  M10-S1 Tries  M10-S2 Tries  \n",
       "S/N                   0.209650      0.194885      0.194881      0.099598  \n",
       "Bootcamp              0.332742      0.059618      0.059602      0.116299  \n",
       "Score                 0.651325      0.326401      0.326623      0.235495  \n",
       "% Completed           0.907993      0.516088      0.516332      0.372292  \n",
       "M1-S1 Correct         0.543097      0.290187      0.290374      0.247924  \n",
       "M1-S1 Wrong           0.133721      0.232083      0.232072      0.017480  \n",
       "M1-S1 Tries           0.133721      0.232083      0.232072      0.017480  \n",
       "M1-S2 Tries                NaN           NaN           NaN           NaN  \n",
       "M2-S1 Correct         0.545631      0.320975      0.321214      0.198558  \n",
       "M2-S1 Wrong           0.301581      0.313484      0.313460      0.116317  \n",
       "M2-S1 Tries           0.301581      0.313484      0.313460      0.116317  \n",
       "M2-S2 Tries           0.061084      0.028732      0.028727      0.093557  \n",
       "M3-S1 Correct              NaN           NaN           NaN           NaN  \n",
       "M3-S1 Wrong           0.335081      0.351587      0.351552      0.113596  \n",
       "M3-S1 Tries           0.334943      0.351478      0.351444      0.113547  \n",
       "M3-S2 Tries           0.277472      0.093352      0.093407      0.211741  \n",
       "M4-S1 Correct         0.870984      0.451476      0.451722      0.293034  \n",
       "M4-S1 Wrong           0.470774      0.620671      0.620676      0.172376  \n",
       "M4-S1 Tries           0.471387      0.621484      0.621489      0.172557  \n",
       "M4-S2 Tries           0.304212      0.094381      0.094429      0.268557  \n",
       "M5-S1 Correct         0.856104      0.471602      0.471808      0.389685  \n",
       "M5-S1 Wrong           0.289320      0.488779      0.488753      0.134275  \n",
       "M5-S1 Tries           0.293158      0.488049      0.488023      0.134935  \n",
       "M5-S2 Tries           0.357923      0.114928      0.114943      0.230310  \n",
       "M6-S1 Correct         0.892681      0.542891      0.543124      0.339078  \n",
       "M6-S1 Wrong           0.366078      0.391118      0.391091      0.249472  \n",
       "M6-S1 Tries                NaN           NaN           NaN           NaN  \n",
       "M6-S2 Tries           0.473664      0.132321      0.132434      0.245212  \n",
       "M7-S1 Correct         0.855888      0.412125      0.412436      0.331605  \n",
       "M7-S1 Wrong           0.630200      0.673771      0.673734      0.221566  \n",
       "M7-S1 Tries           0.630632      0.673802      0.673765      0.221655  \n",
       "M7-S2 Tries                NaN           NaN           NaN           NaN  \n",
       "M8-S1 Correct         0.931893      0.489683      0.489977      0.339763  \n",
       "M8-S1 Wrong           0.617378      0.742526      0.742487      0.230424  \n",
       "M8-S1 Tries           0.617378      0.742526      0.742487      0.230424  \n",
       "M8-S2 Tries                NaN           NaN           NaN           NaN  \n",
       "M9-S1 Correct         0.947487      0.543333      0.543572      0.331483  \n",
       "M9-S1 Wrong           0.511196      0.765265      0.765285      0.163210  \n",
       "M9-S1 Tries           0.511196      0.765265      0.765285      0.163210  \n",
       "M9-S2 Tries                NaN           NaN           NaN           NaN  \n",
       "M10-S1 Correct        1.000000      0.454426      0.454378      0.335233  \n",
       "M10-S1 Wrong          0.454426      1.000000      0.999968      0.132920  \n",
       "M10-S1 Tries          0.454378      0.999968      1.000000      0.132972  \n",
       "M10-S2 Tries          0.335233      0.132920      0.132972      1.000000  \n",
       "\n",
       "[44 rows x 44 columns]"
      ]
     },
     "execution_count": 10,
     "metadata": {},
     "output_type": "execute_result"
    }
   ],
   "source": [
    "df.corr()"
   ]
  },
  {
   "cell_type": "code",
   "execution_count": 11,
   "metadata": {
    "collapsed": false
   },
   "outputs": [
    {
     "data": {
      "text/html": [
       "<div>\n",
       "<table border=\"1\" class=\"dataframe\">\n",
       "  <thead>\n",
       "    <tr style=\"text-align: right;\">\n",
       "      <th></th>\n",
       "      <th>S/N</th>\n",
       "      <th>Joined Proctor on</th>\n",
       "      <th>Stage</th>\n",
       "      <th>Bootcamp</th>\n",
       "      <th>Score</th>\n",
       "      <th>% Score</th>\n",
       "      <th>% Completed</th>\n",
       "      <th>M1-S1 Correct</th>\n",
       "      <th>M1-S1 Wrong</th>\n",
       "      <th>M1-S1 Tries</th>\n",
       "      <th>...</th>\n",
       "      <th>M8-S1 Tries</th>\n",
       "      <th>M8-S2 Tries</th>\n",
       "      <th>M9-S1 Correct</th>\n",
       "      <th>M9-S1 Wrong</th>\n",
       "      <th>M9-S1 Tries</th>\n",
       "      <th>M9-S2 Tries</th>\n",
       "      <th>M10-S1 Correct</th>\n",
       "      <th>M10-S1 Wrong</th>\n",
       "      <th>M10-S1 Tries</th>\n",
       "      <th>M10-S2 Tries</th>\n",
       "    </tr>\n",
       "  </thead>\n",
       "  <tbody>\n",
       "    <tr>\n",
       "      <th>0</th>\n",
       "      <td>1</td>\n",
       "      <td>2015-12-29</td>\n",
       "      <td>Andela Proctor</td>\n",
       "      <td>False</td>\n",
       "      <td>113</td>\n",
       "      <td>56.50%</td>\n",
       "      <td>20</td>\n",
       "      <td>3</td>\n",
       "      <td>3</td>\n",
       "      <td>3</td>\n",
       "      <td>...</td>\n",
       "      <td>0</td>\n",
       "      <td>0</td>\n",
       "      <td>0</td>\n",
       "      <td>0</td>\n",
       "      <td>0</td>\n",
       "      <td>0</td>\n",
       "      <td>0</td>\n",
       "      <td>0</td>\n",
       "      <td>0</td>\n",
       "      <td>0</td>\n",
=======
>>>>>>> add decision tree
       "    </tr>\n",
       "    <tr>\n",
       "      <th>M8-S1 Wrong</th>\n",
       "      <td>0.219062</td>\n",
       "      <td>0.097173</td>\n",
       "      <td>0.440783</td>\n",
       "      <td>0.665213</td>\n",
       "      <td>0.379790</td>\n",
       "      <td>0.242600</td>\n",
       "      <td>0.242600</td>\n",
       "      <td>NaN</td>\n",
       "      <td>0.399580</td>\n",
       "      <td>0.347342</td>\n",
       "      <td>...</td>\n",
       "      <td>1.000000</td>\n",
       "      <td>NaN</td>\n",
       "      <td>0.681234</td>\n",
       "      <td>0.793558</td>\n",
       "      <td>0.793558</td>\n",
       "      <td>NaN</td>\n",
       "      <td>0.617378</td>\n",
       "      <td>0.742526</td>\n",
       "      <td>0.742487</td>\n",
       "      <td>0.230424</td>\n",
       "    </tr>\n",
       "    <tr>\n",
       "      <th>M8-S1 Tries</th>\n",
       "      <td>0.219062</td>\n",
       "      <td>0.097173</td>\n",
       "      <td>0.440783</td>\n",
       "      <td>0.665213</td>\n",
       "      <td>0.379790</td>\n",
       "      <td>0.242600</td>\n",
       "      <td>0.242600</td>\n",
       "      <td>NaN</td>\n",
       "      <td>0.399580</td>\n",
       "      <td>0.347342</td>\n",
       "      <td>...</td>\n",
       "      <td>1.000000</td>\n",
       "      <td>NaN</td>\n",
       "      <td>0.681234</td>\n",
       "      <td>0.793558</td>\n",
       "      <td>0.793558</td>\n",
       "      <td>NaN</td>\n",
       "      <td>0.617378</td>\n",
       "      <td>0.742526</td>\n",
       "      <td>0.742487</td>\n",
       "      <td>0.230424</td>\n",
       "    </tr>\n",
       "    <tr>\n",
       "      <th>M8-S2 Tries</th>\n",
       "      <td>NaN</td>\n",
       "      <td>NaN</td>\n",
       "      <td>NaN</td>\n",
       "      <td>NaN</td>\n",
       "      <td>NaN</td>\n",
       "      <td>NaN</td>\n",
       "      <td>NaN</td>\n",
       "      <td>NaN</td>\n",
       "      <td>NaN</td>\n",
       "      <td>NaN</td>\n",
       "      <td>...</td>\n",
       "      <td>NaN</td>\n",
       "      <td>NaN</td>\n",
       "      <td>NaN</td>\n",
       "      <td>NaN</td>\n",
       "      <td>NaN</td>\n",
       "      <td>NaN</td>\n",
       "      <td>NaN</td>\n",
       "      <td>NaN</td>\n",
       "      <td>NaN</td>\n",
       "      <td>NaN</td>\n",
       "    </tr>\n",
       "    <tr>\n",
       "      <th>M9-S1 Correct</th>\n",
       "      <td>0.232751</td>\n",
       "      <td>0.317111</td>\n",
       "      <td>0.658190</td>\n",
       "      <td>0.918891</td>\n",
       "      <td>0.561836</td>\n",
       "      <td>0.149616</td>\n",
       "      <td>0.149616</td>\n",
       "      <td>NaN</td>\n",
       "      <td>0.558557</td>\n",
       "      <td>0.327916</td>\n",
       "      <td>...</td>\n",
<<<<<<< HEAD
       "      <td>0</td>\n",
       "      <td>0</td>\n",
       "      <td>0</td>\n",
       "      <td>0</td>\n",
       "      <td>0</td>\n",
       "      <td>0</td>\n",
       "      <td>0</td>\n",
       "      <td>0</td>\n",
       "      <td>0</td>\n",
       "      <td>0</td>\n",
       "    </tr>\n",
       "  </tbody>\n",
       "</table>\n",
       "<p>5 rows × 47 columns</p>\n",
       "</div>"
      ],
      "text/plain": [
       "   S/N Joined Proctor on           Stage Bootcamp  Score % Score  % Completed  \\\n",
       "0    1        2015-12-29  Andela Proctor    False    113  56.50%           20   \n",
       "1    2        2015-12-29  Andela Proctor    False    104  52.00%           13   \n",
       "2    3        2015-12-29         Plum.io    False    113  56.50%          100   \n",
       "3    4        2015-12-29  Andela Proctor    False      0   0.00%            0   \n",
       "4    5        2015-12-29  Andela Proctor    False      0   0.00%            0   \n",
       "\n",
       "   M1-S1 Correct  M1-S1 Wrong  M1-S1 Tries      ...       M8-S1 Tries  \\\n",
       "0              3            3            3      ...                 0   \n",
       "1              3            3            3      ...                 0   \n",
       "2              1            5            5      ...                 4   \n",
       "3              0            0            0      ...                 0   \n",
       "4              0            0            0      ...                 0   \n",
       "\n",
       "   M8-S2 Tries  M9-S1 Correct  M9-S1 Wrong  M9-S1 Tries  M9-S2 Tries  \\\n",
       "0            0              0            0            0            0   \n",
       "1            0              0            0            0            0   \n",
       "2            0              9           10           10            0   \n",
       "3            0              0            0            0            0   \n",
       "4            0              0            0            0            0   \n",
       "\n",
       "   M10-S1 Correct  M10-S1 Wrong  M10-S1 Tries  M10-S2 Tries  \n",
       "0               0             0             0             0  \n",
       "1               0             0             0             0  \n",
       "2              13            30            30             1  \n",
       "3               0             0             0             0  \n",
       "4               0             0             0             0  \n",
       "\n",
       "[5 rows x 47 columns]"
      ]
     },
     "execution_count": 11,
     "metadata": {},
     "output_type": "execute_result"
    }
   ],
   "source": [
    "df.head(5)"
   ]
  },
  {
   "cell_type": "markdown",
   "metadata": {},
   "source": [
    "Dropping the highly correlated columns."
   ]
  },
  {
   "cell_type": "code",
   "execution_count": 12,
   "metadata": {
    "collapsed": false
   },
   "outputs": [],
   "source": [
    "del df['S/N']\n",
    "del df['Joined Proctor on']\n",
    "del df['M1-S1 Wrong']\n",
    "del df['M2-S1 Wrong']\n",
    "del df['M3-S1 Wrong']\n",
    "del df['M4-S1 Wrong']\n",
    "del df['M5-S1 Wrong']\n",
    "del df['M6-S1 Wrong']\n",
    "del df['M7-S1 Wrong']\n",
    "del df['M8-S1 Wrong']\n",
    "del df['M9-S1 Wrong']\n",
    "del df['M10-S1 Wrong']\n",
    "del df['M1-S1 Correct']\n",
    "del df['M2-S1 Correct']\n",
    "del df['M3-S1 Correct'] # Zero data\n",
    "del df['M4-S1 Correct']\n",
    "del df['M5-S1 Correct']\n",
    "del df['M6-S1 Correct']\n",
    "del df['M7-S1 Correct']\n",
    "del df['M8-S1 Correct']\n",
    "del df['M9-S1 Correct']\n",
    "del df['M10-S1 Correct']\n",
    "#del df['M1-S1 Tries']\n",
    "#del df['M2-S1 Tries']\n",
    "#del df['M3-S1 Tries']\n",
    "#del df['M4-S1 Tries']\n",
    "#del df['M5-S1 Tries']\n",
    "del df['M6-S1 Tries'] # Zero data\n",
    "#del df['M7-S1 Tries']\n",
    "#del df['M8-S1 Tries']\n",
    "#del df['M9-S1 Tries']\n",
    "#del df['M10-S1 Tries']\n",
    "del df['M1-S2 Tries'] # Zero data\n",
    "#del df['M2-S2 Tries']\n",
    "#del df['M3-S2 Tries']\n",
    "#del df['M4-S2 Tries']\n",
    "#del df['M5-S2 Tries']\n",
    "#del df['M6-S2 Tries']\n",
    "del df['M7-S2 Tries'] # Zero data\n",
    "del df['M8-S2 Tries'] # Zero data\n",
    "del df['M9-S2 Tries'] # Zero data\n",
    "#del df['M10-S2 Tries']\n",
    "del df['% Score']\n",
    "#del df['Score']\n",
    "del df['% Completed']"
   ]
  },
  {
   "cell_type": "code",
   "execution_count": 13,
   "metadata": {
    "collapsed": false
   },
   "outputs": [
    {
     "data": {
      "text/html": [
       "<div>\n",
       "<table border=\"1\" class=\"dataframe\">\n",
       "  <thead>\n",
       "    <tr style=\"text-align: right;\">\n",
       "      <th></th>\n",
       "      <th>Stage</th>\n",
       "      <th>Bootcamp</th>\n",
       "      <th>Score</th>\n",
       "      <th>M1-S1 Tries</th>\n",
       "      <th>M2-S1 Tries</th>\n",
       "      <th>M2-S2 Tries</th>\n",
       "      <th>M3-S1 Tries</th>\n",
       "      <th>M3-S2 Tries</th>\n",
       "      <th>M4-S1 Tries</th>\n",
       "      <th>M4-S2 Tries</th>\n",
       "      <th>M5-S1 Tries</th>\n",
       "      <th>M5-S2 Tries</th>\n",
       "      <th>M6-S2 Tries</th>\n",
       "      <th>M7-S1 Tries</th>\n",
       "      <th>M8-S1 Tries</th>\n",
       "      <th>M9-S1 Tries</th>\n",
       "      <th>M10-S1 Tries</th>\n",
       "      <th>M10-S2 Tries</th>\n",
=======
       "      <td>0.681234</td>\n",
       "      <td>NaN</td>\n",
       "      <td>1.000000</td>\n",
       "      <td>0.575835</td>\n",
       "      <td>0.575835</td>\n",
       "      <td>NaN</td>\n",
       "      <td>0.947487</td>\n",
       "      <td>0.543333</td>\n",
       "      <td>0.543572</td>\n",
       "      <td>0.331483</td>\n",
>>>>>>> add decision tree
       "    </tr>\n",
       "    <tr>\n",
<<<<<<< HEAD
       "      <th>0</th>\n",
       "      <td>Andela Proctor</td>\n",
       "      <td>False</td>\n",
       "      <td>113</td>\n",
       "      <td>3</td>\n",
       "      <td>3</td>\n",
       "      <td>0</td>\n",
       "      <td>1</td>\n",
       "      <td>0</td>\n",
       "      <td>0</td>\n",
       "      <td>0</td>\n",
       "      <td>0</td>\n",
       "      <td>0</td>\n",
       "      <td>0</td>\n",
       "      <td>0</td>\n",
       "      <td>0</td>\n",
       "      <td>0</td>\n",
       "      <td>0</td>\n",
       "      <td>0</td>\n",
       "    </tr>\n",
       "    <tr>\n",
       "      <th>1</th>\n",
       "      <td>Andela Proctor</td>\n",
       "      <td>False</td>\n",
       "      <td>104</td>\n",
       "      <td>3</td>\n",
       "      <td>6</td>\n",
       "      <td>0</td>\n",
       "      <td>0</td>\n",
       "      <td>0</td>\n",
       "      <td>0</td>\n",
       "      <td>0</td>\n",
       "      <td>0</td>\n",
       "      <td>0</td>\n",
       "      <td>0</td>\n",
       "      <td>0</td>\n",
       "      <td>0</td>\n",
       "      <td>0</td>\n",
       "      <td>0</td>\n",
       "      <td>0</td>\n",
       "    </tr>\n",
       "    <tr>\n",
       "      <th>2</th>\n",
       "      <td>Plum.io</td>\n",
       "      <td>False</td>\n",
       "      <td>113</td>\n",
       "      <td>5</td>\n",
       "      <td>7</td>\n",
       "      <td>0</td>\n",
       "      <td>6</td>\n",
       "      <td>1</td>\n",
       "      <td>10</td>\n",
       "      <td>1</td>\n",
       "      <td>3</td>\n",
       "      <td>1</td>\n",
       "      <td>1</td>\n",
       "      <td>4</td>\n",
       "      <td>4</td>\n",
       "      <td>10</td>\n",
       "      <td>30</td>\n",
       "      <td>1</td>\n",
       "    </tr>\n",
       "    <tr>\n",
       "      <th>3</th>\n",
       "      <td>Andela Proctor</td>\n",
       "      <td>False</td>\n",
       "      <td>0</td>\n",
       "      <td>0</td>\n",
       "      <td>0</td>\n",
       "      <td>0</td>\n",
       "      <td>0</td>\n",
       "      <td>0</td>\n",
       "      <td>0</td>\n",
       "      <td>0</td>\n",
       "      <td>0</td>\n",
       "      <td>0</td>\n",
       "      <td>0</td>\n",
       "      <td>0</td>\n",
       "      <td>0</td>\n",
       "      <td>0</td>\n",
       "      <td>0</td>\n",
       "      <td>0</td>\n",
       "    </tr>\n",
       "    <tr>\n",
       "      <th>4</th>\n",
       "      <td>Andela Proctor</td>\n",
       "      <td>False</td>\n",
       "      <td>0</td>\n",
       "      <td>0</td>\n",
       "      <td>0</td>\n",
       "      <td>0</td>\n",
       "      <td>0</td>\n",
       "      <td>0</td>\n",
       "      <td>0</td>\n",
       "      <td>0</td>\n",
       "      <td>0</td>\n",
       "      <td>0</td>\n",
       "      <td>0</td>\n",
       "      <td>0</td>\n",
       "      <td>0</td>\n",
       "      <td>0</td>\n",
       "      <td>0</td>\n",
       "      <td>0</td>\n",
       "    </tr>\n",
       "  </tbody>\n",
       "</table>\n",
       "</div>"
      ],
      "text/plain": [
       "            Stage Bootcamp  Score  M1-S1 Tries  M2-S1 Tries  M2-S2 Tries  \\\n",
       "0  Andela Proctor    False    113            3            3            0   \n",
       "1  Andela Proctor    False    104            3            6            0   \n",
       "2         Plum.io    False    113            5            7            0   \n",
       "3  Andela Proctor    False      0            0            0            0   \n",
       "4  Andela Proctor    False      0            0            0            0   \n",
       "\n",
       "   M3-S1 Tries  M3-S2 Tries  M4-S1 Tries  M4-S2 Tries  M5-S1 Tries  \\\n",
       "0            1            0            0            0            0   \n",
       "1            0            0            0            0            0   \n",
       "2            6            1           10            1            3   \n",
       "3            0            0            0            0            0   \n",
       "4            0            0            0            0            0   \n",
       "\n",
       "   M5-S2 Tries  M6-S2 Tries  M7-S1 Tries  M8-S1 Tries  M9-S1 Tries  \\\n",
       "0            0            0            0            0            0   \n",
       "1            0            0            0            0            0   \n",
       "2            1            1            4            4           10   \n",
       "3            0            0            0            0            0   \n",
       "4            0            0            0            0            0   \n",
       "\n",
       "   M10-S1 Tries  M10-S2 Tries  \n",
       "0             0             0  \n",
       "1             0             0  \n",
       "2            30             1  \n",
       "3             0             0  \n",
       "4             0             0  "
      ]
     },
     "execution_count": 13,
=======
       "      <th>M9-S1 Wrong</th>\n",
       "      <td>0.202679</td>\n",
       "      <td>0.067467</td>\n",
       "      <td>0.376155</td>\n",
       "      <td>0.565812</td>\n",
       "      <td>0.313071</td>\n",
       "      <td>0.259709</td>\n",
       "      <td>0.259709</td>\n",
       "      <td>NaN</td>\n",
       "      <td>0.343637</td>\n",
       "      <td>0.343295</td>\n",
       "      <td>...</td>\n",
       "      <td>0.793558</td>\n",
       "      <td>NaN</td>\n",
       "      <td>0.575835</td>\n",
       "      <td>1.000000</td>\n",
       "      <td>1.000000</td>\n",
       "      <td>NaN</td>\n",
       "      <td>0.511196</td>\n",
       "      <td>0.765265</td>\n",
       "      <td>0.765285</td>\n",
       "      <td>0.163210</td>\n",
       "    </tr>\n",
       "    <tr>\n",
       "      <th>M9-S1 Tries</th>\n",
       "      <td>0.202679</td>\n",
       "      <td>0.067467</td>\n",
       "      <td>0.376155</td>\n",
       "      <td>0.565812</td>\n",
       "      <td>0.313071</td>\n",
       "      <td>0.259709</td>\n",
       "      <td>0.259709</td>\n",
       "      <td>NaN</td>\n",
       "      <td>0.343637</td>\n",
       "      <td>0.343295</td>\n",
       "      <td>...</td>\n",
       "      <td>0.793558</td>\n",
       "      <td>NaN</td>\n",
       "      <td>0.575835</td>\n",
       "      <td>1.000000</td>\n",
       "      <td>1.000000</td>\n",
       "      <td>NaN</td>\n",
       "      <td>0.511196</td>\n",
       "      <td>0.765265</td>\n",
       "      <td>0.765285</td>\n",
       "      <td>0.163210</td>\n",
       "    </tr>\n",
       "    <tr>\n",
       "      <th>M9-S2 Tries</th>\n",
       "      <td>NaN</td>\n",
       "      <td>NaN</td>\n",
       "      <td>NaN</td>\n",
       "      <td>NaN</td>\n",
       "      <td>NaN</td>\n",
       "      <td>NaN</td>\n",
       "      <td>NaN</td>\n",
       "      <td>NaN</td>\n",
       "      <td>NaN</td>\n",
       "      <td>NaN</td>\n",
       "      <td>...</td>\n",
       "      <td>NaN</td>\n",
       "      <td>NaN</td>\n",
       "      <td>NaN</td>\n",
       "      <td>NaN</td>\n",
       "      <td>NaN</td>\n",
       "      <td>NaN</td>\n",
       "      <td>NaN</td>\n",
       "      <td>NaN</td>\n",
       "      <td>NaN</td>\n",
       "      <td>NaN</td>\n",
       "    </tr>\n",
       "    <tr>\n",
       "      <th>M10-S1 Correct</th>\n",
       "      <td>0.209650</td>\n",
       "      <td>0.332742</td>\n",
       "      <td>0.651325</td>\n",
       "      <td>0.907993</td>\n",
       "      <td>0.543097</td>\n",
       "      <td>0.133721</td>\n",
       "      <td>0.133721</td>\n",
       "      <td>NaN</td>\n",
       "      <td>0.545631</td>\n",
       "      <td>0.301581</td>\n",
       "      <td>...</td>\n",
       "      <td>0.617378</td>\n",
       "      <td>NaN</td>\n",
       "      <td>0.947487</td>\n",
       "      <td>0.511196</td>\n",
       "      <td>0.511196</td>\n",
       "      <td>NaN</td>\n",
       "      <td>1.000000</td>\n",
       "      <td>0.454426</td>\n",
       "      <td>0.454378</td>\n",
       "      <td>0.335233</td>\n",
       "    </tr>\n",
       "    <tr>\n",
       "      <th>M10-S1 Wrong</th>\n",
       "      <td>0.194885</td>\n",
       "      <td>0.059618</td>\n",
       "      <td>0.326401</td>\n",
       "      <td>0.516088</td>\n",
       "      <td>0.290187</td>\n",
       "      <td>0.232083</td>\n",
       "      <td>0.232083</td>\n",
       "      <td>NaN</td>\n",
       "      <td>0.320975</td>\n",
       "      <td>0.313484</td>\n",
       "      <td>...</td>\n",
       "      <td>0.742526</td>\n",
       "      <td>NaN</td>\n",
       "      <td>0.543333</td>\n",
       "      <td>0.765265</td>\n",
       "      <td>0.765265</td>\n",
       "      <td>NaN</td>\n",
       "      <td>0.454426</td>\n",
       "      <td>1.000000</td>\n",
       "      <td>0.999968</td>\n",
       "      <td>0.132920</td>\n",
       "    </tr>\n",
       "    <tr>\n",
       "      <th>M10-S1 Tries</th>\n",
       "      <td>0.194881</td>\n",
       "      <td>0.059602</td>\n",
       "      <td>0.326623</td>\n",
       "      <td>0.516332</td>\n",
       "      <td>0.290374</td>\n",
       "      <td>0.232072</td>\n",
       "      <td>0.232072</td>\n",
       "      <td>NaN</td>\n",
       "      <td>0.321214</td>\n",
       "      <td>0.313460</td>\n",
       "      <td>...</td>\n",
       "      <td>0.742487</td>\n",
       "      <td>NaN</td>\n",
       "      <td>0.543572</td>\n",
       "      <td>0.765285</td>\n",
       "      <td>0.765285</td>\n",
       "      <td>NaN</td>\n",
       "      <td>0.454378</td>\n",
       "      <td>0.999968</td>\n",
       "      <td>1.000000</td>\n",
       "      <td>0.132972</td>\n",
       "    </tr>\n",
       "    <tr>\n",
       "      <th>M10-S2 Tries</th>\n",
       "      <td>0.099598</td>\n",
       "      <td>0.116299</td>\n",
       "      <td>0.235495</td>\n",
       "      <td>0.372292</td>\n",
       "      <td>0.247924</td>\n",
       "      <td>0.017480</td>\n",
       "      <td>0.017480</td>\n",
       "      <td>NaN</td>\n",
       "      <td>0.198558</td>\n",
       "      <td>0.116317</td>\n",
       "      <td>...</td>\n",
       "      <td>0.230424</td>\n",
       "      <td>NaN</td>\n",
       "      <td>0.331483</td>\n",
       "      <td>0.163210</td>\n",
       "      <td>0.163210</td>\n",
       "      <td>NaN</td>\n",
       "      <td>0.335233</td>\n",
       "      <td>0.132920</td>\n",
       "      <td>0.132972</td>\n",
       "      <td>1.000000</td>\n",
       "    </tr>\n",
       "  </tbody>\n",
       "</table>\n",
       "<p>44 rows × 44 columns</p>\n",
       "</div>"
      ],
      "text/plain": [
       "                     S/N  Bootcamp     Score  % Completed  M1-S1 Correct  \\\n",
       "S/N             1.000000  0.050296  0.418005     0.311434       0.439836   \n",
       "Bootcamp        0.050296  1.000000  0.243794     0.322563       0.198934   \n",
       "Score           0.418005  0.243794  1.000000     0.828956       0.901902   \n",
       "% Completed     0.311434  0.322563  0.828956     1.000000       0.725359   \n",
       "M1-S1 Correct   0.439836  0.198934  0.901902     0.725359       1.000000   \n",
       "M1-S1 Wrong     0.270719  0.011089  0.610764     0.317825       0.328963   \n",
       "M1-S1 Tries     0.270719  0.011089  0.610764     0.317825       0.328963   \n",
       "M1-S2 Tries          NaN       NaN       NaN          NaN            NaN   \n",
       "M2-S1 Correct   0.375611  0.192152  0.897635     0.737040       0.820096   \n",
       "M2-S1 Wrong     0.365756  0.072944  0.722747     0.514597       0.641107   \n",
       "M2-S1 Tries     0.365756  0.072944  0.722747     0.514597       0.641107   \n",
       "M2-S2 Tries     0.068510  0.022343  0.067698     0.100279       0.097602   \n",
       "M3-S1 Correct        NaN       NaN       NaN          NaN            NaN   \n",
       "M3-S1 Wrong     0.308972  0.058517  0.667270     0.533974       0.595186   \n",
       "M3-S1 Tries     0.309037  0.058476  0.667510     0.534056       0.595518   \n",
       "M3-S2 Tries     0.110873  0.088101  0.225855     0.332339       0.247229   \n",
       "M4-S1 Correct   0.213086  0.321340  0.668450     0.888222       0.561736   \n",
       "M4-S1 Wrong     0.248170  0.069576  0.427996     0.584312       0.380365   \n",
       "M4-S1 Tries     0.248369  0.069506  0.428591     0.585233       0.380697   \n",
       "M4-S2 Tries     0.060260  0.162746  0.212082     0.335774       0.203044   \n",
       "M5-S1 Correct   0.268103  0.295925  0.646387     0.905199       0.591148   \n",
       "M5-S1 Wrong     0.193730  0.003152  0.265235     0.387344       0.261081   \n",
       "M5-S1 Tries     0.193056  0.002950  0.267472     0.390537       0.262073   \n",
       "M5-S2 Tries     0.054949  0.099949  0.232072     0.377788       0.203944   \n",
       "M6-S1 Correct   0.235470  0.297417  0.643079     0.910189       0.552936   \n",
       "M6-S1 Wrong     0.216360  0.071569  0.312129     0.464372       0.334405   \n",
       "M6-S1 Tries          NaN       NaN       NaN          NaN            NaN   \n",
       "M6-S2 Tries     0.080696  0.230122  0.339499     0.497777       0.289016   \n",
       "M7-S1 Correct   0.205623  0.316125  0.603010     0.853724       0.519349   \n",
       "M7-S1 Wrong     0.183770  0.141841  0.436283     0.661323       0.364301   \n",
       "M7-S1 Tries     0.183767  0.141815  0.436585     0.661718       0.364583   \n",
       "M7-S2 Tries          NaN       NaN       NaN          NaN            NaN   \n",
       "M8-S1 Correct   0.228389  0.338814  0.650178     0.912151       0.562101   \n",
       "M8-S1 Wrong     0.219062  0.097173  0.440783     0.665213       0.379790   \n",
       "M8-S1 Tries     0.219062  0.097173  0.440783     0.665213       0.379790   \n",
       "M8-S2 Tries          NaN       NaN       NaN          NaN            NaN   \n",
       "M9-S1 Correct   0.232751  0.317111  0.658190     0.918891       0.561836   \n",
       "M9-S1 Wrong     0.202679  0.067467  0.376155     0.565812       0.313071   \n",
       "M9-S1 Tries     0.202679  0.067467  0.376155     0.565812       0.313071   \n",
       "M9-S2 Tries          NaN       NaN       NaN          NaN            NaN   \n",
       "M10-S1 Correct  0.209650  0.332742  0.651325     0.907993       0.543097   \n",
       "M10-S1 Wrong    0.194885  0.059618  0.326401     0.516088       0.290187   \n",
       "M10-S1 Tries    0.194881  0.059602  0.326623     0.516332       0.290374   \n",
       "M10-S2 Tries    0.099598  0.116299  0.235495     0.372292       0.247924   \n",
       "\n",
       "                M1-S1 Wrong  M1-S1 Tries  M1-S2 Tries  M2-S1 Correct  \\\n",
       "S/N                0.270719     0.270719          NaN       0.375611   \n",
       "Bootcamp           0.011089     0.011089          NaN       0.192152   \n",
       "Score              0.610764     0.610764          NaN       0.897635   \n",
       "% Completed        0.317825     0.317825          NaN       0.737040   \n",
       "M1-S1 Correct      0.328963     0.328963          NaN       0.820096   \n",
       "M1-S1 Wrong        1.000000     1.000000          NaN       0.552244   \n",
       "M1-S1 Tries        1.000000     1.000000          NaN       0.552244   \n",
       "M1-S2 Tries             NaN          NaN          NaN            NaN   \n",
       "M2-S1 Correct      0.552244     0.552244          NaN       1.000000   \n",
       "M2-S1 Wrong        0.659561     0.659561          NaN       0.634790   \n",
       "M2-S1 Tries        0.659561     0.659561          NaN       0.634790   \n",
       "M2-S2 Tries       -0.000020    -0.000020          NaN       0.056222   \n",
       "M3-S1 Correct           NaN          NaN          NaN            NaN   \n",
       "M3-S1 Wrong        0.543519     0.543519          NaN       0.683608   \n",
       "M3-S1 Tries        0.543490     0.543490          NaN       0.684075   \n",
       "M3-S2 Tries        0.023110     0.023110          NaN       0.203685   \n",
       "M4-S1 Correct      0.159166     0.159166          NaN       0.591334   \n",
       "M4-S1 Wrong        0.282461     0.282461          NaN       0.400111   \n",
       "M4-S1 Tries        0.282799     0.282799          NaN       0.400543   \n",
       "M4-S2 Tries        0.030938     0.030938          NaN       0.183788   \n",
       "M5-S1 Correct      0.124530     0.124530          NaN       0.548287   \n",
       "M5-S1 Wrong        0.190478     0.190478          NaN       0.232559   \n",
       "M5-S1 Tries        0.191279     0.191279          NaN       0.234756   \n",
       "M5-S2 Tries        0.045861     0.045861          NaN       0.205554   \n",
       "M6-S1 Correct      0.151779     0.151779          NaN       0.546134   \n",
       "M6-S1 Wrong        0.121254     0.121254          NaN       0.261703   \n",
       "M6-S1 Tries             NaN          NaN          NaN            NaN   \n",
       "M6-S2 Tries        0.036215     0.036215          NaN       0.274587   \n",
       "M7-S1 Correct      0.098421     0.098421          NaN       0.502667   \n",
       "M7-S1 Wrong        0.209355     0.209355          NaN       0.386774   \n",
       "M7-S1 Tries        0.209248     0.209248          NaN       0.386927   \n",
       "M7-S2 Tries             NaN          NaN          NaN            NaN   \n",
       "M8-S1 Correct      0.121663     0.121663          NaN       0.549047   \n",
       "M8-S1 Wrong        0.242600     0.242600          NaN       0.399580   \n",
       "M8-S1 Tries        0.242600     0.242600          NaN       0.399580   \n",
       "M8-S2 Tries             NaN          NaN          NaN            NaN   \n",
       "M9-S1 Correct      0.149616     0.149616          NaN       0.558557   \n",
       "M9-S1 Wrong        0.259709     0.259709          NaN       0.343637   \n",
       "M9-S1 Tries        0.259709     0.259709          NaN       0.343637   \n",
       "M9-S2 Tries             NaN          NaN          NaN            NaN   \n",
       "M10-S1 Correct     0.133721     0.133721          NaN       0.545631   \n",
       "M10-S1 Wrong       0.232083     0.232083          NaN       0.320975   \n",
       "M10-S1 Tries       0.232072     0.232072          NaN       0.321214   \n",
       "M10-S2 Tries       0.017480     0.017480          NaN       0.198558   \n",
       "\n",
       "                M2-S1 Wrong      ...       M8-S1 Tries  M8-S2 Tries  \\\n",
       "S/N                0.365756      ...          0.219062          NaN   \n",
       "Bootcamp           0.072944      ...          0.097173          NaN   \n",
       "Score              0.722747      ...          0.440783          NaN   \n",
       "% Completed        0.514597      ...          0.665213          NaN   \n",
       "M1-S1 Correct      0.641107      ...          0.379790          NaN   \n",
       "M1-S1 Wrong        0.659561      ...          0.242600          NaN   \n",
       "M1-S1 Tries        0.659561      ...          0.242600          NaN   \n",
       "M1-S2 Tries             NaN      ...               NaN          NaN   \n",
       "M2-S1 Correct      0.634790      ...          0.399580          NaN   \n",
       "M2-S1 Wrong        1.000000      ...          0.347342          NaN   \n",
       "M2-S1 Tries        1.000000      ...          0.347342          NaN   \n",
       "M2-S2 Tries        0.031884      ...          0.059849          NaN   \n",
       "M3-S1 Correct           NaN      ...               NaN          NaN   \n",
       "M3-S1 Wrong        0.701461      ...          0.373431          NaN   \n",
       "M3-S1 Tries        0.701344      ...          0.373308          NaN   \n",
       "M3-S2 Tries        0.113385      ...          0.158100          NaN   \n",
       "M4-S1 Correct      0.324507      ...          0.572170          NaN   \n",
       "M4-S1 Wrong        0.388475      ...          0.663670          NaN   \n",
       "M4-S1 Tries        0.388738      ...          0.663850          NaN   \n",
       "M4-S2 Tries        0.114443      ...          0.181146          NaN   \n",
       "M5-S1 Correct      0.320465      ...          0.630364          NaN   \n",
       "M5-S1 Wrong        0.281905      ...          0.521146          NaN   \n",
       "M5-S1 Tries        0.281535      ...          0.521526          NaN   \n",
       "M5-S2 Tries        0.118997      ...          0.175324          NaN   \n",
       "M6-S1 Correct      0.329521      ...          0.685739          NaN   \n",
       "M6-S1 Wrong        0.246398      ...          0.462851          NaN   \n",
       "M6-S1 Tries             NaN      ...               NaN          NaN   \n",
       "M6-S2 Tries        0.134394      ...          0.240374          NaN   \n",
       "M7-S1 Correct      0.270483      ...          0.556798          NaN   \n",
       "M7-S1 Wrong        0.321558      ...          0.745224          NaN   \n",
       "M7-S1 Tries        0.321743      ...          0.745142          NaN   \n",
       "M7-S2 Tries             NaN      ...               NaN          NaN   \n",
       "M8-S1 Correct      0.309524      ...          0.570427          NaN   \n",
       "M8-S1 Wrong        0.347342      ...          1.000000          NaN   \n",
       "M8-S1 Tries        0.347342      ...          1.000000          NaN   \n",
       "M8-S2 Tries             NaN      ...               NaN          NaN   \n",
       "M9-S1 Correct      0.327916      ...          0.681234          NaN   \n",
       "M9-S1 Wrong        0.343295      ...          0.793558          NaN   \n",
       "M9-S1 Tries        0.343295      ...          0.793558          NaN   \n",
       "M9-S2 Tries             NaN      ...               NaN          NaN   \n",
       "M10-S1 Correct     0.301581      ...          0.617378          NaN   \n",
       "M10-S1 Wrong       0.313484      ...          0.742526          NaN   \n",
       "M10-S1 Tries       0.313460      ...          0.742487          NaN   \n",
       "M10-S2 Tries       0.116317      ...          0.230424          NaN   \n",
       "\n",
       "                M9-S1 Correct  M9-S1 Wrong  M9-S1 Tries  M9-S2 Tries  \\\n",
       "S/N                  0.232751     0.202679     0.202679          NaN   \n",
       "Bootcamp             0.317111     0.067467     0.067467          NaN   \n",
       "Score                0.658190     0.376155     0.376155          NaN   \n",
       "% Completed          0.918891     0.565812     0.565812          NaN   \n",
       "M1-S1 Correct        0.561836     0.313071     0.313071          NaN   \n",
       "M1-S1 Wrong          0.149616     0.259709     0.259709          NaN   \n",
       "M1-S1 Tries          0.149616     0.259709     0.259709          NaN   \n",
       "M1-S2 Tries               NaN          NaN          NaN          NaN   \n",
       "M2-S1 Correct        0.558557     0.343637     0.343637          NaN   \n",
       "M2-S1 Wrong          0.327916     0.343295     0.343295          NaN   \n",
       "M2-S1 Tries          0.327916     0.343295     0.343295          NaN   \n",
       "M2-S2 Tries          0.070201     0.032625     0.032625          NaN   \n",
       "M3-S1 Correct             NaN          NaN          NaN          NaN   \n",
       "M3-S1 Wrong          0.362909     0.343042     0.343042          NaN   \n",
       "M3-S1 Tries          0.362763     0.342928     0.342928          NaN   \n",
       "M3-S2 Tries          0.277994     0.107255     0.107255          NaN   \n",
       "M4-S1 Correct        0.871280     0.477764     0.477764          NaN   \n",
       "M4-S1 Wrong          0.526550     0.635000     0.635000          NaN   \n",
       "M4-S1 Tries          0.527270     0.635512     0.635512          NaN   \n",
       "M4-S2 Tries          0.297360     0.124029     0.124029          NaN   \n",
       "M5-S1 Correct        0.873160     0.506610     0.506610          NaN   \n",
       "M5-S1 Wrong          0.350467     0.510792     0.510792          NaN   \n",
       "M5-S1 Tries          0.353879     0.510332     0.510332          NaN   \n",
       "M5-S2 Tries          0.342148     0.148725     0.148725          NaN   \n",
       "M6-S1 Correct        0.910717     0.578096     0.578096          NaN   \n",
       "M6-S1 Wrong          0.409106     0.435293     0.435293          NaN   \n",
       "M6-S1 Tries               NaN          NaN          NaN          NaN   \n",
       "M6-S2 Tries          0.457650     0.181014     0.181014          NaN   \n",
       "M7-S1 Correct        0.862210     0.451821     0.451821          NaN   \n",
       "M7-S1 Wrong          0.676989     0.688015     0.688015          NaN   \n",
       "M7-S1 Tries          0.677428     0.687940     0.687940          NaN   \n",
       "M7-S2 Tries               NaN          NaN          NaN          NaN   \n",
       "M8-S1 Correct        0.951820     0.530187     0.530187          NaN   \n",
       "M8-S1 Wrong          0.681234     0.793558     0.793558          NaN   \n",
       "M8-S1 Tries          0.681234     0.793558     0.793558          NaN   \n",
       "M8-S2 Tries               NaN          NaN          NaN          NaN   \n",
       "M9-S1 Correct        1.000000     0.575835     0.575835          NaN   \n",
       "M9-S1 Wrong          0.575835     1.000000     1.000000          NaN   \n",
       "M9-S1 Tries          0.575835     1.000000     1.000000          NaN   \n",
       "M9-S2 Tries               NaN          NaN          NaN          NaN   \n",
       "M10-S1 Correct       0.947487     0.511196     0.511196          NaN   \n",
       "M10-S1 Wrong         0.543333     0.765265     0.765265          NaN   \n",
       "M10-S1 Tries         0.543572     0.765285     0.765285          NaN   \n",
       "M10-S2 Tries         0.331483     0.163210     0.163210          NaN   \n",
       "\n",
       "                M10-S1 Correct  M10-S1 Wrong  M10-S1 Tries  M10-S2 Tries  \n",
       "S/N                   0.209650      0.194885      0.194881      0.099598  \n",
       "Bootcamp              0.332742      0.059618      0.059602      0.116299  \n",
       "Score                 0.651325      0.326401      0.326623      0.235495  \n",
       "% Completed           0.907993      0.516088      0.516332      0.372292  \n",
       "M1-S1 Correct         0.543097      0.290187      0.290374      0.247924  \n",
       "M1-S1 Wrong           0.133721      0.232083      0.232072      0.017480  \n",
       "M1-S1 Tries           0.133721      0.232083      0.232072      0.017480  \n",
       "M1-S2 Tries                NaN           NaN           NaN           NaN  \n",
       "M2-S1 Correct         0.545631      0.320975      0.321214      0.198558  \n",
       "M2-S1 Wrong           0.301581      0.313484      0.313460      0.116317  \n",
       "M2-S1 Tries           0.301581      0.313484      0.313460      0.116317  \n",
       "M2-S2 Tries           0.061084      0.028732      0.028727      0.093557  \n",
       "M3-S1 Correct              NaN           NaN           NaN           NaN  \n",
       "M3-S1 Wrong           0.335081      0.351587      0.351552      0.113596  \n",
       "M3-S1 Tries           0.334943      0.351478      0.351444      0.113547  \n",
       "M3-S2 Tries           0.277472      0.093352      0.093407      0.211741  \n",
       "M4-S1 Correct         0.870984      0.451476      0.451722      0.293034  \n",
       "M4-S1 Wrong           0.470774      0.620671      0.620676      0.172376  \n",
       "M4-S1 Tries           0.471387      0.621484      0.621489      0.172557  \n",
       "M4-S2 Tries           0.304212      0.094381      0.094429      0.268557  \n",
       "M5-S1 Correct         0.856104      0.471602      0.471808      0.389685  \n",
       "M5-S1 Wrong           0.289320      0.488779      0.488753      0.134275  \n",
       "M5-S1 Tries           0.293158      0.488049      0.488023      0.134935  \n",
       "M5-S2 Tries           0.357923      0.114928      0.114943      0.230310  \n",
       "M6-S1 Correct         0.892681      0.542891      0.543124      0.339078  \n",
       "M6-S1 Wrong           0.366078      0.391118      0.391091      0.249472  \n",
       "M6-S1 Tries                NaN           NaN           NaN           NaN  \n",
       "M6-S2 Tries           0.473664      0.132321      0.132434      0.245212  \n",
       "M7-S1 Correct         0.855888      0.412125      0.412436      0.331605  \n",
       "M7-S1 Wrong           0.630200      0.673771      0.673734      0.221566  \n",
       "M7-S1 Tries           0.630632      0.673802      0.673765      0.221655  \n",
       "M7-S2 Tries                NaN           NaN           NaN           NaN  \n",
       "M8-S1 Correct         0.931893      0.489683      0.489977      0.339763  \n",
       "M8-S1 Wrong           0.617378      0.742526      0.742487      0.230424  \n",
       "M8-S1 Tries           0.617378      0.742526      0.742487      0.230424  \n",
       "M8-S2 Tries                NaN           NaN           NaN           NaN  \n",
       "M9-S1 Correct         0.947487      0.543333      0.543572      0.331483  \n",
       "M9-S1 Wrong           0.511196      0.765265      0.765285      0.163210  \n",
       "M9-S1 Tries           0.511196      0.765265      0.765285      0.163210  \n",
       "M9-S2 Tries                NaN           NaN           NaN           NaN  \n",
       "M10-S1 Correct        1.000000      0.454426      0.454378      0.335233  \n",
       "M10-S1 Wrong          0.454426      1.000000      0.999968      0.132920  \n",
       "M10-S1 Tries          0.454378      0.999968      1.000000      0.132972  \n",
       "M10-S2 Tries          0.335233      0.132920      0.132972      1.000000  \n",
       "\n",
       "[44 rows x 44 columns]"
      ]
     },
     "execution_count": 163,
>>>>>>> add decision tree
     "metadata": {},
     "output_type": "execute_result"
    }
   ],
   "source": [
    "df.corr()"
   ]
  },
  {
   "cell_type": "code",
   "execution_count": 164,
   "metadata": {
    "collapsed": false
   },
   "outputs": [],
   "source": [
    "# df.head(5)"
   ]
  },
  {
   "cell_type": "markdown",
   "metadata": {},
   "source": [
    "Dropping the highly correlated columns."
   ]
  },
  {
   "cell_type": "code",
   "execution_count": 165,
   "metadata": {
    "collapsed": false
   },
   "outputs": [],
   "source": [
    "del df['M1-S1 Wrong']\n",
    "del df['M2-S1 Wrong']\n",
    "del df['M3-S1 Wrong']\n",
    "del df['M4-S1 Wrong']\n",
    "del df['M5-S1 Wrong']\n",
    "del df['M6-S1 Wrong']\n",
    "del df['M7-S1 Wrong']\n",
    "del df['M8-S1 Wrong']\n",
    "del df['M9-S1 Wrong']\n",
    "del df['M10-S1 Wrong']\n",
    "del df['M1-S1 Correct']\n",
    "del df['M2-S1 Correct']\n",
    "del df['M3-S1 Correct']\n",
    "del df['M4-S1 Correct']\n",
    "del df['M5-S1 Correct']\n",
    "del df['M6-S1 Correct']\n",
    "del df['M7-S1 Correct']\n",
    "del df['M8-S1 Correct']\n",
    "del df['M9-S1 Correct']\n",
    "del df['M10-S1 Correct']\n",
    "del df['% Completed']"
   ]
  },
  {
   "cell_type": "code",
   "execution_count": 166,
   "metadata": {
    "collapsed": false
   },
   "outputs": [],
   "source": [
    "# df.head(5)"
   ]
  },
  {
   "cell_type": "markdown",
   "metadata": {},
   "source": [
    "Check for additional correlations"
   ]
  },
  {
   "cell_type": "code",
<<<<<<< HEAD
   "execution_count": 14,
=======
   "execution_count": 167,
>>>>>>> add decision tree
   "metadata": {
    "collapsed": false
   },
   "outputs": [
    {
     "data": {
<<<<<<< HEAD
      "image/png": "iVBORw0KGgoAAAANSUhEUgAAA9wAAAN8CAYAAACqTKLzAAAABHNCSVQICAgIfAhkiAAAAAlwSFlz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\nAAAAExC4AQAAYAL/H0byvYi9EevXAAAAAElFTkSuQmCC\n",
      "text/plain": [
       "<matplotlib.figure.Figure at 0x108e04c88>"
=======
      "image/png": "iVBORw0KGgoAAAANSUhEUgAABo0AAAY1CAYAAAD3opfEAAAABHNCSVQICAgIfAhkiAAAAAlwSFlz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\n",
      "text/plain": [
       "<matplotlib.figure.Figure at 0x10ddbf7f0>"
>>>>>>> add decision tree
      ]
     },
     "metadata": {},
     "output_type": "display_data"
    }
   ],
   "source": [
    "plot_corr(df)"
   ]
  },
  {
   "cell_type": "markdown",
   "metadata": {},
   "source": [
    "Number of correlated columns highly reduced. (Perhaps remove more? Consider)"
   ]
  },
  {
   "cell_type": "markdown",
   "metadata": {},
   "source": [
    "## Mold Data"
   ]
  },
  {
   "cell_type": "markdown",
   "metadata": {},
   "source": [
    "### Data Types\n",
    "\n",
    "Inspect data types to see if there are any issues.  Data should be numeric."
   ]
  },
  {
   "cell_type": "code",
<<<<<<< HEAD
   "execution_count": 15,
=======
   "execution_count": 168,
>>>>>>> add decision tree
   "metadata": {
    "collapsed": false
   },
   "outputs": [
    {
     "data": {
      "text/html": [
       "<div>\n",
       "<table border=\"1\" class=\"dataframe\">\n",
       "  <thead>\n",
       "    <tr style=\"text-align: right;\">\n",
       "      <th></th>\n",
       "      <th>Stage</th>\n",
       "      <th>Bootcamp</th>\n",
       "      <th>Score</th>\n",
       "      <th>M1-S1 Tries</th>\n",
       "      <th>M2-S1 Tries</th>\n",
       "      <th>M2-S2 Tries</th>\n",
       "      <th>M3-S1 Tries</th>\n",
       "      <th>M3-S2 Tries</th>\n",
       "      <th>M4-S1 Tries</th>\n",
       "      <th>M4-S2 Tries</th>\n",
       "      <th>M5-S1 Tries</th>\n",
       "      <th>M5-S2 Tries</th>\n",
       "      <th>M6-S2 Tries</th>\n",
       "      <th>M7-S1 Tries</th>\n",
       "      <th>M8-S1 Tries</th>\n",
       "      <th>M9-S1 Tries</th>\n",
       "      <th>M10-S1 Tries</th>\n",
       "      <th>M10-S2 Tries</th>\n",
       "    </tr>\n",
       "  </thead>\n",
       "  <tbody>\n",
       "    <tr>\n",
       "      <th>0</th>\n",
       "      <td>Andela Proctor</td>\n",
       "      <td>False</td>\n",
       "      <td>113</td>\n",
       "      <td>3</td>\n",
       "      <td>3</td>\n",
       "      <td>0</td>\n",
       "      <td>1</td>\n",
       "      <td>0</td>\n",
       "      <td>0</td>\n",
       "      <td>0</td>\n",
       "      <td>0</td>\n",
       "      <td>0</td>\n",
       "      <td>0</td>\n",
       "      <td>0</td>\n",
       "      <td>0</td>\n",
       "      <td>0</td>\n",
       "      <td>0</td>\n",
       "      <td>0</td>\n",
       "    </tr>\n",
       "    <tr>\n",
       "      <th>1</th>\n",
       "      <td>Andela Proctor</td>\n",
       "      <td>False</td>\n",
       "      <td>104</td>\n",
       "      <td>3</td>\n",
       "      <td>6</td>\n",
       "      <td>0</td>\n",
       "      <td>0</td>\n",
       "      <td>0</td>\n",
       "      <td>0</td>\n",
       "      <td>0</td>\n",
       "      <td>0</td>\n",
       "      <td>0</td>\n",
       "      <td>0</td>\n",
       "      <td>0</td>\n",
       "      <td>0</td>\n",
       "      <td>0</td>\n",
       "      <td>0</td>\n",
       "      <td>0</td>\n",
       "    </tr>\n",
       "    <tr>\n",
       "      <th>2</th>\n",
       "      <td>Plum.io</td>\n",
       "      <td>False</td>\n",
       "      <td>113</td>\n",
       "      <td>5</td>\n",
       "      <td>7</td>\n",
       "      <td>0</td>\n",
       "      <td>6</td>\n",
       "      <td>1</td>\n",
       "      <td>10</td>\n",
       "      <td>1</td>\n",
       "      <td>3</td>\n",
       "      <td>1</td>\n",
       "      <td>1</td>\n",
       "      <td>4</td>\n",
       "      <td>4</td>\n",
       "      <td>10</td>\n",
       "      <td>30</td>\n",
       "      <td>1</td>\n",
       "    </tr>\n",
       "    <tr>\n",
       "      <th>3</th>\n",
       "      <td>Andela Proctor</td>\n",
       "      <td>False</td>\n",
       "      <td>0</td>\n",
       "      <td>0</td>\n",
       "      <td>0</td>\n",
       "      <td>0</td>\n",
       "      <td>0</td>\n",
       "      <td>0</td>\n",
       "      <td>0</td>\n",
       "      <td>0</td>\n",
       "      <td>0</td>\n",
       "      <td>0</td>\n",
       "      <td>0</td>\n",
       "      <td>0</td>\n",
       "      <td>0</td>\n",
       "      <td>0</td>\n",
       "      <td>0</td>\n",
       "      <td>0</td>\n",
       "    </tr>\n",
       "    <tr>\n",
       "      <th>4</th>\n",
       "      <td>Andela Proctor</td>\n",
       "      <td>False</td>\n",
       "      <td>0</td>\n",
       "      <td>0</td>\n",
       "      <td>0</td>\n",
       "      <td>0</td>\n",
       "      <td>0</td>\n",
       "      <td>0</td>\n",
       "      <td>0</td>\n",
       "      <td>0</td>\n",
       "      <td>0</td>\n",
       "      <td>0</td>\n",
       "      <td>0</td>\n",
       "      <td>0</td>\n",
       "      <td>0</td>\n",
       "      <td>0</td>\n",
       "      <td>0</td>\n",
       "      <td>0</td>\n",
       "    </tr>\n",
       "  </tbody>\n",
       "</table>\n",
       "</div>"
      ],
      "text/plain": [
       "            Stage Bootcamp  Score  M1-S1 Tries  M2-S1 Tries  M2-S2 Tries  \\\n",
       "0  Andela Proctor    False    113            3            3            0   \n",
       "1  Andela Proctor    False    104            3            6            0   \n",
       "2         Plum.io    False    113            5            7            0   \n",
       "3  Andela Proctor    False      0            0            0            0   \n",
       "4  Andela Proctor    False      0            0            0            0   \n",
       "\n",
       "   M3-S1 Tries  M3-S2 Tries  M4-S1 Tries  M4-S2 Tries  M5-S1 Tries  \\\n",
       "0            1            0            0            0            0   \n",
       "1            0            0            0            0            0   \n",
       "2            6            1           10            1            3   \n",
       "3            0            0            0            0            0   \n",
       "4            0            0            0            0            0   \n",
       "\n",
       "   M5-S2 Tries  M6-S2 Tries  M7-S1 Tries  M8-S1 Tries  M9-S1 Tries  \\\n",
       "0            0            0            0            0            0   \n",
       "1            0            0            0            0            0   \n",
       "2            1            1            4            4           10   \n",
       "3            0            0            0            0            0   \n",
       "4            0            0            0            0            0   \n",
       "\n",
       "   M10-S1 Tries  M10-S2 Tries  \n",
       "0             0             0  \n",
       "1             0             0  \n",
       "2            30             1  \n",
       "3             0             0  \n",
       "4             0             0  "
      ]
     },
<<<<<<< HEAD
     "execution_count": 15,
=======
     "execution_count": 168,
>>>>>>> add decision tree
     "metadata": {},
     "output_type": "execute_result"
    }
   ],
   "source": [
    "df.head(5)"
   ]
  },
  {
   "cell_type": "markdown",
   "metadata": {},
   "source": [
    "Change boolean to integer, True=1, False=0\n",
    "\n",
    "Change Stage to integer, 'Offer'=0, everything else is 0\n",
    "\n",
    "Remove irrelevant columns 'Joined Proctor on' and 'S/N'\n",
    "\n",
    "Remove % sign from '% Score' column"
   ]
  },
  {
   "cell_type": "code",
<<<<<<< HEAD
   "execution_count": 16,
=======
   "execution_count": 169,
>>>>>>> add decision tree
   "metadata": {
    "collapsed": false
   },
   "outputs": [],
   "source": [
    "bootcamp_map = {True : 1, False : 0}\n",
    "df['Bootcamp'] = df['Bootcamp'].map(bootcamp_map)\n",
    "\n",
    "#stage_map = { \n",
    "#    'n/a': 0, 'Plum.io': 1, 'Andela Proctor': 2, 'Application Review': 3, 'Unqualified Candidates': 4, \n",
    "#    'Admissions Committee': 5, 'Face to Face': 6, 'Bootcamp Scheduling': 7, 'Bootcamp Week 1': 8, \n",
    "#    'Cut from Bootcamp Week 1': 8, 'Dropped out of Bootcamp': 9, 'Boot Camp Week 2': 10, 'Pre- Fellowship': 11, \n",
    "#    'Offer': 12\n",
    "#}\n",
    "stage_map = { \n",
    "    'n/a': 0, 'Plum.io': 0, 'Andela Proctor': 0, 'Application Review': 0, 'Unqualified Candidates': 0, \n",
    "    'Admissions Committee': 0, 'Face to Face': 0, 'Bootcamp Scheduling': 0, 'Bootcamp Week 1': 0, \n",
    "    'Cut from Bootcamp Week 1': 0, 'Dropped out of Bootcamp': 0, 'Boot Camp Week 2': 0, 'Pre- Fellowship': 0, \n",
    "    'Offer': 1\n",
    "}\n",
    "df['Stage'] = df['Stage'].map(stage_map)\n",
    "\n",
    "# del df['Joined Proctor on']\n",
    "# del df['S/N']\n",
    "\n",
    "# def cut_it(x):\n",
    "#     return float(x[:-1])\n",
    "# df['% Score'] = df['% Score'].map(cut_it)"
   ]
  },
  {
   "cell_type": "markdown",
   "metadata": {},
   "source": [
    "Verify that all data is now numeric"
   ]
  },
  {
   "cell_type": "markdown",
   "metadata": {},
   "source": [
    "     \n",
    "     \n",
    "     \n",
    "     \n",
    "     \n",
    "     \n",
    "     \n",
    "     \n",
    "     \n",
    "     \n",
    "     \n",
    "     \n",
    "     \n",
    "     \n",
    "     \n",
    "     "
   ]
  },
  {
   "cell_type": "code",
<<<<<<< HEAD
   "execution_count": 17,
=======
   "execution_count": 170,
>>>>>>> add decision tree
   "metadata": {
    "collapsed": false
   },
   "outputs": [
    {
     "data": {
      "text/html": [
       "<div>\n",
       "<table border=\"1\" class=\"dataframe\">\n",
       "  <thead>\n",
       "    <tr style=\"text-align: right;\">\n",
       "      <th></th>\n",
       "      <th>Stage</th>\n",
       "      <th>Bootcamp</th>\n",
       "      <th>Score</th>\n",
       "      <th>M1-S1 Tries</th>\n",
       "      <th>M2-S1 Tries</th>\n",
       "      <th>M2-S2 Tries</th>\n",
       "      <th>M3-S1 Tries</th>\n",
       "      <th>M3-S2 Tries</th>\n",
       "      <th>M4-S1 Tries</th>\n",
       "      <th>M4-S2 Tries</th>\n",
       "      <th>M5-S1 Tries</th>\n",
       "      <th>M5-S2 Tries</th>\n",
       "      <th>M6-S2 Tries</th>\n",
       "      <th>M7-S1 Tries</th>\n",
       "      <th>M8-S1 Tries</th>\n",
       "      <th>M9-S1 Tries</th>\n",
       "      <th>M10-S1 Tries</th>\n",
       "      <th>M10-S2 Tries</th>\n",
       "    </tr>\n",
       "  </thead>\n",
       "  <tbody>\n",
       "    <tr>\n",
       "      <th>0</th>\n",
       "      <td>0</td>\n",
       "      <td>0</td>\n",
       "      <td>113</td>\n",
       "      <td>3</td>\n",
       "      <td>3</td>\n",
       "      <td>0</td>\n",
       "      <td>1</td>\n",
       "      <td>0</td>\n",
       "      <td>0</td>\n",
       "      <td>0</td>\n",
       "      <td>0</td>\n",
       "      <td>0</td>\n",
       "      <td>0</td>\n",
       "      <td>0</td>\n",
       "      <td>0</td>\n",
       "      <td>0</td>\n",
       "      <td>0</td>\n",
       "      <td>0</td>\n",
       "    </tr>\n",
       "    <tr>\n",
       "      <th>1</th>\n",
       "      <td>0</td>\n",
       "      <td>0</td>\n",
       "      <td>104</td>\n",
       "      <td>3</td>\n",
       "      <td>6</td>\n",
       "      <td>0</td>\n",
       "      <td>0</td>\n",
       "      <td>0</td>\n",
       "      <td>0</td>\n",
       "      <td>0</td>\n",
       "      <td>0</td>\n",
       "      <td>0</td>\n",
       "      <td>0</td>\n",
       "      <td>0</td>\n",
       "      <td>0</td>\n",
       "      <td>0</td>\n",
       "      <td>0</td>\n",
       "      <td>0</td>\n",
       "    </tr>\n",
       "    <tr>\n",
       "      <th>2</th>\n",
       "      <td>0</td>\n",
       "      <td>0</td>\n",
       "      <td>113</td>\n",
       "      <td>5</td>\n",
       "      <td>7</td>\n",
       "      <td>0</td>\n",
       "      <td>6</td>\n",
       "      <td>1</td>\n",
       "      <td>10</td>\n",
       "      <td>1</td>\n",
       "      <td>3</td>\n",
       "      <td>1</td>\n",
       "      <td>1</td>\n",
       "      <td>4</td>\n",
       "      <td>4</td>\n",
       "      <td>10</td>\n",
       "      <td>30</td>\n",
       "      <td>1</td>\n",
       "    </tr>\n",
       "    <tr>\n",
       "      <th>3</th>\n",
<<<<<<< HEAD
=======
       "      <td>0</td>\n",
>>>>>>> add decision tree
       "      <td>0</td>\n",
       "      <td>0</td>\n",
       "      <td>0</td>\n",
       "      <td>0</td>\n",
       "      <td>0</td>\n",
       "      <td>0</td>\n",
       "      <td>0</td>\n",
       "      <td>0</td>\n",
       "      <td>0</td>\n",
       "      <td>0</td>\n",
       "      <td>0</td>\n",
       "      <td>0</td>\n",
       "      <td>0</td>\n",
       "      <td>0</td>\n",
       "      <td>0</td>\n",
       "      <td>0</td>\n",
       "      <td>0</td>\n",
       "      <td>0</td>\n",
       "    </tr>\n",
       "    <tr>\n",
       "      <th>4</th>\n",
<<<<<<< HEAD
=======
       "      <td>0</td>\n",
>>>>>>> add decision tree
       "      <td>0</td>\n",
       "      <td>0</td>\n",
       "      <td>0</td>\n",
       "      <td>0</td>\n",
       "      <td>0</td>\n",
       "      <td>0</td>\n",
       "      <td>0</td>\n",
       "      <td>0</td>\n",
       "      <td>0</td>\n",
       "      <td>0</td>\n",
       "      <td>0</td>\n",
       "      <td>0</td>\n",
       "      <td>0</td>\n",
       "      <td>0</td>\n",
       "      <td>0</td>\n",
       "      <td>0</td>\n",
       "      <td>0</td>\n",
       "      <td>0</td>\n",
       "    </tr>\n",
       "  </tbody>\n",
       "</table>\n",
       "</div>"
      ],
      "text/plain": [
<<<<<<< HEAD
       "   Stage  Bootcamp  Score  M1-S1 Tries  M2-S1 Tries  M2-S2 Tries  M3-S1 Tries  \\\n",
       "0      0         0    113            3            3            0            1   \n",
       "1      0         0    104            3            6            0            0   \n",
       "2      0         0    113            5            7            0            6   \n",
       "3      0         0      0            0            0            0            0   \n",
       "4      0         0      0            0            0            0            0   \n",
=======
       "   Stage  Bootcamp  Score  % Score  M1-S1 Tries  M1-S2 Tries  M2-S1 Tries  \\\n",
       "0      0         0    113     56.5            3            0            3   \n",
       "1      0         0    104     52.0            3            0            6   \n",
       "2      0         0    113     56.5            5            0            7   \n",
       "3      0         0      0      0.0            0            0            0   \n",
       "4      0         0      0      0.0            0            0            0   \n",
>>>>>>> add decision tree
       "\n",
       "   M3-S2 Tries  M4-S1 Tries  M4-S2 Tries  M5-S1 Tries  M5-S2 Tries  \\\n",
       "0            0            0            0            0            0   \n",
       "1            0            0            0            0            0   \n",
       "2            1           10            1            3            1   \n",
       "3            0            0            0            0            0   \n",
       "4            0            0            0            0            0   \n",
       "\n",
       "   M6-S2 Tries  M7-S1 Tries  M8-S1 Tries  M9-S1 Tries  M10-S1 Tries  \\\n",
       "0            0            0            0            0             0   \n",
       "1            0            0            0            0             0   \n",
       "2            1            4            4           10            30   \n",
       "3            0            0            0            0             0   \n",
       "4            0            0            0            0             0   \n",
       "\n",
       "   M10-S2 Tries  \n",
       "0             0  \n",
       "1             0  \n",
       "2             1  \n",
       "3             0  \n",
       "4             0  "
      ]
     },
<<<<<<< HEAD
     "execution_count": 17,
=======
     "execution_count": 170,
>>>>>>> add decision tree
     "metadata": {},
     "output_type": "execute_result"
    }
   ],
   "source": [
    "df.head(5)"
   ]
  },
  {
   "cell_type": "markdown",
   "metadata": {},
   "source": [
    "### Check for null values"
   ]
  },
  {
   "cell_type": "code",
<<<<<<< HEAD
   "execution_count": 18,
=======
   "execution_count": 171,
>>>>>>> add decision tree
   "metadata": {
    "collapsed": false
   },
   "outputs": [
    {
     "data": {
      "text/plain": [
       "False"
      ]
     },
<<<<<<< HEAD
     "execution_count": 18,
=======
     "execution_count": 171,
>>>>>>> add decision tree
     "metadata": {},
     "output_type": "execute_result"
    }
   ],
   "source": [
    "df.isnull().values.any()"
   ]
  },
  {
   "cell_type": "markdown",
   "metadata": {},
   "source": [
    "No obvious null values."
   ]
  },
  {
   "cell_type": "markdown",
   "metadata": {},
   "source": [
    "### Check class distribution \n",
    "\n",
    "Rare events are hard to predict"
   ]
  },
  {
   "cell_type": "code",
<<<<<<< HEAD
   "execution_count": 19,
=======
   "execution_count": 172,
>>>>>>> add decision tree
   "metadata": {
    "collapsed": false
   },
   "outputs": [
    {
     "name": "stdout",
     "output_type": "stream",
     "text": [
      "Number of Bootcampers:  125 (1.77%)\n",
      "Number of Accepted Applicants:  30 (0.42%)\n",
      "Number of Rejected Applicants: 7048 (99.58%)\n"
     ]
    }
   ],
   "source": [
    "num_applied = len(df)\n",
<<<<<<< HEAD
    "num_bootcamp = len(df.loc[df['Bootcamp'] == 1])\n",
    "num_accepted = len(df.loc[df['Stage'] == 1])\n",
    "num_not_accepted = len(df.loc[df['Stage']== 0])\n",
    "print(\"Number of Bootcampers:  {0} ({1:2.2f}%)\".format(num_bootcamp, (num_bootcamp/num_applied) * 100))\n",
=======
    "num_accepted = len(df.loc[df['Stage'] == 1])\n",
    "num_not_accepted = len(df.loc[df['Stage']== 0])\n",
>>>>>>> add decision tree
    "print(\"Number of Accepted Applicants:  {0} ({1:2.2f}%)\".format(num_accepted, (num_accepted/num_applied) * 100))\n",
    "print(\"Number of Rejected Applicants: {0} ({1:2.2f}%)\".format(num_not_accepted, (num_not_accepted/num_applied) * 100))"
   ]
  },
  {
   "cell_type": "code",
<<<<<<< HEAD
   "execution_count": 20,
   "metadata": {
    "collapsed": false
   },
   "outputs": [],
   "source": [
    "df = df[df.Bootcamp != 0]"
   ]
  },
  {
   "cell_type": "code",
   "execution_count": 21,
=======
   "execution_count": 173,
>>>>>>> add decision tree
   "metadata": {
    "collapsed": false
   },
   "outputs": [
    {
     "data": {
<<<<<<< HEAD
      "image/png": "iVBORw0KGgoAAAANSUhEUgAAA9wAAAN8CAYAAACqTKLzAAAABHNCSVQICAgIfAhkiAAAAAlwSFlz\nAAAPYQAAD2EBqD+naQAAIABJREFUeJzs3Xm4XFWVuP93QSAgwSAik4gKiKAMCiotAnFERNsBWiXa\nCiIiKl9bVOxGQUQU23ZAf9qgooAI4sSkIIigoAhIawBlnsIghDmEJMzJ+v2xd5mTou6QpM6tDO/n\neeq5t864V+06wzp7n1ORmUiSJEmSpP5abtAFkCRJkiRpaWTCLUmSJElSC0y4JUmSJElqgQm3JEmS\nJEktMOGWJEmSJKkFJtySJEmSJLXAhFuSJEmSpBaYcEuSJEmS1AITbkmSJEmSWmDCLS1jIuKiiDhs\n0OXoh4iYFhF7D7ociyIixkfE3IjYcdBlWVTWx+LF+li8LA31AdbJ4mgpimOpOD9ZWuLotrRs+xHx\n/BrHxmO20sz0tYS/gDWAI4FbgEeAacBZwMvr+LnAmwddzoWM48xOHC2s79j62RzRY9wRddzRjWHb\nA78Ebl+QzxTYAjgNuAt4GJgKnAis0ZjmG8BfatxTRljepLr+OfXvXCAbrznADkPFAqwGfBa4BHiw\nlusUYONRxDIJOBe4D5gNXAccA4yr48fX938DHgdOHmF5u3fF0oyjM3z9YerkUOD/WohjEnAqcAcw\nC5gCvGuY5R08UhwjfLf2By4HZtTXhcBOS2B9fKKuq99xjHV9rNlY9wF1/NeXwPp4OjC+hTjGuj7+\nh3n7us7rqsWgPnrte9cfKpZaH59vKZZBbCPPAn4E3As8RNmHbTVCHMMeD+v4HwO31mVeCXy0xW3k\nlh71MRf41hK2ra8BHAbcVD+3G4ADR/G9avv8pFccOwwTxzOBbwM31zguAF4ygDjObJS5+9WJ54zG\n9N3nh5OBp/RY7ucp2+hDwG+BjUYR29uAi4AHKOc6V9DYjwNrAycA19TPtznuWLrOc5m37Tdj6Y5v\nyPNcyrZ/aAtxvA04G7ibeecPOw6zvGO6vmvdr5uGmTdqHDFSufv1soV76XAysCXwHuB5wL8Cv6cc\n3JckveI4j3bjuBXYLSLGdwbU/3ejHIibVgEuAz5C2SGNKCLWoByU7wV2BDYB9qDsqFbpmvwHwE9G\nsdg/UXaw69S/PwP+AdxG2ZE9m7Kj6o4lADLzAeBfgG8B2wCvBVYAzo6IlYeJZVPKQegSysFlM2Bf\n4DFg+TrZ8pQd8DcpO+GR/KQrlrspJ4sPAOvX4bd110lErFDn3xr4/1qIY1vKyeMuwOaUHftxEfHG\nIRb7la44ZtcYmnE86bvViOMq4D9rPFsDvwNOq2VdlDjGuj6uAT7VQhxjWh+ZeXdmPhERLwU+UNc9\nrMWxPjLzvsx8tIU4xnr7mE05OVurzr82sF0f4ljU+rgIuJb597239Yils++9j3Jy2EYsY10njwF/\nAB4FXg9sSrngNn2YOEZzPNya8j1/N/AC4IvAlyLiw0MsdlH3WVsxrx7WBl5HOb7/bJg4FrttHdgb\n2Av4MOVz/RTwqYjYd5g4xuL8ZColAW7GceEwcXydkrS/m/K5/hY4JyLWGeM47qJsyzNquX9GqfNn\n1VhupdRRR+f88KOU78/szHyoq5z/SfmefBB4GWWb+01ErDhMbK+p5f058FLK9/XTlHOdjvG1LF+o\nZWhKnnye+5Ua04w6bjZwIKW+JgNfo8d5bqOO3lfH9zuOHSgJ9xvq+N8Dv4qILYdY7EeZ/7sG5cJV\nZ1t+6RBlWSGLu7Nm32NirDJ7X+28gImUKznbDzF+KvNf/bmpDt+AcjX8TmAm5cDxmq551wbOoBw0\nbqRsiFNpXG2u6/8+865InQNs0e84GtN8t5b5YcqV450b43elnMg8Usv58R6fxYHADyk7zOsoLaJX\nUk6cplN22P9Xh51M48pr17JG1cINvIVyQrLcKD+HgxnhymuPeY6hXA0+hbKznVyHf6nGeBtlh/h4\nHX4xcFhj/pWA71B2rp0ryts2xm/Q+B7Mret49SjLNexV/R7zTAOub8ZRh/+p1s/VtRxXNqbfuzHd\nRjWO6bWOzwZe0Bi/FeXK/9z6ff0zsPkoy3Y68P1RTjuTcvLbHcd1dVu5sX5Pz6AcLOfSuJJLOXF/\ntMZ6D3ASsF5j/OuY1zJzP3A+sPZiWB+r1zgfXALr482UZOrVlAtY19UYlrT6+H+NOP5I2bfdswTW\nx/Vd28cvFoP6+D3lmNO97z2x1knnWDW9UR+/pO7j6/Zx7Aj1cX79LOYsSH2MQZ0k8LcFrJPr63yj\nqpPGvN8GzmlxG2nus46s3/2+bSML+d1a0DgeAf7YmG51ynnBI8PEcUWtj9HGsTDnJ9dTEt/uOE6j\nnJdcWr97syjnInOBnzSmW4mS/D5Yp+t1fvKXGscsRnF+Mpo4ap39c7vu1GH9/7L6/9GU86yLgA9R\nzjFn1Riu5cnnWZ0LKJ04XkvZP7yDeedZ05txAIcD5y7A5/175m81ni+OxvBmHDPp0YukfqanUra/\n+5h/2/9OY7oXUvZPsxl627+zTrOg2/4VjKKnRp12qBb5aZQGjRPq9+gI4Pl1+o0b020J/KZ+/ndQ\nLs6s1vWZXVHr7B5KT+IVRls3tnAv+WbV11uHuLr0UsrV9c5Vn84VnwmUjefVwIsoV+5+GRHrNeb9\nUZ1nB0oyuzfwjK7l/4LSAv16yg58CuVq5Gr9jCMigtpNHngX5Wr6f1E2YCJia+CnlK5om1F2qIdG\nxHu7FvUJyk7mxcxr7VmdctXyFfX1zBpTP7aPO4FxlFaHtiVl57pnY9gGlB34xcCvGtM1HUX5Dsyl\nXCA4ndJKvH4d/z3K53wgJQn8MWWH06buODYEVqYctM6kfB97OYES357ASygnJedGxIQ6/qeUk5BH\nKVdnvwo8McoyTaQcLBZEdxxrAqtSuhj+CviP7hnqVeiLKS0k/0bZ/h4HzoiI5er4kykXhh6lJFTH\nLGC5FtQC10dELEc5qRhH6bWypNXHvnXYBZTtYzZl/7Ok1cdk4FeZ+TtKy+c4yoneklYfz4yI2yPi\nRuDvlOPF4lIfvfa921CS1AsoPT2anhcRt1O6bb6K0po3VH1cS2mtfIyybx5tfUD7dXJdRPwsIu6q\n5Vyd4evkfMpx5nMsWJ30I47R7LNWAN5P2Qba2EYWxmjjeAzYJCKeV9+fTelF8VmGjuN6Sn18hnbj\n6LV9bEE5xq1NaajZhrJviq5yHEVJ8q6r8/Q6P+k0BnyKcp7Sr/OTXuXek5JoR2PYC4GdKBdpt2nM\n2/RjSiv4RxpxnEo5H305886ztqXspztx3Am8MCJeOAZx9PI6yra3DWXbf04dfilAPV/vNN79gqG3\n/SsoSft7GeW2X8/7V2XBt/1ePkU5r9qScosSNOooIp5O2U93jvdvBJ4LHF/Hrw8cR7n4sDFlv905\npx6dBblS5WvxfFHue+jcQ3UBpQvW5o3xo22N/Tvw4fr/JnW+FzfGb1iHfbS+346SzK3QtZzrgb36\nGQelm9DjwIZDzHs8cFbXsC8Df2+8nwr8ovH+GMpJ2bWUHdv6lKv0s+vrAhaxhbtOeyjl4Hwv8Gvg\nk8CaQ0y7MFeQj6GcAJxMuVDQieV/KTuU9SlXODv3EV5EvfJK6br/GOWq3vmNZf6RelWxfj77Uy5A\n/IByULijru8jwKrDlGthr+o343g25QB8WzOOxvR71/9fWz/nZhxB6TL17/V952ryqOOo872jzrvJ\nKOPotBZ1x9FppWrWR6cF7wN1vifqa6fG8lausW1H6T41h9KVa3Gsj8814pjL/L1QlqT6uJHS3W2v\nOn+z1WBJqY/pdfgKlO3jMeDwJbQ+Pk+5mPp1SrI9FVhlwPXxe8qJZPe+97Ra5qd3xTKNch/prvV7\nNZ3SYjmVcjLeqz7ezgLue8eoTpLSenooZZu/hXLs7pS9V528lAU4HtblbFunf80o41iUY8ihNa51\n+7mNLOR3a2HiOLOW6fEax3+NEMfbF6Q+WPgW7tt7xPEYZTv+VVccD1LOZ9ahJDad4+HVjWl6nZ/0\nNQ7mtWh3yt3pUj6bcmHpFOa1cM9q1j1l27+G+c+zHq91s1ZXHH+n9Ii5Fti/RzmeUj+jOcy7L/19\nwIrD7JO6W7i790+d89xOHMO1cF/VNWyHOvwd9f1elIa2nwInDrPtb7cgcdTlfKrW5xpDTdM1/XAt\n3Md3DXt+LcvGjW3/lK5pNqrLXI9yUeSJob5To3nZwr0UyMxTgHUp9zyfSbn/ZUqP1t1/iohVIuKr\nEXFVREyPiJmUJLtz1XBjShfkSxvruZH578/agnr1KSJmdl6UK2Ab9imOv0bE7pSrUv+oZehlU8qJ\nS9OfKC0JzSt4f+2aZiKlFXgc5cBwHbAi5YSi+96fYUXEAY3P4cFOb4HMPIhyFfeDlJOzfYBrFvGK\nZU9Z7hE8nXL/0hbAjMy8dZhZOi1erwO2btThtsDB9f/1KRc/zqOcVL2KcoD7B+UenCsjYq0W49iD\nclIzZYTZDqHUXTOORym9F34QEQ9STnaPp+xAvwj890hxRMSrKAfWvTLzmkWMo9PboJfbKN/zn1NO\njn4dEbNrHDNqbL+lHJh/yrznNBxEOVgsLvVxZ43jm/X96Y04loT6WI/y+X85Mx+nbEerAPs2vleL\nfX1ExLOAp1JOZjtxjAM+soRuHxdk5hU1hhUpx5l7F4f66BHLBsC0OqzbVZl5EqVuVqXUy3MoJ5YP\nUnpY/aDGtRyl186ZlBP4bRjFvncM6+T6enxbnXJiPQ74YS37A8xfJ7+kHEM6rXf7M8LxMCI2o7Se\nfS4zz13EOEZzDHk7JZm4tp/byKJYgDhWolxk2o1yUWoucFhEPFzjeKQrjh9Qvlsvq3F8hhbPT3rE\ncWN9dbeq30DZ/95Ouf1l+RrLxrVOOoncwTWOY2v5J1HuPT60n3E0yr0RJVE9IzO7W1xvzMyZwyxm\nc8q2vBxwY+O79TJKb9OkfK++HBFPRMSjEXFdXf9Dmfmvdf2HUpLjrwF/joiVFiKOPeqrVxy93DDC\n+C0oF0J3Af6txjWTedv+2ZT98W8oCe7na6zDxhER76Lsu9+emfeOopwj6T73h/lb97cEdu7KZS6l\n1M2GlMa5P1H2DT+JiD0j4qkLUoBxC1lwLWYy8zHKQyPOBb4YEUdREpDjhpjla8BrKF2sb6Rc+TqJ\nspHA0N1MmsMnUHb+k3pM/8AChgAMG8dXR5g1eHIXnl4xzO56P45y/8/36nqS0gXrj8xLGEbrSMqO\npeOOzj+ZOZ3y+Z4UEZ+mdCP6JOUKX78dQ+n28rRmGYbwofp3e8pVwI6nUT6/zg75cUoXm50oJxb7\nZuZHI+IgyoWKfSifXz914kjKd3Q25crpk0TEtyndum6m3CbRqfunUb6nM4AHM/OmiDgW2LnGsy2l\ntalnHBExidJa9R+ZeUIf4ribJ38HO+bW8j1M+f4tT7nA8dlGHPcBD9XpXkypj7dQrta+aqg4+mS0\n9dGJY0ad7s4ecSzO9fGi+vd/I+J/KfUQ9e94yoXJJaE+tqKc4H2m7nOWGyaOxbk+uk2g3FO/GuUE\n6GssHvUB82J5BuUEbTgTKC09O1KSyguYF8scSvINpXdCpz4OAXYdbt87xnXSuZjbqZPfUlp6t6Nc\nTFiNWieUffOWlDrZlXl10vN4GBEvoHQ1/k5mfqkPcYx0DFmf0hI5rZa/L8eQPhlNHE+ltDD+PMpD\n3W6ifA/eQrnlr1MfM5jXivytHnG0eX7SjOP/mNfA0/Qo5ULAoZTu/f9DOR98CqUXWCeO2ZTzk5sp\nF0A65ycfp9wOtEkf4ziGcm4XwH49xo9mn/UYZb/7dsoFqI4fAXdl5pERcQnlgWE7ADtExF6Z+X2A\nzJxK2V8cHRFfpHzX3kl5JtGCxNH5/Id6CGG3R7ve31X/Pq0R24WUCz5XUR7c9oz6/j5Ko89tQ+yP\ne8YREbtRzsn/LTN/vwDxDWc0dfRzynbcnTvckZlPAJMi4hWUffZ+wBci4iWZOdJ5NmDCvTS7mvLF\nhpIsLd81flvg2Mz8JUC9r+c5jfHXAOMi4sWdVu6I2Iiyo+uYQmm5nTNCK+qi6MRxOfCsiNgoM3td\ncbuKJz/p9RXAdVn7hgzhAcpB9heUHfxc4LjMzIhYoPuZsjz9e8QLDVmefnwjC9iCvgDOolw4WW64\n8tQkdTNq18DMvGmE5X4H+E5EfJ3Sjej7mTkjIqbRTiydOOZSkrahTKZc/f0E5WDySGZOG2rizLyW\ncsA7PCJOBnbPzDO744iIV1K6QO2fmT/oUxx3jzAtlO3qDZRt8LGh6qVul5dSnuA7BdgtM/9rMaiP\njimUn6K6k+HjWNzq43eUbeJDlBOJd1G6tv0M+OISVB/nUFpNv005kZhEuc3kJODgJag+uk2hJAkr\nULqZLi71AfPve0faRjrbx3KU1tIhY6GrPoAze+17B1Anz2rE8gbKg0xvGiaOoepkvuNhbZU8Fzgm\nMz/bpzhGqo89KcfL1enTMaSPRhNHs9Gh8916jHJ+Ntz3qlccbZ2fNOOYSu+EG4DMfDgizqMkqZOA\n/YaJ4za6zk8y8/t9jOMs5l2wPHsh5p9Cifs+yi0eZwLUFtKtKC2+ZOZfqS2xzfOsHsvr/GTegsbW\n/PwXJg4oFzigPAcJ5u2PJwJfq3X0pHrqtT+mfEfniyMiJlNi3i0zz1rIMo5WMzeYAry2XtgYeobM\nPwF/iohDKb0w3kz57o3IhHsJFxGrU06mjqYc7GZS7pPan3LVHMoG8pqIuBB4tCaG1wO7RMTpdZrP\n07iqk5nXRsS5wFER8SFKt5+vUjaOrNOcExEXAadG+bmD6yjd4Xam3K80UvetUceRmX+MiD9QWog/\nQenmskkpRv6G0jJwSUQcSLkSuS3lSvs+I6z6VsqV01MpV0Fvp1zFehvlCl2zjKtQErvO57RBlJ8r\nuD8zbxsirjdSdiw/oXw+QdlA30Dp1tOZbkPKldt1gJVj3s8gXFmvrI1aZs6NiE0o99VtO8Rkr6d0\ne3wz5TP+WUR8jvK0+tUo93tenJnnRsS3KFfKOz/lsCVweW2B2J3y0y0facSyKeUguTowoRNLZo74\nk0RDxAHlwSm9PJXSLWsnynf6Q5SHdXyakrCuB7yJcgX8Vsr3/DHKhaJLa0ynRsSXm3HUE9fTKQfC\nUxrdBB+rvRUWNo6hfh4mKA9GuZZSB52TjJMj4jmUutqFUqerUx5CNo6yvV1Txz/QHUeNZSzrYwKw\nUUQ8m9KqfT/lQtipNY4loT46P+Vya2ZeVcvy8RrH05aU+sjM2fWi4bQaxzWU7q/bA+vWnhRLQn1A\n2T42r9vHNZTtfnnghsWlPrpiOWaYyXatdXEF5Tg2hXICfEFEbMeT6+MkysXjbSg/5/iTXvveAdRJ\nUh7SdQDlAawHUlrNPj9MnXT2B5fX8fdHxCdpHA9rsv17SnLwjUYccxa0a+ko91kde1BOnF9N+SnD\nAyityQu1jdRYxnLf+wilS+zOlO/Wrcw7tj9niDjuoHyv/lzjOLm7PmocfTk/6YrjM0NMNhF4bi3z\nOpTW+JWA++qwtXjy+cmdlJ+TO59ye9y1/Yyjlvtk4KlDNeD0OD8cD6wZEc/KzCvq/K8EDonSFf5h\nyjZzH+X71jnPuoHym+o7AH+LiIMp56i/phxTV6M8vGwcjW2zxhKUY/Az6vvHesSxSf1/tHGs1uM8\nN4F3RcQZlJ4KEyj7sLuG2fbXouQRN9fxsyjn+/+MoybbP6T83NcljW3/4czs9Pjpp2ZL9jeBPSLi\neMqT4adTWuL/LTPfX/fN2zLvQvYrKHVx9ajXlgt587evxeNFuVr1RcqX/n5KonoV5Ys+vk7zJspV\nzEeZ97Ngz65fnFmUDeBDlJad5sMW1qIcwB+iXLF6J2XH9oHGNKtQDvC3UXb4N1O6sT+zhThWY95P\nkM2mHLTf0FjG2ygPoOj8LNh+Xeu4ifl/0qzzMIk16/931Vivpxx4f8n8D/OYRNmpzOl69XywWp3n\nuXVZV9fP+j7K/XDv6Zru9z2WOwdYfxSf3TH1cz+5a/iXgAvr/80H3lxI2WE21zO3Dnus1uXPgOfX\n6b9DOQg8XD+fGfXv3bXcO3etd2qPZc8Z5ffgDho//9MYfiLlKZ/dD4rJHnXS+Smgh2tZjqF8l1em\nXPi4g7Ljf7y+nhRHnadXffxulHHMBC7vMfxC4DB6PxRqGvOeSnoe5Qr03fWzvo7SOrky5TkHp9Vx\nT9Q6e2wxqY/Oz4J04ji3TnP7ElYfc5j/Z9ouoOyPlrT6uIP5f/LofEqSsKTVx9zG9+pWyn775MWg\nPn5HfWhar/rose+9g3JB7R81lttq2Ts/H9arPm6hHNNmUU4Ce+57B1AncyhJ099qma6ldPEfrk7u\nbNTJo/Q4HlIeaNUrjpta3EYOr+vYiJKQfZtF3EYGsK1PoyQuUyn74Rvqd224OP7RiOOxXvVRl70o\n5yfXA7f3GP6l+t3qjuNa5h2/b6d0e/8fyvnbI/Q+P7m5UReP1/kXKQ66HnTX433zoWkX8uTzw865\nSWebWYHS3Xp6Y9ydwOsacdxA2XamUc51n0pJ0n9WY3y4fi/OAF7eVd5e56Y3dZe7R5ynUC5qdB6G\n3IyjeX7Vve3/qJblofq5nsLw2/49zL/NdOLYdhT1M+Q5dlcsc+j90LT5joN12HwPTWsMO6V+f2ZR\n9u1fruM2o9yHfhdl+7oSeP9oytV5RV2QNKIoDwG7lfK00N8PujySJEmStDgz4daQojzpdAKl1Xhd\nylXGtSlXFucMsmySJEmStLjzHm4NZwVKV7LnUrqb/QmYbLItSZIkSSOzhVuSJEmSpBYsN+gCSJIk\nSZK0NDLhliRJkiSpBSbckiRJkiS1wIemLQEi4unA6ym/w/fIYEsjSZIkSUuUlYDnAL/JzPvGcsUm\n3EuG1wMnDLoQkiRJkrQEezfw47FcoQn3kuFmgF2ANVpcyVnATi0uH+B73/hry2sAjtoPPnB4u+v4\nXLuLB2DWfjCh5TgeuLXd5QPll+U+3f5qNl6/3eXfvh88s+X6AHh++6vgkv3gZS3Hcke7iwfghv1g\no5bjGIv6OH8/mNRyHLe1u3gArtwPXthyHH9sd/HFfsAYbOt7t7z8s/aDndqPY6sPXtjq8m/c77ts\nePgHW10HwJTXbNv6OsbkuP70dhcPwLT9YJ2W47jx9naXD8AXgAPHYD03tLz8HwDvb3kdwOaT2l3+\nzfvBc1r8Xj18Ndzw71DzqrFkwr1keARKsr1OiytZqeXlA7DRVm2vAVaZ2P56xmLLWW4ijGv781q1\n5eV31vHC9lfzlOe1u/zlJ8JTxuD7OxYnSytOhKe3HMvMdhcPwLiJsGrLcazZ7uIBGD8R1mw5jgfb\nXTwAK0yEiWOwjbRuIjAGcazb8vJXmgjrth/Hqlvd3eryx01chVW32qjVdZQVjUGdj8VxfeV2Fw+U\n4+HKbX9eT2t5+VDOTzYbg/W0/RPMTwE2bHkdwCptn1tPbH8dxZjfnutD0yRJkiRJaoEJtyRJkiRJ\nLTDhliRJkiSpBSbc+qexuItlTEyaPOgS9Mf4pSQO3jToAvTH05aW+gCeu5TEsuZSEsfGS0kc6y4l\ncbCUxLH50hHHmpNfOegi9M/SclyfuJTEwb8OugB9ssOgC9AfT19avldPZsKtf9p80AXoFxPuxYwJ\n92Jng6UklrWWkjg2WUrieOZSEocJ92LFhHsxtNpSEgdvHnQB+mQpSbjXWFq+V09mwi1JkiRJUgtM\nuCVJkiRJaoEJtyRJkiRJLTDhliRJkiSpBSbckiRJkiS1wIRbkiRJkqQWmHBLkiRJktQCE25JkiRJ\nklpgwi1JkiRJUgtMuCVJkiRJaoEJtyRJkiRJLTDhliRJkiSpBctswh0Ra0TEkRFxS0Q8EhHTIuKs\niHh5HT83It486HJKkiRJkpZM4wZdgAE6mRL/e4CpwFrAa4CnD7JQkiRJkqSlwzLZwh0RE4HtgP/M\nzD9k5m2Z+ZfM/HJmnh4RU4EETq0t3TfV+TaIiFMj4s6ImBkRl0TEa7qWvXZEnBERD0XEjRExOSKm\nRsRHm+uPiO9HxN0RMSMizomILcbyM5AkSZIktWuZTLiBWfX11ohYscf4lwIB7A6sXd8DTADOAF4N\nvAg4E/hlRKzXmPdHdZ4dgF2BvYFndC3/F5SW9NcDWwFTgHMiYrVFjkySJEmStFhYJhPuzJxDSaZ3\nBx6IiAsi4osRsXkdf2+ddEZm3p2Z99Xhf8vMozLzqsy8MTMPBm4C3gwQEZtQuqXvVVvMLwP2Ap7S\nWXdEbAe8BHhHZl5al/MpYAbwb2MRvyRJkiSpfctkwg2QmacA6wL/SmmpngRMiYj3DjVPRKwSEV+N\niKsiYnpEzAQ2Adavk2wMPJ6ZlzbWcyMwvbGYLYBVgftrt/SZdTnPATbsX4SSJEmSpEFalh+aRmY+\nBpxbX1+MiKOAQ4Djhpjla5QW7E8ANwIPAycBnW7pMcR8zeETgDsoCX739A8MV96zgJW6hm0GbD7c\nTJIkSZK0rLj3RLjvxPmHPTFjMGVhGU+4e7gaeEv9/3Fg+a7x2wLHZuYvASJiAqVluuMaYFxEvLjT\nyh0RGwHNe7OnUO7xnpOZty5I4XYC1lmQGSRJkiRpWbLG5PJqmj0F/r71QIqzTHYpj4jVI+LciHh3\nRGweEc+JiLcD+wOn1sluBl4TEWs1HmZ2PbBLRGwZEVsCJ9Bopc7Maymt5UdFxEsj4sXAd4GHKE89\nJzPPAS6iPAH9dRHx7IjYNiK+EBFbtR+9JEmSJGksLJMJN+UJ5RcDHwPOB/5O6Ur+XeD/1Wk+AbwO\nuJXSKg3wccr92H8CTqP08p7C/N4D3FmXexLwvbq+RxrT7Az8ATgauBb4MeU+8Lv6FJ8kSZIkacCW\nyS7l9d7tz9TXUNOcDpzeNewW4LVdkx7ZNc1dwJs67+tPhq0J3NCYZjYl2f/YwkUgSZIkSVrcLZMJ\nd5si4lWUB6P9nfIU9P+h/HTYHwZZLkmSJEnS2DLh7r8VgMOA5wIzKd3PJ9ff/pYkSZIkLSNMuPss\nM8/GX+q4xFOLAAAgAElEQVSSJEmSpGXesvrQNEmSJEmSWmXCLUmSJElSC0y4JUmSJElqgQm3JEmS\nJEktMOGWJEmSJKkFJtySJEmSJLXAhFuSJEmSpBaYcEuSJEmS1AITbkmSJEmSWmDCLUmSJElSC0y4\nJUmSJElqgQm3JEmSJEktMOGWJEmSJKkFJtySJEmSJLXAhFuSJEmSpBZEZg66DBpBRGwF/JVv/BU2\n2mrQxVkkB78pBl2EvjiE0wZdhD5ZfdAF6KMnBl2APllz0AXojy+8YNAl6I9fDLoAfXLZ5wZdgj75\n3KALoC7Py8sHXYS+uH6/LQddhP74zqAL0Cf/PugC9NGxgy6AAMgpMGdrgK0zc8pYrtoWbkmSJEmS\nWmDCLUmSJElSC0y4JUmSJElqgQm3JEmSJEktMOGWJEmSJKkFJtySJEmSJLXAhFuSJEmSpBaYcEuS\nJEmS1AITbkmSJEmSWmDCLUmSJElSC0y4JUmSJElqgQm3JEmSJEktMOGWJEmSJKkFJtySJEmSJLXA\nhFuSJEmSpBaYcEuSJEmS1AITbkmSJEmSWmDCLUmSJElSC0y4JUmSJElqgQm3JEmSJEktWKYT7ohY\nIyKOjIhbIuKRiJgWEWdGxMsHXTZJkiRJ0pJt3KALMGAnUz6D9wBTgbWA1wBPb2NlEbFCZj7exrIl\nSZIkSYuXZbaFOyImAtsB/5mZf8jM2zLzL5n55cw8vTNNRHw3Iu6MiIcj4m8RsXNjGbtGxBW1dXxq\nRHy8ax1TI+LAiPhhRDwAfLcOXy8ifhoR0yPi3og4NSKePYbhS5IkSZJatswm3MCs+nprRKzYPTIi\nAjgLeDnwLmBT4L+AOXX81sBPgR8DmwEHA4dGxHu7FvUJ4DLgxXX8OOA3wAzgFfU1EzirjpMkSZIk\nLQWW2QQvM+dExO7AUcCHImIKcD7wk8z8O/A64CXAJpl5Y53t5sYi9gPOyczD6vsbIuKFwP7AcY3p\nzs3MwztvIuLdQGTm3o1h7wemA68EzulflJIkSZKkQVmWW7jJzFOAdYF/Bc4EJgF/rYn4lsA/Gsl2\nt02BP3UN+xPwvNo63vHXrmm2rNPM7LyA+4DxwIaLFJAkSZIkabGxzLZwd2TmY8C59fXFiDgKOAT4\n6gizBpA9hnWb3fV+AvAXSjf17unvGXaNR+0Hq0ycf9ikyeUlSZIkScu6uSdCnjj/sJwxmLJgwt3L\n1cBbgMuBZ0XERpl5Q4/prqI8dK3pFcB1mdmdiDdNAd4B3JOZsxaoZB84HDbaaoFmkSRJkqRlxnKT\nga4GyZwCc7YeTHEGstbFQESsHhHnRsS7I2LziHhORLydcg/2qZn5R+APwEkR8do6fqeIeH1dxNeA\n19SnkD+vdkP/CPCVEVZ9AnAvcFpEbFeX+8qI+GZErNtSuJIkSZKkMbYst3DPAi4GPka5d3oF4DbK\nT3d9qU6zC6Vr+Y+BVYAbKE8qJzMvjYh3AJ8HDgSmAQdm5o8a63hSS3dmPhwROwBfBk4CVgVup3Rp\nf7C/IUqSJEmSBmWZTbjrvdufqa+hpnkA2GuY8acApwwzfoMhht8NvG/UhZUkSZIkLXGW2S7lkiRJ\nkiS1yYRbkiRJkqQWmHBLkiRJktQCE25JkiRJklpgwi1JkiRJUgtMuCVJkiRJaoEJtyRJkiRJLTDh\nliRJkiSpBSbckiRJkiS1wIRbkiRJkqQWmHBLkiRJktQCE25JkiRJklpgwi1JkiRJUgtMuCVJkiRJ\naoEJtyRJkiRJLTDhliRJkiSpBSbckiRJkiS1wIRbkiRJkqQWmHBLkiRJktSCcYMugBbA51jia+wQ\nTht0EfriYN4y6CL0xWH3zhh0Efrm8X956qCL0B/nPTLoEvTHPoMuQH+8+tLTB12EvvjdQZ8bdBH6\nY7VBF6CPlpJN/fqVtxx0EfrjF4MuQH9M+MI9gy5CX8y64RmDLkL/7DHoAvTJWwddgEX0BPDAYFZt\nC7ckSZIkSS0w4ZYkSZIkqQUm3JIkSZIktcCEW5IkSZKkFphwS5IkSZLUAhNuSZIkSZJaYMItSZIk\nSVILTLglSZIkSWqBCbckSZIkSS0w4ZYkSZIkqQUm3JIkSZIktcCEW5IkSZKkFphwS5IkSZLUAhNu\nSZIkSZJaYMItSZIkSVILTLglSZIkSWqBCbckSZIkSS0w4ZYkSZIkqQUm3H0SERdFxGGDLockSZIk\nafHQ94Q7Io6NiLkRcUSPcUfUcUc3hm0fEb+MiNvruDePcj1bRMRpEXFXRDwcEVMj4sSIWKMxzTci\n4i8R8UhETBlheZPq+ufUv92vORGxwzCLeAPwhdGUXZIkSZK09GujhTuBW4HdImJ8Z2D9fzfglq7p\nVwEuAz5S5x1RTarPBe4FdgQ2AfYA7qjLa/oB8JNRLPZPwNrAOvXvz4AzgbUawy/sUZYVADLzgcx8\naDTllyRJkiQt/drqUn4pJenepTFslzrs0uaEmXlWZn42M08FYpTLfwXwVOADmXl5Zt6Smedn5icy\n858JfWZ+LDOPBKaOtMDMfCIz7+68gIeBRzPznsbwJyLiS7X7+IciYiowHSAiLm52KY+IlWoL++0R\nMTMiLoiIbRvjN4iIMyJiekTMiojLIuLVo4xfkiRJkrSYayvhTuAYYM/GsD2Boxl9Uj2cO4FxzJ/Q\nj6UXAjsBbwa2qcO6W+ePAraklHEL4HTg7IhYv47/HjAH2BbYHDiQkuRLkiRJkpYCbT407Xhgu4hY\nPyKeTUksj+/HgjPzz8BhwAkRcW9E/DoiPhkRa/Zj+aOwHPDvmfn3zLyye2REPA94J7BrZv45M6dm\n5n9TWvffWyd7FvDHzLy6jj89My8ao/JLkiRJklrWWsKdmfdRWnX3qK8zMvP+BV1ORBxQu2TPjIgH\nI2K9uvyDKPdWfxC4AtgHuCYiXtinEIZzY2bOHGb85sDywM2Nss8EXgZsWKf5BvDFiPhDRHw2Il7Q\ncpklSZIkSWNoXMvLPwb4NqW79YcXchlHAj9tvL+j809mTgdOAk6KiE9THr72SeB9C7mu0Zo9wvgJ\nwKOULuXdXehnAmTmkRFxOvBGSvf0T0fEvpn5/SGXOms/WG7i/MPGTy4vSZIkSVrWPXpieTXNnTGY\nstB+wn0WsCIwFzh7YRaQmQ8AD4xiuici4kae/JTyQZgCjAdWz8y/DjVRZt4GfAf4TkR8HdgLGDrh\nnnA4jNuqz0WVJEmSpKVErwbJJ6bAA1sPpDitJtyZOTciNqn/9/zJr4hYBdiIeS3BG0TElsD9NSHt\nNc8bKT8x9hPgujrvmym/hb1HY7oNgVUpP+m1cl0uwJWZ+cSiRTe0zLwiIk4GToyITwJ/o/y82GuB\nizPz3Ij4FnAacAOwBrBDnU6SJEmStBRou4WbzJw1wiQvAX5P6XaewNfq8B8y/1POm66idOv+KuXh\nY48C1wPvz8wfN6b7PiWR7ZhS/z6X8hNl/dR9QeFdwMGUe7XXBe4BLgJ+UcevQGndXheYAZwBfLzP\nZZIkSZIkDUjfE+7MHPb+6cx8W9f781nAh7dl5lTKQ9JGmu5VC7Lcrnl7xpGZBwwxfNuu949Tfurr\nwCGmH7H8kiRJkqQlV5s/CyZJkiRJ0jLLhFuSJEmSpBaYcEuSJEmS1AITbkmSJEmSWmDCLUmSJElS\nC0y4JUmSJElqgQm3JEmSJEktMOGWJEmSJKkFJtySJEmSJLXAhFuSJEmSpBaYcEuSJEmS1AITbkmS\nJEmSWmDCLUmSJElSC0y4JUmSJElqgQm3JEmSJEktMOGWJEmSJKkFJtySJEmSJLXAhFuSJEmSpBaY\ncEuSJEmS1IJxgy6AFsADtwKrDroUi2j1QRegLw67d8agi9AXn15j4qCL0DeH7JODLkJfnPTMXQZd\nhL7Y9au/HnQR+uJGNhp0Efpi00OnDLoIfXH1D7YadBH6Z6VBF6BPlo5NhJW2u3/QReiL1VZ5YNBF\n6IsXbHnVoIvQN48yftBF6IvLz/mXQRdh0VwNTB7Mqm3hliRJkiSpBSbckiRJkiS1wIRbkiRJkqQW\nmHBLkiRJktQCE25JkiRJklpgwi1JkiRJUgtMuCVJkiRJaoEJtyRJkiRJLTDhliRJkiSpBSbckiRJ\nkiS1wIRbkiRJkqQWmHBLkiRJktQCE25JkiRJklpgwi1JkiRJUgtMuCVJkiRJaoEJtyRJkiRJLTDh\nliRJkiSpBSbckiRJkiS1wIS7TyJiWkTsPehySJIkSZIWD31PuCPi2IiYGxFH9Bh3RB13dGPYARFx\nSUQ8GBF3RcQpEbHxKNYzKSLOjYj7ImJ2RFwXEcdExLg6fnx9/7eIeDwiTh5hebvXss2pf7tfcyJi\n/WEWsRnww5HKLUmSJElaNrTRwp3ArcBuETG+M7D+vxtwS9f02wPfArYBXgusAJwdESsPtYKI2BQ4\nE7ikzr8ZsC/wGLB8nWx54CHgm8BvR1HunwBrA+vUvxcB3wPWagy/rUdZVgDIzPsy89FRrEeSJEmS\ntAwY19JyLwWeC+wCnFiH7UJJxG9qTpiZOzffR8QewN3A1sAFQyx/R2BaZh7QGDYVOLux3IeAj9Rl\nbgdMHK7ANVm+u1GOx4CHMvOervJ14rkW+CBwP/DCiJgGHJyZ36vTrQ58HXgj5SLCJcDHMvOqOn4r\n4HBgK2AucA2wV2b+fbhySpIkSZKWDG3dw53AMcCejWF7AkcDMcK8q9X57x9mmjuBdSJi+0Up5CJ4\nI7Au8Cpg1yGmOQV4CqXV/iXA1cC5ETGhjv8pJWl/MeXiwleBJ1ossyRJkiRpDLXVwg1wPPDf9b7n\nALYF3klJUnuKiAC+AVzQaQkews8prdznRcRdwMXAucBxmTmzT+UfznRgn8yc22tkRLwW2BR4dWbO\nqcM+BrwNeCvls1kP+G1m3lBnu6HXsiRJkiRJS6bWnlKemfcBpwN71NcZmTlcqzXAEcALgMmdARFx\nZETMrK8H67LnZub7KUnr/sA/gE8DV0bEWv2OpYfLhkq2qy2A1YEHOmUHHqTcB75hneYbwAkR8ZuI\n2D8int1ukSVJkiRJY6nNFm4o3cq/Teki/uHhJoyIbwM7A9tn5h2NUQcBX+k1T2ZOA06gJK4HAdcD\n+wCHLHrRhzV7hPETKPeU78iTu9BPB8jMAyLiWErMbwQOiYhdM/PMoRd7GLBq17A31ZckSZIkLePO\nPBHOOnH+YTNnDKYstJ9wnwWsSHko2NlDTVST7bcAkzLz1ua4zLwXuHekFWXmjPrgslUWqcT9MQU4\nAHikXhToKTOvpdzHfXj92bLdKU9fH8KngRf2taCSJEmStNR4w+Tyarp6CkzeeiDFaTXhzsy5EbFJ\n/T97TVN/r3sy8GZgdqNL+IzMfGSIefYGXkR5MNmNwEqUZPUF1CeT1+k2BcZTundPiIgta1kuX/To\nhvVr4DLgtIg4oJZxPUpT9PGUp7V/HjiJ8jNpz6Y8PO2YlsslSZIkSRojbbdwk5mzRphkH0qX8/O6\nhr8POG6IeS4BXgEcSXla+CzgSuAtmdn8KbFfA+s33l9a17U8I+t5gWA009cLDTsCX6LEsDrlyern\nAfcAj1N+2/t4YM067GeUPuOSJEmSpKVA3xPuzHzfCOPf1vV+gR/clpmXUVq0R5ruuQu67Ma8rx5i\n+OQhhq/b9X4msG999bLbwpZNkiRJkrT4a+0p5ZIkSZIkLctMuCVJkiRJaoEJtyRJkiRJLTDhliRJ\nkiSpBSbckiRJkiS1wIRbkiRJkqQWmHBLkiRJktQCE25JkiRJklpgwi1JkiRJUgtMuCVJkiRJaoEJ\ntyRJkiRJLTDhliRJkiSpBSbckiRJkiS1wIRbkiRJkqQWmHBLkiRJktQCE25JkiRJklpgwi1JkiRJ\nUgtMuCVJkiRJaoEJtyRJkiRJLRg36AJoAWy8PjzleYMuxaK57PZBl6AvHv+Xpw66CH1xyD456CL0\nzcHfiUEXoS92fWIpqZNNBl2A/rjlL0tHIJPefdagi9AXW7//qEEXoW+uYtNBF6Evpqy93aCL0BeP\nfH/1QRehL/6x3lISx2VL+Plu04RBF6A/dv3M8YMuwiKZPudmfjegddvCLUmSJElSC0y4JUmSJElq\ngQm3JEmSJEktMOGWJEmSJKkFJtySJEmSJLXAhFuSJEmSpBaYcEuSJEmS1AITbkmSJEmSWmDCLUmS\nJElSC0y4JUmSJElqgQm3JEmSJEktMOGWJEmSJKkFJtySJEmSJLXAhFuSJEmSpBaYcEuSJEmS1AIT\nbkmSJEmSWmDCLUmSJElSC0y4JUmSJElqgQl3H0TE+IiYGxE7DroskiRJkqTFQ98T7og4tiafR/QY\nd0Qdd3Rj2AERcUlEPBgRd0XEKRGx8SjWMykizo2I+yJidkRcFxHHRMS4xvhTI+KOiJgVEVMi4l3D\nLO/gWrY59W/3a85Q82bmo8DawO9GKrckSZIkadnQRgt3ArcCu0XE+M7A+v9uwC1d028PfAvYBngt\nsAJwdkSsPNQKImJT4Ezgkjr/ZsC+wGPA8nWybYHLgV2AzYFjgOMi4o1DLPYrlKR5nfr3H8CB9f/O\n8F5lWQEgM+/OzCeGKrMkSZIkadkyrqXlXgo8l5LsnliH7UJJxG9qTpiZOzffR8QewN3A1sAFQyx/\nR2BaZh7QGDYVOLux3C91zfOtiHg98DbgjO4FZuZDwEONcswBZmXm3V3luwi4EBgPTAYujohdgIeB\nnTLz7Drds4GvUS4iPA78AfiPzPxHHf864DDgBcCjwN+Bd2bmnUPELEmSJElagrR1D3dSWpT3bAzb\nEzgaiBHmXa3Of/8w09wJrBMR2y9guSaOsNzR2qsuZxvgP7pHRsSKwDmUcr4c2IGSdJ8REcvV1v6T\ngV9TEu5tKZ+XJEmSJGkp0VYLN8DxwH9HxPqUJHtb4J3Aq4aaISIC+AZwQWZeNcyyf05p5T4vIu4C\nLgbOBY7LzJlDLPsdwEuADyxELN2uyMzPNpY9vmv8e4GZmblvY5r3AQ9QPocbgacAp2dmp4v9NX0o\nlyRJkiRpMdHaU8oz8z7gdGCP+jojM0dqXT6C0uI7uTMgIo6MiJn19WBd9tzMfD+wHrA/5X7rTwNX\nRsRa3QuNiFdRWtf3ysx+JLZ/GWH8FsBmjXLPpHSTXx7YMDOnAT+lXDA4NSL2jYg1+1AuSZIkSdJi\nos0WbijdpL9N6SL+4eEmjIhvAzsD22fmHY1RB1EeaPYkNXE9ATghIg4Crgf2AQ5pLHcScBrl/ukT\nFj6U+cweYfwEyn3e7+PJXejvBsjMd0XEi4GdgH8HDo2IV2XmZUMu9fb9YPmJ8w972uTykiRJkqRl\n3G0nXsRtJ14037DHZzw0xNTtazvhPgtYEZhL44Fm3Wqy/RZgUmbe2hyXmfcC9460osycERHTgFUa\ny30l8Ctg/8z8wcIEsJCmAG8A7szMh4eaKDMvpTxg7ksRMYXyFPehE+5nHg5P2arPRZUkSZKkpcOz\nJr+cZ01++XzDpk+5md9tfdBAytNqwp2ZcyNik/p/9pqm/l73ZODNwOxGl/AZmfnIEPPsDbwIOIVy\nP/RKwO6U7ugfqdO8ktKl/RvAKY3lPpaZ0xc9umH9EPgYcGpEHALcAWxAeVL754DVgffU8t1B+Vmz\n5wDD3bcuSZIkSVqCtHYPd0dmzsrMWcNMsg/wVOA8SvLZeb1jmHkuobRkHwlcUed9GfCWzOz8lNju\nwMrAAV3LPWm0RV/Y4fXBbdsDdwGnUhLp71C6l88GZlHu8z4ZuI7yO+RfyczjRlk2SZIkSdJiru8t\n3Jn5vhHGv63r/QIn/fU+591HUY5hyzLC/BsMMXzbHsMepTwQrTlsGuVp5b08TOlCL0mSJElaSrXe\nwi1JkiRJ0rLIhFuSJEmSpBaYcEuSJEmS1AITbkmSJEmSWmDCLUmSJElSC0y4JUmSJElqgQm3JEmS\nJEktMOGWJEmSJKkFJtySJEmSJLXAhFuSJEmSpBaYcEuSJEmS1AITbkmSJEmSWmDCLUmSJElSC0y4\nJUmSJElqgQm3JEmSJEktMOGWJEmSJKkFJtySJEmSJLXAhFuSJEmSpBaYcEuSJEmS1IJxgy6AFsDz\ngacPuhCL6LI1B12C/jjvkUGXoC9OeuYugy5C3+z6RA66CH1x8Pdj0EXoi5/lXwddhL5YnjmDLkJf\nnH/5ToMugrqsvtntgy5Cf3x70AXoj0mnnDXoIvTF2zhl0EXoi1+/c+dBF6FvXsRlgy5CX/zP6w4e\ndBEWzYNTgIMGsmpbuCVJkiRJaoEJtyRJkiRJLTDhliRJkiSpBSbckiRJkiS1wIRbkiRJkqQWmHBL\nkiRJktQCE25JkiRJklpgwi1JkiRJUgtMuCVJkiRJaoEJtyRJkiRJLTDhliRJkiSpBSbckiRJkiS1\nwIRbkiRJkqQWmHBLkiRJktQCE25JkiRJklpgwi1JkiRJUgtMuCVJkiRJaoEJtyRJkiRJLTDh7pOI\nmBYRew+6HJIkSZKkxUPfE+6IODYi5kbEET3GHVHHHd0Ytk9EXB4RM+rrwojYaRTrmRQR50bEfREx\nOyKui4hjImJcHT++vv9bRDweESePsLzda9nm1L/drzkRsf4wi9gM+OFI5ZYkSZIkLRvaaOFO4FZg\nt4gY3xlY/98NuKVr+tuA/wS2rq/fAadFxKZDraCOOxO4BNiekuzuCzwGLF8nWx54CPgm8NtRlPsn\nwNrAOvXvRcD3gLUaw2/rUZYVADLzvsx8dBTrkSRJkiQtA9rqUn4pJenepTFslzrs0uaEmXlGZp6V\nmTfU14HALOBfhln+jsC0zDwgM6/KzKmZeXZmfrCT9GbmQ5n5kcz8AXDXSAXOzEcz8+7Oi5K8P5SZ\n9zSGZ0ScWF+fi4hpwGXw5C7lEbF6be2/JyIeiIizI+IFjfFbRcT5ETGztuz/OSI2H6mckiRJkqQl\nQ1sJdwLHAHs2hu0JHA3EUDNFxHIRsRvwFEoL81DuBNaJiO37UNaF8UZgXeBVwK5DTHMKJY7XAi8B\nrgbOjYgJdfxPgWuBF1Na9r8KPNFimSVJkiRJY2hci8s+Hvjvet9zANsC76QkqfOJiM0oCfZKwEzg\nbZl5zTDL/jmllfu8iLgLuBg4FzguM2f2NYrepgP7ZObcXiMj4rXApsCrM3NOHfYx4G3AWymfzXrA\nbzPzhjrbDb2WJUmSJElaMrX2lPLMvA84Hdijvs7IzPuHmPwaYEtgG+BI4LiI2AQgIo6s3a5nRsSD\nddlzM/P9lKR1f+AfwKeBKyNirbZiarhsqGS72gJYHXigU3bgQcp94BvWab4BnBARv4mI/SPi2e0W\nWZIkSZI0ltps4YbSrfzblC7mHx5qosx8Aripvp0SES8D/gP4EHAQ8JUh5psGnEBJXA8Crgf2AQ7p\nVwBDmD3C+AnAVEorfHcX+ukAmXlARBwL7Ezpon5IROyamWcOudRL9oMVJ84/7LmTYYPJC1J2SZIk\nSVo63XlieTU9MWMwZaH9hPssYEVgLnD2Asy3HDAeIDPvBe4daYbMnFEfYrbKQpSz36YABwCP1IsC\nPWXmtZT7uA+vP1u2O+Xp67297HB4+lZ9LqokSZIkLSXWnlxeTQ9OgUu2HkhxWk24M3Nup2t4Zmav\naSLii5Qk8zZgVeDdwCRK63BP9WngL6I8mOxGyr3fuwMvAD7SmG5TSuK+OjAhIrasZbl8UWMbwa8p\nTy8/LSIOqGVcD3gT5f7tW4HPAydRfibt2ZSHpx3TcrkkSZIkSWOk7RZuMnPWCJOsBRxHub95BvA3\nYMfM/N0w81wCvIJyv/e6lJ8RuxJ4S2Ze0Jju18D6jfeXUrq3L8/Iel4gGM309ULDjsCXKLGtTnmy\n+nnA/8/evYfbVdX3/n9/JRCQWDzUAwQRVOxPoAE1odpGkctBimJVwu+BRG2BiEI1z085ynNOKBRS\ne4RzsAWPFKwVgikYRLkduQnGH1gUpJIEJdwRuUhCQiAhCRgg+3v+mHPXlc1aWTvJHMxc3q/nmc/e\na8wxx/yujbR81hhzrEXAS1Tf7X0xsEPddhnwlbW8pyRJkiRpA9V44M7MY/ucP3zI6+PW4R5zqWa0\n+/V7y9qO3XHtQT3auz4wnZk7D3m9DJhSH91MXNfaJEmSJEkbvmK7lEuSJEmStDkzcEuSJEmSVICB\nW5IkSZKkAgzckiRJkiQVYOCWJEmSJKkAA7ckSZIkSQUYuCVJkiRJKsDALUmSJElSAQZuSZIkSZIK\nMHBLkiRJklSAgVuSJEmSpAIM3JIkSZIkFWDgliRJkiSpAAO3JEmSJEkFGLglSZIkSSrAwC1JkiRJ\nUgEGbkmSJEmSCjBwS5IkSZJUgIFbkiRJkqQCDNySJEmSJBUQmdl2DeojIsYCdzLuTnjd2LbLWT8H\nt11AQ25vu4CGfLXtAhp0TdsFNGPPL85uu4RGHBnj2i6hEdNO30T+f+Tr2y6gId9vu4AGHdB2AVrN\n3LYLaMiItgtoyMS2C2jQG9ouoCEb+//9XTQbLh8HMC4zX9X/2HKGW5IkSZKkAgzckiRJkiQVYOCW\nJEmSJKkAA7ckSZIkSQUYuCVJkiRJKsDALUmSJElSAQZuSZIkSZIKMHBLkiRJklSAgVuSJEmSpAIM\n3JIkSZIkFWDgliRJkiSpAAO3JEmSJEkFGLglSZIkSSrAwC1JkiRJUgEGbkmSJEmSCjBwS5IkSZJU\ngIFbkiRJkqQCDNySJEmSJBVg4G5ARIyMiIGIOKTtWiRJkiRJG4bGA3dEXFSHz/O6nDuvPndhR9sJ\nEXFXRCytj59FxKHDuM/+ETErIhZHxIqIeCAipkfEiI7zV0XEkxGxPCJmR8TH1zDeaXVtq+qfQ49V\nva7NzJXATsCP+9UtSZIkSdo8lJjhTuAxYGJEjBxsrH+fCDw6pP/jwH8DxtXHj4GrI2LPXjeoz10P\n3AHsB4wBpgAvAlvU3cYDdwETgL2B6cCMiDisx7BnUYXm0fXPJ4BT6t8H27vVsiVAZi7MzJd71SxJ\nkpLkU+kAACAASURBVCRJ2ryMKDTuHOAtVGF3Zt02gSqI/7qzY2ZeO+TaUyLir4E/Be7tMf4hwPzM\nnNrR9ghwY8e4Zwy55usR8efA4cDQe5KZzwPPD76uZ7SXZ+bCzn4RcRvwM2AkMAm4PSImAC8Ah2bm\njXW/3YB/AA4GXgJ+Anw+M5+oz38A+AqwF7AS+BVwVGYu6PGeJUmSJEkbkVLPcCfVjPLkjrbJwIVA\n9LooIl4TEROB1wK3rWH8BcDoiNhvLevaDnhmLa/p5rh6nPcAnx96MiK2An5EVeefAe+nCt3X1u9x\nJHAFcB1V4B5P9feSJEmSJG0iSs1wA1wMnBkRu1KF7PHAUcCBQztGxBiqgL01sAw4PDPvW8PY36Oa\n5b45Ip4CbgdmATMyc1m3CyLiSGBf4NPr/I5+7+7M/NuOsUcOOf9XwLLMnNLR51hgCdXf4WGqDxWu\nyczBJfZrer+SJEmSpI1MscCdmYsj4hrgGKrAfW1mPhPRdYL7PuAdwOuBI6ietX5/Zt4XEecDn/z9\nsPkHmTkAfCoiTgEOopppPhn4bxHxJ5n5VOfgEXEg1ez6cX2C/HD9os/5fYAxETE0/G8B7J6Zt0bE\nd6k+MLiJajb8sqHL11/hoRNhxHart+0wCXactDa1S5IkSdKm6cGZ8NDM1dteXNpOLZSd4YZqmfS5\nVEvMP9urU73Z2OCz3bMj4t1US7X/GjiVakOzbtfNBy4BLomIU4EHgROAaYN9ImJ/4Gqq56cvWd83\nVFvR5/woque8j+WVS+gXAmTmxyPiXcChVB8ofDkiDszMuT1HfdvZ8Lqx61y0JEmSJG3S/mhSdXRa\nNBsuH9dKOaUD9w3AVsAAHRuaDcNrqDYlIzOfBp7ud0FmLo2I+cC2g20RcQDwA+CkzLxgLe6/vmYD\nHwQWZOYLvTpl5hyqDebOiIjZVLu49w7ckiRJkqSNRtHAnZkDEbFH/Xt26xMR/4PqK74eB14HfALY\nn+oZ7a4i4jPAO4ErqZ6H3ho4mmoDss/VfQ4ArgHOAa6MiB3ry1/MzGfX97318W3gC8BVETENeBJ4\nK9VO7acD2wN/Wdf3JNXXmr0ZuKdwXZIkSZKkV0npGW4yc3mfLjsCM6i+53op8EvgkMz88RquuQN4\nL3A+sDOwHJgHfDQzb637HA1sA0ytj0G3UD333bf0dW3PzGX1Dur/E7iKaon5E8BNVMvRt6J6znsy\nVfj+LXBWZs4YRl2SJEmSpI1A44E7M4/tc/7wIa+PW4d7zKUK1P3qWGMtfa5/a4/28V3aVlJtiNbZ\nNp9qt/JuXgA+uq61SZIkSZI2fKW+h1uSJEmSpM2agVuSJEmSpAIM3JIkSZIkFWDgliRJkiSpAAO3\nJEmSJEkFGLglSZIkSSrAwC1JkiRJUgEGbkmSJEmSCjBwS5IkSZJUgIFbkiRJkqQCDNySJEmSJBVg\n4JYkSZIkqQADtyRJkiRJBRi4JUmSJEkqwMAtSZIkSVIBBm5JkiRJkgowcEuSJEmSVICBW5IkSZKk\nAgzckiRJkiQVMKLtArQW3g7s0HYR6+n7bRfQjIPmXNN2CY14mLe1XUJjHv3FHm2X0IgtWNV2CY2Y\ndnq2XUIjTjs92i6hEdPetmn885j04IVtl9CYmT+d3HYJzbiq7QKaceQPvt12CY14M79pu4RGvInH\n2y6hMVfysbZLaMSPz/xw2yWsn+fau7Uz3JIkSZIkFWDgliRJkiSpAAO3JEmSJEkFGLglSZIkSSrA\nwC1JkiRJUgEGbkmSJEmSCjBwS5IkSZJUgIFbkiRJkqQCDNySJEmSJBVg4JYkSZIkqQADtyRJkiRJ\nBRi4JUmSJEkqwMAtSZIkSVIBBm5JkiRJkgowcEuSJEmSVICBW5IkSZKkAgzckiRJkiQVYOCWJEmS\nJKkAA3dDImJ+RHym7TokSZIkSRuGxgN3RFwUEQMRcV6Xc+fV5y7sce3U+vw/DuM++0fErIhYHBEr\nIuKBiJgeESPq8yPr17+MiJci4oo+4x1d33tV/XPosSoidl3DEGOAb/erW5IkSZK0eSgxw53AY8DE\niBg52Fj/PhF4tNtFEfEnwKeBu/rdICL2BK4H7gD2owq7U4AXgS3qblsAzwNfA24aRt2XAjsBo+uf\ntwHfBHbsaH+8Sy1bAmTm4sxcOYz7SJIkSZI2A6WWlM+hCt0TOtom1G1zhnaOiFHAxcBxwJJhjH8I\nMD8zp2bmPZn5SGbemJnHD4bezHw+Mz+XmRcAT/UbMDNXZubCwYMqvD+fmYs62jMiZtbH6RExH5hb\nv4fVlpRHxPb1bP+iiFgSETdGxF4d58dGxC0RsSwilkbEzyNi72G8d0mSJEnSRqBU4E5gOjC5o20y\ncCEQXfr/E/CDzPzxMMdfAIyOiP3Wq8p1dxiwM3AgcESPPlcCrwUOBvYF7gVm1R8uAHwXuB94FzAO\n+CrwcsGaJUmSJEmvohEFx74YOLN+7jmA8cBRVCH1P0TEROCdVKF0uL5HNct9c0Q8BdwOzAJmZOay\nBmrv51nghMwc6HYyIg4G9gQOysxVddsXgMOBj1H9bXYBbsrMh+rLHuo2liRJkiRp41Rsl/LMXAxc\nAxxTH9dm5jOdfSLiTcA5wCcz86Vu40TE+fWy62UR8Vw99kBmfooqtJ4EPAGcDMyLiB0LvaVOc3uF\n7do+wPbAksHageeongPfve5zDnBJRPwwIk6KiN3KlixJkiRJejWVnOGGaln5uVRLzD/b5fxY4D8D\nd0bE4FLzLYD3R8QUYCRwKnBWt8Ezcz5wCVVwPRV4EDgBmNbkm+hiRZ/zo4BHqGbhhy6hfxYgM6dG\nxEXAh6iWqE+LiCMy8/qeo95yIozcbvW2/2cS7DFpbWqXJEmSpE3TgpnV0enlpe3UQvnAfQOwFTAA\n3Njl/I+AoRuFXUT1vPOZmZnA0/WxRpm5tN7EbNv1Kbghs4GpwO/qDwW6ysz7qZ7jPrv+2rKjqXZf\n727/s2GHsQ2XKkmSJEmbiJ0mVUen52bDHeNaKado4M7MgYjYo/49u5xfAdzT2RYRK4DFmXlvr3Hr\n3cDfSbUx2cPA1lRhdS/gcx399qSaJd8eGBUR76jv2/erx9bTdVS7l18dEVPrGncBPkz1/PZjwN8B\nl1N9TdpuVJunTS9clyRJkiTpVVJ6hpvMXL62lwyjzx3Ae4HzqXYLXw7MAz6ambd29LsO2LXj9Zx6\n/C3obzh1dO1ff9BwCHAGMIMq8C8AbgYWAS9Rfbf3xcAOddtlwFfW8p6SJEmSpA1U44E7M4/tc/7w\nPucPGsY95lLNaPfr95Z+fda2jszs+sB0Zu485PUyYEp9dDNxXWuTJEmSJG34iu1SLkmSJEnS5szA\nLUmSJElSAQZuSZIkSZIKMHBLkiRJklSAgVuSJEmSpAIM3JIkSZIkFWDgliRJkiSpAAO3JEmSJEkF\nGLglSZIkSSrAwC1JkiRJUgEGbkmSJEmSCjBwS5IkSZJUgIFbkiRJkqQCDNySJEmSJBVg4JYkSZIk\nqQADtyRJkiRJBRi4JUmSJEkqwMAtSZIkSVIBBm5JkiRJkgqIzGy7BvUREWOBO9nvTthubNvlrJ9r\nTm+7gmaccnrbFTRizy/PbruExuzAwrZLaMQtdx3adgnNuLntAhpybtsFNOO0h6LtEhox7Vub0H+z\nvKHtAhpyd9sFNGSPtgtoxpgj/r3tEhpx99f+pO0SmrOJ/G+L37VdwHp6eDZ8cRzAuMx8Vf8D2Blu\nSZIkSZIKMHBLkiRJklSAgVuSJEmSpAIM3JIkSZIkFWDgliRJkiSpAAO3JEmSJEkFGLglSZIkSSrA\nwC1JkiRJUgEGbkmSJEmSCjBwS5IkSZJUgIFbkiRJkqQCDNySJEmSJBVg4JYkSZIkqQADtyRJkiRJ\nBRi4JUmSJEkqwMAtSZIkSVIBBm5JkiRJkgowcEuSJEmSVICBuwERMTIiBiLikLZrkSRJkiRtGBoP\n3BFxUR0+z+ty7rz63IU9rp1an//HYdxn/4iYFRGLI2JFRDwQEdMjYkTH+asi4smIWB4RsyPi42sY\n77T63qvqn0OPVb2uzcyVwE7Aj/vVLUmSJEnaPJSY4U7gMWBiRIwcbKx/nwg82u2iiPgT4NPAXf1u\nEBF7AtcDdwD7AWOAKcCLwBZ1t/H1WBOAvYHpwIyIOKzHsGdRhebR9c8ngFPq3wfbu9WyJUBmLszM\nl/vVLkmSJEnaPJRaUj6HKnRP6GibULfNGdo5IkYBFwPHAUuGMf4hwPzMnJqZ92TmI5l5Y2YeX882\nk5lnZOZpmXl7ff7rwA3A4d0GzMzn69C8MDMXAquA5UPaiIjbIuIfIuLciFgMXNVtSXlE7BYR34+I\nJRGxKCIuj4hdOs5/ICL+vZ6dfyYibomInYbx3iVJkiRJG4FSgTupZpQnd7RNBi4Eokv/fwJ+kJnD\nXZK9ABgdEfutZV3bAc+s5TXdHFeP8x7g80NPRsRWwI+o6vwz4P3AS8C1EfGaerb/CuA6YC+q2fjp\nDdQlSZIkSdpAjCg49sXAmRGxK1XIHg8cBRzY2SkiJgLvBPZdi7G/RzXLfXNEPAXcDswCZmTmsm4X\nRMSR9T0+vZbvo5u7M/NvO8YeOeT8XwHLMnNKR59jqWbvxwMPA68FrsnMwSX29zVQlyRJkiRpA1Fs\nl/LMXAxcAxxTH9dm5mqzyxHxJuAc4JOZ+VK3cSLi/IhYVh/P1WMPZOangF2Ak6ietz4ZmBcRO3YZ\n40Cq2fXjMrOJYPuLPuf3AcZ01L0MWEj1fPnumTkf+C7VBwZXRcSUiNihgbokSZIkSRuIkjPcUC2T\nPpdqiflnu5wfC/xn4M6IGFxqvgXw/oiYAowETqXa0OwV6uB6CXBJRJwKPAicAEwb7BMR+wNXA5/P\nzEuaeFPAij7nRwE/A47llUvoFwJk5scj4l3AocAngS9HxIGZObfnqPNOhC23W71t50nwxklrVbwk\nSZIkbZJ+MhP+bebqbSuWtlML5QP3DcBWwABwY5fzP6LaQbzTRcC9wJmZmcDT9bFGmbk0IuYD2w62\nRcQBwA+AkzLzgnWof13NBj4ILMjMF3p1ysw5VJvInRERs6l2ce8duP/4bNhubMOlSpIkSdIm4v2T\nqqPTw7Phi+NaKado4M7MgYjYo/49u5xfAdzT2RYRK4DFmXlvr3Ej4jNUz31fSfU89NbA0VQbkH2u\n7nMA1ZL2c4ArO5aav5iZz67fO+vr28AXqHYwnwY8CbyVaqf204Htgb+s63uS6mvN3syQv4UkSZIk\naeNV7BnuQZm5PDOXr80lw+hzB9VM9vnA3cDNwLuBj2bmrXWfo4FtgKlUoXbwuHw96+jbXm/cth/w\nFHAVVZD+BtXy8hXAcqrnvK8AHgC+DpyVmTOGWZskSZIkaQPX+Ax3Zh7b53zX78HuOH/QMO4xlypQ\n96tjjbX0uf6tPdrHd2lbSfXseWfbfKrdyrt5AfjoutYmSZIkSdrwFZ/hliRJkiRpc2TgliRJkiSp\nAAO3JEmSJEkFGLglSZIkSSrAwC1JkiRJUgEGbkmSJEmSCjBwS5IkSZJUgIFbkiRJkqQCDNySJEmS\nJBVg4JYkSZIkqQADtyRJkiRJBRi4JUmSJEkqwMAtSZIkSVIBBm5JkiRJkgowcEuSJEmSVICBW5Ik\nSZKkAgzckiRJkiQVYOCWJEmSJKkAA7ckSZIkSQWMaLsArYV/a7uAJpzedgHNeH3bBTTj3gvGtl1C\nY8Z96l/aLkGdvt92Ac2Y9OCFbZfQiGkXZNslNOK046LtEhoz7ZRN458Jc9suoBnv+5ub2i6hEW/n\n/rZLaMRDx+zedgka4hPbfaftEtbL07Mf5+qW7u0MtyRJkiRJBRi4JUmSJEkqwMAtSZIkSVIBBm5J\nkiRJkgowcEuSJEmSVICBW5IkSZKkAgzckiRJkiQVYOCWJEmSJKkAA7ckSZIkSQUYuCVJkiRJKsDA\nLUmSJElSAQZuSZIkSZIKMHBLkiRJklSAgVuSJEmSpAIM3JIkSZIkFWDgliRJkiSpAAO3JEmSJEkF\nGLglSZIkSSrAwN2QiJgfEZ9puw5JkiRJ0oah8cAdERdFxEBEnNfl3Hn1uQs72k6r2zqPe4Zxn/0j\nYlZELI6IFRHxQERMj4gR9fmR9etfRsRLEXFFn/GOru+9qks9g+27rmGIMcC3+9UtSZIkSdo8lJjh\nTuAxYGJEjBxsrH+fCDza5Zq7gR2BnerjfWu6QUTsCVwP3AHsRxV2pwAvAlvU3bYAnge+Btw0jLov\nre89uv55G/DNjrpGA493qWVLgMxcnJkrh3EfSZIkSdJmoNSS8jlUoXtCR9uEum1Ol/4vZ+aizFxY\nH8/0Gf8QYH5mTs3MezLzkcy8MTOPHwy9mfl8Zn4uMy8AnupXcGau7Lj/Qqrw/vyQujIiZtbH6REx\nH5gLr1xSHhHb17P9iyJiSUTcGBF7dZwfGxG3RMSyiFgaET+PiL371SlJkiRJ2jiUCtwJTAcmd7RN\nBi4Eokv/P4qI30bEwxFxcUS8qc/4C4DREbFfM+WutcOAnYEDgSN69LkSeC1wMLAvcC8wKyJG1ee/\nC9wPvAsYB3wVeLlgzZIkSZKkV9GIgmNfDJxZP/ccwHjgKKqQ2ul24Biq8DkaOB34SUSMycwVPcb+\nHtUs980R8VQ9xixgRmYua/h9dPMscEJmDnQ7GREHA3sCB2XmqrrtC8DhwMeo/ja7ADdl5kP1ZQ91\nG0uSJEmStHEqtkt5Zi4GrqEK08cA13ZbKp6ZP8zMyzPz7sy8CfgQ8J+AIwEi4vx62fWyiHiuvmYg\nMz9FFVpPAp4ATgbmRcSOpd5Th7m9wnZtH2B7YMlg7cBzVB8o7F73OQe4JCJ+GBEnRcRuZUuWJEmS\nJL2aSs5wQ7Ws/FyqJeafHc4Fmbk0Ih4A3lY3nQqc1aPvfOASquB6KvAgcAIwbT3r7qfXzPugUcAj\nVLPwQ5fQPwuQmVMj4iKqDxgOA6ZFxBGZeX3vYU8EthvSNqk+JEmSJGnz9vDMX/DrmXeu1vbi0hda\nqqZ84L4B2AoYAG4czgX1M867AzMAMvNp4Ol+19VBfT6w7TpX25zZwFTgd/WHAl1l5v1US+nPrr+2\n7Giq3dd7OBsY22ihkiRJkrSp2H3Svuw+ad/V2p6e/ThXj/tfrdRTNHBn5kBE7FH/nt36RMRZwA+o\nvi7sjVSz0y8DM3uNW+8G/k6qjckeBramCqt7AZ/r6LcnMJJqefeoiHhHXctd6/ve+riOavfyqyNi\nal3jLsCHqZ7ffgz4O+Byqve9G9XmadML1yVJkiRJepWUnuEmM5f36bIL8B3gD4FFwK3An9bPgPdy\nB/Be4Hyq3cKXA/OAj2bmrR39rgN27Xg9h2p5+xb01/UDguH0rz9oOAQ4g2qmfnuqndVvpnqPL1F9\nt/fFwA5122XAV9bynpIkSZKkDVTjgTszj+1z/vAhr9f6AeTMnEs1o92v31vWduyOaw/q0d613szc\necjrZcCU+uhm4rrWJkmSJEna8BXbpVySJEmSpM2ZgVuSJEmSpAIM3JIkSZIkFWDgliRJkiSpAAO3\nJEmSJEkFGLglSZIkSSrAwC1JkiRJUgEGbkmSJEmSCjBwS5IkSZJUgIFbkiRJkqQCDNySJEmSJBVg\n4JYkSZIkqQADtyRJkiRJBRi4JUmSJEkqwMAtSZIkSVIBBm5JkiRJkgowcEuSJEmSVICBW5IkSZKk\nAgzckiRJkiQVMKLtArQWPgPs3HYR6+n0tgtoyO/aLqAhW7ddQHPuYc+2S2jE9mN+23YJjXjmgDe2\nXUIjZv50ctslNOMNbRfQjGmnZNslNOa0v4+2S2jEd3Ju2yU04tZ5H2i7hEbc+ptN432wx6bz7zoL\nNo1/169974faLmG9vMTdrd3bGW5JkiRJkgowcEuSJEmSVICBW5IkSZKkAgzckiRJkiQVYOCWJEmS\nJKkAA7ckSZIkSQUYuCVJkiRJKsDALUmSJElSAQZuSZIkSZIKMHBLkiRJklSAgVuSJEmSpAIM3JIk\nSZIkFWDgliRJkiSpAAO3JEmSJEkFGLglSZIkSSrAwC1JkiRJUgEGbkmSJEmSCjBwS5IkSZJUgIG7\nARExMiIGIuKQtmuRJEmSJG0YGg/cEXFRHT7P63LuvPrchR1tp9Vtncc9w7jP/hExKyIWR8SKiHgg\nIqZHxIiO81dFxJMRsTwiZkfEx9cw3mAdq7rUMxARq3pdm5krgZ2AH/erW5IkSZK0eSgxw53AY8DE\niBg52Fj/PhF4tMs1dwM7UoXWnYD3rekGEbEncD1wB7AfMAaYArwIbFF3Gw/cBUwA9gamAzMi4rAe\nw55V33t0/fMJ4JSOmkb3qGVLgMxcmJkvr6luSZIkSdLmY0ShcecAb6EKuzPrtglUQfzXXfq/nJmL\n1mL8Q4D5mTm1o+0R4MbBF5l5xpBrvh4Rfw4cDlw7dMDMfB54fvB1PaO9PDMXdvaLiNuAnwEjgUnA\n7RExAXgBODQzb6z77Qb8A3Aw8BLwE+DzmflEff4DwFeAvYCVwK+AozJzwVr8HSRJkiRJG6hSz3An\n1Yzy5I62ycCFQHTp/0cR8duIeDgiLo6IN/UZfwEwOiL2W8u6tgOeWctrujmuHuc9wOeHnoyIrYAf\nUdX5Z8D7qUL3tRHxmnq2/wrgOqrAPZ7q7yVJkiRJ2kSUmuEGuBg4MyJ2pQrZ44GjgAOH9LsdOAa4\nn2rZ9unATyJiTGau6DH296hmuW+OiKfqMWYBMzJzWbcLIuJIYF/g0+vxngbdnZl/2zH2yCHn/wpY\nlplTOvocCyyh+js8DLwWuCYzB5fY39dAXZIkSZKkDUSxXcozczFwDVWYPga4NjNfMbucmT/MzMsz\n8+7MvAn4EPCfgCMBIuL8iFhWH8/V1wxk5qeAXYCTqJ63PhmYFxE7Dr1HRBxINbt+XGY2EWx/0ef8\nPsCYjrqXAQupni/fPTPnA9+l+sDgqoiYEhE7NFCXJEmSJGkDUXKGG6pl0udSLTH/7HAuyMylEfEA\n8La66VSqDc269Z0PXAJcEhGnAg8CJwDTBvtExP7A1VTPT1+yju9jqF4z74NGUT3nfSyvXEK/ECAz\nPx4R7wIOBT4JfDkiDszMuT1HveFE2Hq71dv2nlQdkiRJkrSZe2Hm/+F3M69ZrW1g6XMtVVM+cN8A\nbAUM0LGh2ZpExChgd2AGQGY+DTzd77o6qM8Htu0Y6wDgB8BJmXnB2ha/HmYDHwQWZOYLvTpl5hyq\nDebOiIjZVLu49w7ch54NO49tuFRJkiRJ2jRsM+kjbDPpI6u1vTT7bhaP+2gr9RQN3Jk5EBF71L9n\ntz4RcRZVKH4UeCPV7PTL/H53827XfAZ4J3Al1fPQWwNHU21A9rm6zwFUS9rPAa7sWGr+YmY+u77v\nrY9vA18AroqIacCTwFupdmo/Hdge+Mu6viepvtbszUDf7x+XJEmSJG0cSs9wk5nL+3TZBfgO8IfA\nIuBW4E/rZ8B7uQN4L3A+sDOwHJgHfDQzb637HA1sA0ytj0G3AAcNp/R1bc/MZfUO6v8TuIpqifkT\nwE1Uy9G3onrOezJV+P4tcFZmzhhGXZIkSZKkjUDjgTszj+1z/vAhr9f6AeT6Oeejh1HHGmvpc/1b\ne7SP79K2kmpDtM62+VS7lXfzAtDOmgZJkiRJ0qui2C7lkiRJkiRtzgzckiRJkiQVYOCWJEmSJKkA\nA7ckSZIkSQUYuCVJkiRJKsDALUmSJElSAQZuSZIkSZIKMHBLkiRJklSAgVuSJEmSpAIM3JIkSZIk\nFWDgliRJkiSpAAO3JEmSJEkFGLglSZIkSSrAwC1JkiRJUgEGbkmSJEmSCjBwS5IkSZJUgIFbkiRJ\nkqQCDNySJEmSJBVg4JYkSZIkqQADtyRJkiRJBYxouwAN39jjf8brxi5su4z18uRpo9suoREPbvOO\ntktoxtvaLqA5s3d6X9slNOPctgtoyJi2C2jIVW0X0JDXt11AQ+a2XUBzvpObxpv5eLyz7RIaMe1L\n2XYJzXi67QIacl+0XUFzlrRdQDMWnPDWtktYP4+39w/CGW5JkiRJkgowcEuSJEmSVICBW5IkSZKk\nAgzckiRJkiQVYOCWJEmSJKkAA7ckSZIkSQUYuCVJkiRJKsDALUmSJElSAQZuSZIkSZIKMHBLkiRJ\nklSAgVuSJEmSpAIM3JIkSZIkFWDgliRJkiSpAAO3JEmSJEkFGLglSZIkSSrAwC1JkiRJUgEGbkmS\nJEmSCjBwNyQi5kfEZ9quQ5IkSZK0YWg8cEfERRExEBHndTl3Xn3uwiHtO0fEv0bE0xHxfETcFRFj\n+9xnn4i4OiKeiogXIuKRiJgZEW/oOP+diHisHnNeRPx/axjv6Lq2VfXPoceqiNh1DSWNAb695r+O\nJEmSJGlzUWKGO4HHgIkRMXKwsf59IvBoZ+eIeD3wU2Al8OfAnsAXgWd73aAO1bOAp4FDgD2AY4An\ngW3rbuOAhcAngL2A/wGcERGf7THspcBOwOj6523AN4EdO9of71LLlgCZuTgzV/aqWZIkSZK0eRlR\naNw5wFuACcDMum0CVRD/9ZC+/x14LDOP62h7lDV7L/AHwKczc6DjmlsGO2Tm9CHX/CYixtd1vGL2\nvQ7LCwdfR8SLwPOZuaizX0QMvp/7geOBZ4A/joj5wGmZ+c263/bAPwKHAVsCdwBfyMx76vNjgbOB\nscAAcB9wXGb+qs97lyRJkiRtBEo9w53AdGByR9tk4EIghvT9C+AXEXFZvTx8dkQcx5otoPqwYMJa\n1rUdVUBeX4cBOwMHAkf06HMl8FrgYGBf4F5gVkSMqs9/lyq0v4tqNv6rwMsN1CZJkiRJ2gCU3DTt\nYuB9EbFrROwGjK/bhnor8NdU4fMQ4BvA/46IT/YaODN/DnwFuKR+7vu6iPhSROzQ65p6dvtI4J/X\n+R393rPACZl5X2be1+VeB1MtjZ+UmXdl5kPAF4CXgI/V3XYBbsrMh+rje5l5bwO1SZIkSZI2DpzV\nlAAAIABJREFUAMUCd2YuBq6herb6GODazOw2u/wa4M7MPLUOp98E/oUqhBMRUyNiWX08FxG71OOf\nSvVs9fHA3cAJwH0R8cdDbxARY4CrgNMzc1YDb29ux1L2bvYBtgeWDNYOPEf1HPjudZ9zqD4w+GFE\nnFR/KCFJkiRJ2kSUeoZ70HTgXKol5r02K5tPtdy60738frn4+VTLrwc9OfhLZj4LXA5cHhEnA3OB\nLwHHDvaJiL2AHwHfyMwz1vmdrG5Fn/OjgEeoZuyHLqF/FiAzp0bERcCHqJaoT4uIIzLz+l6DPnzi\nPzNiu21Xa9th0gHsMOmAtSpekiRJkjZJd86E2TNXb3thaTu1UD5w3wBsRbUp2I09+vwUePuQtrdT\nb5yWmUuAJf1ulJkvR8TD/H6XcurZ7lnA9Mz827Wuft3NBqYCv8vM+b06Zeb9VEvpz46IK4CjgZ6B\ne/ezj+d1Y9/WdK2SJEmStGkYN6k6Oj0+G/5hXCvlFA3cmTkQEXvUv2ePbmcDP42IqcBlwHuA44BP\n9xo3Ig6j+oqxS4EHqGaRPwJ8kGr5+mDY/v+pQv85EbFjffmqzHx6/d5ZX9dRzbZfXb+vh6me2f4w\n1XPsjwF/RzU7/yiwG9XmaUN3VpckSZIkbaRKz3CTmcv7nP9FRBwOnAmcSrUU+/OZeekaLruHaln3\nV4E3UX2H94PApzLzO3Wf/xf4Q6rv4f5Ex7WPUm3U1rf0YfTp2r/+oOEQ4AxgBtXz3AuAm4FFVJun\n7UQVvneo2y6j2ghOkiRJkrQJaDxwZ+axfc4f3qXtOqpZ4eHe4xGqTdLW1GcaMG24Y3a5/qAe7ZN6\ntO885PUyYEp9dDNxXWuTJEmSJG34Sn4tmCRJkiRJmy0DtyRJkiRJBRi4JUmSJEkqwMAtSZIkSVIB\nBm5JkiRJkgowcEuSJEmSVICBW5IkSZKkAgzckiRJkiQVYOCWJEmSJKkAA7ckSZIkSQUYuCVJkiRJ\nKsDALUmSJElSAQZuSZIkSZIKMHBLkiRJklSAgVuSJEmSpAIM3JIkSZIkFWDgliRJkiSpAAO3JEmS\nJEkFGLglSZIkSSrAwC1JkiRJUgGRmW3XoD4iYixwJ6+/E0aMbbuc9fPJtgtoyMFtF9CMrd/3TNsl\nNOZ339q+7RIasf8Xb2i7hEbc8heHtl1CI478wbfbLqERl11+dNslNOJ9R9zUdgmNuXXeB9ouoRkX\ntV1AM077arRdQiOuz5vbLqERj/GmtktozLGbyL8k/7zq+LZLWC8vz/4Vz737gwDjMnP2q3lvZ7gl\nSZIkSSrAwC1JkiRJUgEGbkmSJEmSCjBwS5IkSZJUgIFbkiRJkqQCDNySJEmSJBVg4JYkSZIkqQAD\ntyRJkiRJBRi4JUmSJEkqwMAtSZIkSVIBBm5JkiRJkgowcEuSJEmSVICBW5IkSZKkAgzckiRJkiQV\nYOCWJEmSJKkAA7ckSZIkSQUYuCVJkiRJKsDA3ZCImB8Rn2m7DkmSJEnShqHxwB0RF0XEQESc1+Xc\nefW5CzvaHqnbhh5f73Of/SNiVkQsjogVEfFAREyPiBH1+ZH1619GxEsRcUWf8Y6u77uqRz2rImLX\nNQwxBvj2mv86kiRJkqTNRYkZ7gQeAyZGxMjBxvr3icCjQ/rvC+zUcXygHuOyXjeIiD2B64E7gP2o\nwu4U4EVgi7rbFsDzwNeAm4ZR96X1/UfXP28Dvgns2NH+eJdatgTIzMWZuXIY95EkSZIkbQZKLSmf\nQxW6J3S0Tajb5nR2rIPqwsED+Avg4cz8tzWMfwgwPzOnZuY9mflIZt6YmccPht7MfD4zP5eZFwBP\n9Ss4M1cOqeNF4PnMXNTRnhExsz5Oj4j5wFx45ZLyiNi+nu1fFBFLIuLGiNir4/zYiLglIpZFxNKI\n+HlE7N2vTkmSJEnSxqFU4E5gOjC5o20ycCEQvS6qZ4s/AVzQZ/wFwOiI2G8961xXhwE7AwcCR/To\ncyXwWuBgqln8e4FZETGqPv9d4H7gXcA44KvAywVrliRJkiS9ikYUHPti4Mz6uecAxgNHUYXUXg4H\ntqP/s9Dfo5rlvjkingJuB2YBMzJz2foWPgzPAidk5kC3kxFxMLAncFBmrqrbvkD1/j5G9bfZBbgp\nMx+qL3uo21iSJEmSpI1TsV3KM3MxcA1wTH1cm5nP9LlsMnB9Zi4YbIiI8+tl18si4rl67IHM/BRV\naD0JeAI4GZgXETs2/mZeaW6vsF3bB9geWDJYO/Ac1XPgu9d9zgEuiYgfRsRJEbFb2ZIlSZIkSa+m\nkjPcUC0rP5dqifln19Sxngk/mGoGuNOpwFndrsnM+cAlVMH1VOBB4ARg2vqV3deKPudHAY9QzcIP\nXUL/LEBmTo2Ii4APUS1RnxYRR2Tm9T1HXX4ivGa71dtGTqoOSZIkSdrMrbz0Kl689OrV2nLpcy1V\nUz5w3wBsBQwAN/bpO5lqc7PrOhsz82ng6X43ysyl9SZm265bqY2aDUwFfld/KNBVZt5P9Rz32fXX\nlh1Ntft6d6POhhFjGy5VkiRJkjYNIyd+jJETV5/DfXn2r3ju3R9spZ6igTszByJij/r37NUvIoJq\n2flFfZZqD/b/DPBOqo3JHga2pgqrewGf6+i3JzCSann3qIh4R13LXev4lobrOqrdy6+OiKl1jbsA\nH6Z6fvsx4O+Ay6m+Jm03qs3TpheuS5IkSZL0Kik9w01mLh9Gt4OBNzH8wHkH8F7gfKrdwpcD84CP\nZuatHf2uA3bteD2Hann7FvTX8wOCfv3rDxoOAc4AZlAF/gXAzcAi4CWq7/a+GNihbrsM+Mpa3lOS\nJEmStIFqPHBn5rF9zh/epe0mhheCB/vPpZrR7tfvLcMds8u1B/Vo7/rAdGbuPOT1MmBKfXQzcV1r\nkyRJkiRt+IrtUi5JkiRJ0ubMwC1JkiRJUgEGbkmSJEmSCjBwS5IkSZJUgIFbkiRJkqQCDNySJEmS\nJBVg4JYkSZIkqQADtyRJkiRJBRi4JUmSJEkqwMAtSZIkSVIBBm5JkiRJkgowcEuSJEmSVICBW5Ik\nSZKkAgzckiRJkiQVYOCWJEmSJKkAA7ckSZIkSQUYuCVJkiRJKsDALUmSJElSAQZuSZIkSZIKMHBL\nkiRJklTAiLYL0Fr4Q2CbtotYT99ou4BmjPr7RW2X0IjXb7uk7RIa88Qu27ddQiMO58q2S2jELSMO\nbbuERryZ37RdQiPGHPHvbZfQiLdzf9slNObW33yg7RKa8XTbBTTj+ry57RIa8cE4oO0SGvGnuX/b\nJTTml+zddgmNeOb0N7ZdwvqZ/1Rrt3aGW5IkSZKkAgzckiRJkiQVYOCWJEmSJKkAA7ckSZIkSQUY\nuCVJkiRJKsDALUmSJElSAQZuSZIkSZIKMHBLkiRJklSAgVuSJEmSpAIM3JIkSZIkFWDgliRJkiSp\nAAO3JEmSJEkFGLglSZIkSSrAwC1JkiRJUgEGbkmSJEmSCjBwS5IkSZJUgIFbkiRJkqQCDNySJEmS\nJBVg4G5IRNwWEV9puw5JkiRJ0oah8cAdERdFxEBEnNfl3Hn1uQs72l4TEV+OiF9HxPMR8VBEnDKM\n++wTEVdHxFMR8UJEPBIRMyPiDR19zomIX0TE7yJidp/x9q9rW1X/HHqsioj3r2GIDwJ/369uSZIk\nSdLmYUSBMRN4DJgYESdm5kqAiBgJTAQeHdL/vwPHA38F3APsC1wUEUsy89xuN6hD9Szg/wCHAEuA\nNwMfAbYFnu7ofgHwHmCfPnX/FNip4/X/Bl4HHANE3fZMl1q2zMyXMnNJn/ElSZIkSZuRUkvK51CF\n7gkdbRPqtjlD+v4ZcHVm3pCZj2XmFcCNwLvXMP57gT8APp2Zd2Xmo5l5S2Z+MTP/I9Bn5hcy83zg\nkX4FZ+bLmblw8ABeAFZm5qKO9pcj4ox6+fhfR8QjwLMAEXF755LyiNi6nmH/bUQsi4hbI2J8x/m3\nRsS1EfFsRCyPiLkRcVC/OiVJkiRJG4dSgTuB6cDkjrbJwIX8frZ40M+A/xIRfwQQEe+gCtTXrWH8\nBVSz8xPW0KekPwYOpZpRf0/dlkP6/AvwDqoa9wGuAW6MiF3r898EVgHjgb2BU6hCviRJkiRpE1Bi\nSfmgi4Ez64AZVMHyKODAIf3OpJqtvi8iVlF9CPA3mXlpr4Ez8+f1bPIlEfEN4A7gx8CMena6tNcA\nn8zMZd1O1h8eHAXslJmDy9DPjIjDqJbO/z3wJuBbmXlvfb7vLLwkSZIkaeNRLHBn5uKIuIbfPwN9\nbWY+EzF0gpujgI9TPd99D/BO4GsR8WRm/mtETAVOHhwW2Cszn8jMUyPiH4GDqGaZTwBOjoj9MnNe\nqfdVe7hX2K7tDWwB/CZWf8NbAQ/Vv59D9T7/AvgR8P3MvGeNd51/Imyx3ept202C109au+olSZIk\naVN090yYN3P1tpVL26mFsjPcUC0rP5cqKH+2R5//BXwlM79Xv54XEW8GpgL/CpwPfLej/5ODv2Tm\ns8DlwOURcTIwF/gScGxzb6GrFX3OjwJWUi0pH/oJwzKAzDy//kDiMKrl6SdHxJTM/FbPUUefDduM\nXeeiJUmSJGmTNmZSdXSaPxsuGNdKOaUD9w1Us7oDVBuhdfNaXvn88wD18+X17t99dwCvNzR7mGqX\n8rbNBkYC22fmnb06ZebjwDeAb9Sz9ccBvQO3JEmSJGmjUTRwZ+ZAROxR/z40VA/6AfA3EfE4MA8Y\nC5zIGoJn/Sz0ROBS4AGqWeSPUH0X9jEd/Xan+mqv0cA29YZsAPMy8+V1f2drlpl3R8QVwMyI+BLw\nS2BH4GDg9sycFRFfB66mWmL+BuD9dT9JkiRJ0iag9Aw3mbm8T5cpwJeBfwJ2oFoyfn7d1ss9VMu6\nv0q1+dhK4EHgU5n5nY5+36IKsoNm1z/fQvUVZU0a+oHCx4HTqJ7V3hlYBNwGfL8+vyXV7PbOwFLg\nWuC/NlyTJEmSJKkljQfuzFzj89OZefiQ1yuoguaww2ZmPkK1SVq/fkN3RB+2Xu8jM6f2aB8/5PVL\nVF/1dUqP/n3rlyRJkiRtvEp9D7ckSZIkSZs1A7ckSZIkSQUYuCVJkiRJKsDALUmSJElSAQZuSZIk\nSZIKMHBLkiRJklSAgVuSJEmSpAIM3JIkSZIkFWDgliRJkiSpAAO3JEmSJEkFGLglSZIkSSrAwC1J\nkiRJUgEGbkmSpP/b3p1HW1rVZx7/PsqkEGPUKOAQGYwsASuNU4uIixAxaEQhyWIIbTPYsWNIoq1p\nlzYKCRptEwkuEY2tDFlgkTg0ICCCRhCZEiloKEWlsIACqijGqoIqhqJ+/cf7Fhwud6h76+w6cPl+\n1jrrnrvf/e73995bXNZz9j77SJLUgIFbkiRJkqQGDNySJEmSJDVg4JYkSZIkqQEDtyRJkiRJDRi4\nJUmSJElqwMAtSZIkSVIDG426AE3DDbcCvzHqKtbPe7cZdQVDcd+C3xx1CUPxqjk/G3UJQ3PL1a8Y\ndQlDce7+bx91CcNxwKgLGI6XsmjUJQzF/M+/btQlDMWCQ7YbdQnDs0ONuoLh+HlGXcFQ3MxLR13C\nUPznesuoSxiKy3PRqEsYmj1q1ahLGI6dRl3Aetp8dJd2hluSJEmSpAYM3JIkSZIkNWDgliRJkiSp\nAQO3JEmSJEkNGLglSZIkSWrAwC1JkiRJUgMGbkmSJEmSGjBwS5IkSZLUgIFbkiRJkqQGDNySJEmS\nJDVg4JYkSZIkqQEDtyRJkiRJDRi4JUmSJElqwMAtSZIkSVIDBm5JkiRJkhowcEuSJEmS1ICBW5Ik\nSZKkBgzckiRJkiQ1YOAekiSXJfm7UdchSZIkSXpyGHrgTnJykjVJThjn2An9sRMH2rZIclySG5Os\nTPLjJK9dh+u8OsmZSW5PsirJwiRzk7xgoM9xSX6S5IEk86YY7y19bY/0X8c+Hkmy+yRD7A18cqq6\nJUmSJElPDy1muAu4GTggyaZrG/vnBwA3jen/NWBP4E+AnYALgO8n2WqiC/Sh+gfAncBewA7AIcBt\nwObjjH/6OtR9CbAlsFX/9V+B7wIvGmi/dJxaNgaoqnurauU6XEeSJEmS9DTQakn5VXShe7+Btv36\ntqvWNiTZrG//66q6pKp+VVV/AywA/myS8d8EPAf4b1X1/6rqpqq6qKo+VFWPBvqq+kBVfQlYOFXB\nVbW6qpaufQCrgAer6o6B9tVJPt0vH/+zJAuBe/p7uXxwSXmSzfoZ9luTrOhn7ncdOL5tknOS3JPk\nviRXJ/ndqeqUJEmSJD01tArcBZwEHDbQdhhwIpCBto2AZwIPjjl/FbDbJOMv6c/db5I+Le0I/D6w\nD/CGvq3G9Pk/wBy6Gl8NnA2cn+Rl/fGvAI8AuwI7A0fS3bckSZIkaRZouWnaqcBuSV6W5LfoguWp\ngx2q6j7gMuDjSbZK8owkBwNvpFvCPa6qugL4O+C0JHcmOTfJh5O8sNndPN4zgIOr6tqq+unYg0le\nAewP/GFVXVFVC6vqM3Sz++/pu70UuLiqruuPn11Vl22g+iVJkiRJjTUL3FV1F92s7iH945yqunuc\nrgfTzXrfCjwAHAF8nW72lyQf7Zdkr0iyPMlL+vE/Tvfe6vcB84H/Dvw8yY6t7mnADVW1YpLjO9PN\n3N84UPsK4PXAdn2f44BPJflRkk8keVXjmiVJkiRJG9BGjcc/CTiebrn1+8frUFULgT2SPAt4TlXd\nnuR0Hnvf9ZeAfxk45baBc+8BvgV8K8nHgKuBDwOHDvtGxrh/iuNb0C2Tn8Pjl9ADrACoqi8lORt4\nB93y9I8lOaKqvjrxsJ8Efm1M2zvpVrZLkiRJ0tPcJXPh0rmPb1u5bDS10D5wnwdsAqwBzp+sY1Wt\nAlYl+Q3gbXTBmaq6F7h3qgv1G5rdwBN3KR+FecCmwPOq6sqJOlXVIuDLwJeTHAu8F5gkcB9Jt5G7\nJEmSJOkJ3nRg9xi0cB589DUjKadp4K6qNUl26J+P3VQMgCR70c0C/wJ4BfBZ4Drg5InGTfIOuo8Y\nOx34ZX/+PnSfhX3IQL/t6KaEtwKelWROf+inVbV6PW5tUlU1P8m3gblJPgxcQ/fxYr8HXF5VP0jy\nBeBMuh3ZXwDs3veTJEmSJM0CrWe4126MNplfBz4NvBi4G/gmcGRVPTLJOT+jW9b9D3Sbjz0IXA8c\nXlVfH+j3Vbogu9a8/us2dB9RNkxjX1A4CDiK7r3aWwN30G0Q983++MZ0s9tbA8uAc4D/MeSaJEmS\nJEkjMvTAXVWTvn+6qvYd8/03gG9M8xoL6TZJm6rfHtMZd8y5495HVX10gvZdx3z/MN0a8CMn6D9l\n/ZIkSZKkp66WHwsmSZIkSdLTloFbkiRJkqQGDNySJEmSJDVg4JYkSZIkqQEDtyRJkiRJDRi4JUmS\nJElqwMAtSZIkSVIDBm5JkiRJkhowcEuSJEmS1ICBW5IkSZKkBgzckiRJkiQ1YOCWJEmSJKkBA7ck\nSZIkSQ0YuCVJkiRJasDALUmSJElSAwZuSZIkSZIaMHBLkiRJktSAgVuSJEmSpAYM3JIkSZIkNWDg\nliRJkiSpgY1GXYCmYwFQoy5i/Zy8zagrGI5DRl3AcDzIpqMuYXi2GHUBw/E7XD3qEobi/Be8a9Ql\nDMX/5d2jLmE4dhh1AXqCJRl1BcNx76gLGI5DOXnUJQzFNew86hKGYo9aNeoShuaH+fdRlzAcZ4y6\ngPW0yegu7Qy3JEmSJEkNGLglSZIkSWrAwC1JkiRJUgMGbkmSJEmSGjBwS5IkSZLUgIFbkiRJkqQG\nDNySJEmSJDVg4JYkSZIkqQEDtyRJkiRJDRi4JUmSJElqwMAtSZIkSVIDBm5JkiRJkhowcEuSJEmS\n1ICBW5IkSZKkBgzckiRJkiQ1YOCWJEmSJKkBA7ckSZIkSQ0YuIcgyaZJ1iTZa9S1SJIkSZKeHKYV\nuJOc3AfLE8Y5dkJ/7MSBtjcnOSvJrf2xfSYY92+T3JZkZZILkmy/DrXsm+SyJPcmWZ5kfpJjB45v\nmeS0JD9P8sjgsQnGO6qv8ZH+69jHIxOdW1UPAlsC/zZV3ZIkSZKkp4fpznAXcDNwQJJN1zb2zw8A\nbhrTf3PgauDP+3OfIMlHgCOA9wGvB+4Hvpdkk4mKSLIncDrwDeB1wC7Ax4CNB7ptCiwFPtnXMJW/\npwvNW/VfbwGO7J+vbR+vlo0BqmppVa1eh+tIkiRJkp4GZrKk/Cq60L3fQNt+fdtVgx2r6ryq+kRV\nnQFkgvH+Cjimqr5TVfOB9wBbA++epIY/AH5cVcdW1fVVtaCqzqqqvxi49k1V9cGqOhVYPtVNVdXK\nPjQvraqlwCPAfWPa6GfVP5fk+CR3AWeMt6Q8yW8l+WY/A39Hkm8lecnA8bcm+Y8k9ye5O8lFSbac\nqk5JkiRJ0lPDTAJ3AScBhw20HQacyMShelxJtqGbPf7Bo4NXLQeuAN44yalLgB2T7Did6w3Re4G7\ngTfQvWDwOP3s/Pfp6nwjsDvwMHBOkmf0KwK+DZwLvArYle5nKkmSJEmaJTaa4XmnAp9J8jK6kL0r\nsD+wxzTH2ZIuwN8+pv32/thEvgDsBlyT5GbgcuB84LSqemiaNczE/Kr6xNpvBpfX994DrKiqIwb6\nHArcS/ezugF4NnB2Va1dhv/ztiVLkiRJkjakGe1SXlV3AWcDh/SPc6rq7uGVRejf853k3CQr+se1\n/fVXVtU7ge2BY4AVwOeAK5JsNsQ6JvKTKY6/GthpoO4VdO8nfyawXVUtBv4FuDDJGUmOSPLCxjVL\nkiRJkjagmc5wQ7cE+ni6YPz+GY6xhC5cv4jHz3K/kMfeD3448Kz++cODJ1fVQmAhcGKSTwHX0820\nnzLDetbV/VMc3wK4FDiUJy6zXwpQVQcl+U/A7wMHA8ck2aOqJtng7Wt0E+ODdu8fkiRJkvQ096O5\ncPHcx7fdv2w0tbB+gfs8YBNgDd1y7mmrqoVJlgB7AtcAJHkO3Xujv9j3WbyOw90MrKTbGX3U5gF7\nA0uqatVEnarqKroXFj6dZB7dTu+TBO7Dge2GWqgkSZIkzRq7H9g9Bt0wDz70mpGUM+PAXVVrkuzQ\nP5/oI782p1v2vXaWd9skc4C7q2pR33YccGSSBcCNdEvEbwHOnOjaSY6im+o9l+6jyJ5Lt3nZRsAF\nA/3m9NfeAvjN/vuHquq6mdzzNJwCfIBuB/O/AW4DtqXbzf1o4HnAf6Fbln8bsBPwcuBnjeuSJEmS\nJG0g6zPDTVXdN0WX1wI/pFt2XnTvs4YukB7Wj/HZJM8G/okuOF8M7D3F5mcX0S1jP4VuOfo9dDPF\nb62q6wf6XcVjn/+9C3AQXUDfdl1ub6btVbUiyZuB/w2cQRf4b6F7MeB+upUBr6b7GTwPuBX4+6r6\n53WoS5IkSZL0FDCtwF1Vh05xfN8x31/EOmzMVlVH0838rmsdFwIXrkO/GW0K1587biivql3HaXuQ\nbkO0wbbFdLuVj2cV8K6Z1iZJkiRJevKbcSCVJEmSJEkTM3BLkiRJktSAgVuSJEmSpAYM3JIkSZIk\nNWDgliRJkiSpAQO3JEmSJEkNGLglSZIkSWrAwC1JkiRJUgMGbkmSJEmSGjBwS5IkSZLUgIFbkiRJ\nkqQGDNySJEmSJDVg4JYkSZIkqQEDtyRJkiRJDRi4JUmSJElqwMAtSZIkSVIDBm5JkiRJkhowcEuS\nJEmS1ICBW5IkSZKkBgzckiRJkiQ1kKoadQ2aQpJdgCvZ+UrYfJdRl7N+fjLqAobkuaMuYEi+P+oC\nhucP55w66hKG4ltvPXjUJQzH9qMuYEgWjLqAITli1AUMx+HvOn7UJQzNObx91CUMxZLPbzvqEobi\neUfcOuoShuLuo1886hKGY6dRFzBEm426gOE46t0ZdQnrZTHwle7pa6pq3oa8tjPckiRJkiQ1YOCW\nJEmSJKkBA7ckSZIkSQ0YuCVJkiRJasDALUmSJElSAwZuSZIkSZIaMHBLkiRJktSAgVuSJEmSpAYM\n3JIkSZIkNWDgliRJkiSpAQO3JEmSJEkNGLglSZIkSWrAwC1JkiRJUgMGbkmSJEmSGjBwS5IkSZLU\ngIFbkiRJkqQGDNySJEmSJDVg4B6CJK9MsibJb4+6FkmSJEnSk8O0AneSk/tgecI4x07oj5040Pbm\nJGclubU/ts8E4/5tktuSrExyQZLt16GWfZNcluTeJMuTzE9y7Jjj5ydZmmRZkkuT7DXJeCf1NT7S\nfx37+NUk5fwS2BK4fqq6JUmSJElPD9Od4S7gZuCAJJuubeyfHwDcNKb/5sDVwJ/35z5Bko8ARwDv\nA14P3A98L8kmExWRZE/gdOAbwOuAXYCPARsPdNsdOB/Yuz/+Q+A7SeZMMOxf0oXmrfqvAP+1f75l\nf53xatm4Okuratx7lCRJkiQ9/cxkSflVdKF7v4G2/fq2qwY7VtV5VfWJqjoDyATj/RVwTFV9p6rm\nA+8BtgbePUkNfwD8uKqOrarrq2pBVZ1VVX8xcO0PVtU/VNWVVXVDVf0vuhnod443YFWt6EPz0qpa\n2jcvG2i7CyDJ4iQfSXJakuXA58dbUp5kTpLvJbmvn73/WpLnDhw/sJ+VX5XkjiTnJdkYSZIkSdKs\nMJPAXcBJwGEDbYcBJzJxqB5Xkm3oZo9/8OjgVcuBK4A3TnLqEmDHJDtO41oBfg24ezo1TuB/ApcD\nc4DP9m2Pzm4neT7wb8CPgd8B3gFsA5zaH38Z8M/A8cBvA3sA3xlCXZIkSZKkJ4mNZnjeqcBn+uAY\nYFdgf7rgOB1b0gXV28e0385jy7rH8wVgN+CaJDfThd/zgdOq6qEJzvlruiXu/zrNGsfz3ar6wtpv\nkrxyzPEPAD+qqmMG+vwp8MskLwFeTPdz+3Y/m74ImD+EuiRJkiRJTxIz2qW8X159NnBI/zinqoYx\nc7xW6GeMk5ybZEX/uLa//sqqeiewPXAMsAL4HHBFks2eMFhyEPBx4I+r6s4h1HflBDUO50PDAAAE\n9UlEQVSvNQd4+0DdK+iW2xewHfAfwCXAL5KcnuSwJM8ZQl2SJEmSpCeJmc5wQ7es/Hi6EPn+GY6x\nhC6ovojHz3K/kMfeD3448Kz++cODJ1fVQmAhcGKST9G9R3t/4JS1fZIcAHwF+KOq+uEM6xzr/imO\nb0G3odvHeeIy+9uqajXwliRvAvYCPgh8Mslrq+q2CUe98YOw0a8/vu35B8ILDpxe9ZIkSZI0C13L\nE5cOPzCKQnrrE7jPAzYB1tAt5562qlqYZAmwJ3ANQD/T+wbgi32fxes43M3ASrpl4/RjHQh8FTig\nqs6bSY3TMLhD+Tzg9/oXBCY+oeoS4JIkxwC3AvsAX57whJf/I2y+yxBKlSRJkqTZZ+f+MWgx3Qzs\nKMw4cFfVmiQ79M8n+sivzemWfa+d5d22/1iuu6tqUd92HHBkkgXAjXRLxG8Bzpzo2kmOAp4NnEv3\nUWTPpdvtfCPggr7PgXQz3X8J/HuSF/Wnr+o3Zhu2wZnszwOHJDkV+EfgHuCVdLPshyfZje59798H\n7gTe1N/DdQ3qkiRJkiSNwPrMcFNV903R5bV0n39d/eNzffsp9LucV9Vnkzwb+Ce60HkxsPckm58B\nXES3jP0UuuXo99AtQd+rqq7v+/wp8Ey6mfIvDpz76LWnur2ZtlfVon65+GfoXgDYhO7FhHP6LvfS\nzep/iG75+Y3A+6vqonWoS5IkSZL0FDCtwF1Vh05xfN8x31/EOmzMVlVHA0dPo44LgQun6DPdHdPH\nnv/MCdq3HqftF3ThfmzbvmP79sfmA29bn/okSZIkSU9uM9qlXJIkSZIkTc7ALUmSJElSAwZuSZIk\nSZIaMHBLkiRJktSAgVuSJEmSpAYM3JIkSZIkNWDgliRJkiSpAQO3JEmSJEkNGLglSZIkSWrAwC1J\nkiRJUgMGbkmSJEmSGjBwS5IkSZLUgIFbkiRJkqQGDNySJEmSJDVg4NZj7pw76gqGY80suY8HZ8l9\nfHd23MeiuZeNuoThWTI7fidcP0vuY7b8Pn40O+7jhrk/GXUJQ7Fq7lmjLmE4rpwd/64AHjz9jFGX\nMBzzZ8nv5JJZch+z5G/vtaMuoCEDtx5z1+z4D5aaJfcxWwL3ebPjPgzcT0ILZsl9zJbfx8Wz4z5+\nNffKUZcwFA/MPXvUJQzHvNnx7wrgodPPHHUJw/HTWfI7uXSW3Mcs+ds7f9QFNGTgliRJkiSpAQO3\nJEmSJEkNGLglSZIkSWpgo1EXoHWyGQCrrmt7ldXL4P55ba9RbYfvrrEMqvF9rG47PABrlsHqxvfR\n+J8UACuWwXWN7wO455Ebm47/8LKV3DOv7TUAWN7+Z8XqZe2vc0fb4QF4aBnc0fg+lrcdHtgwv48b\n2g4PwP3L4Ia293HnvEVNxwd4aNmqDXKdhxu/Y3HNsuU8PG8DvCty0b1tx1+1DBa1/7u4et7S5teo\nZctZPa/x1lCLb287PsCDy2Bx49/J5m2HB2DlMli4Af6fu0nj8TfA316AxY3Hf6DxNe587OlmDS8z\nrlRtiASk9ZHkIOC0UdchSZIkSU9hf1JVX9+QFzRwPwUkeT7wNuBGuheAJEmSJEnrZjPg5cD3ququ\nDXlhA7ckSZIkSQ24aZokSZIkSQ0YuCVJkiRJasDALUmSJElSAwZuSZIkSZIaMHBLkiRJktSAgVuS\nJEmSpAYM3JIkSZIkNfD/AbM4YMdMT8O9AAAAAElFTkSuQmCC\n",
      "text/plain": [
       "<matplotlib.figure.Figure at 0x10386fb38>"
=======
      "image/png": "iVBORw0KGgoAAAANSUhEUgAABoMAAAY1CAYAAADpa6d3AAAABHNCSVQICAgIfAhkiAAAAAlwSFlz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\nAAAAAAAAZkwZBAAAAAAAMGP/C2r4kbiye6o3AAAAAElFTkSuQmCC\n",
      "text/plain": [
       "<matplotlib.figure.Figure at 0x10520a390>"
>>>>>>> add decision tree
      ]
     },
     "metadata": {},
     "output_type": "display_data"
    }
   ],
   "source": [
<<<<<<< HEAD
    "del df['Bootcamp']\n",
=======
    "del df['M1-S2 Tries']\n",
    "del df['M6-S1 Tries']\n",
    "del df['M7-S2 Tries']\n",
    "del df['M8-S2 Tries']\n",
    "del df['M9-S2 Tries']\n",
    "del df['Score']\n",
>>>>>>> add decision tree
    "plot_corr(df)"
   ]
  },
  {
   "cell_type": "markdown",
   "metadata": {
    "collapsed": true
   },
   "source": [
    "## Save pre-processed dataframe for later use"
   ]
  },
  {
   "cell_type": "code",
<<<<<<< HEAD
   "execution_count": 22,
=======
   "execution_count": 174,
>>>>>>> add decision tree
   "metadata": {
    "collapsed": false
   },
   "outputs": [],
   "source": [
    "df.to_pickle(\"./hackathon-data-processed.p\")"
   ]
  },
  {
   "cell_type": "markdown",
   "metadata": {},
   "source": [
    "### Spliting the data \n",
    "\n",
    "70% for training, 30% for testing"
   ]
  },
  {
   "cell_type": "code",
   "execution_count": 175,
   "metadata": {
    "collapsed": false
   },
   "outputs": [
    {
     "data": {
      "text/plain": [
       "array(['Stage', 'Bootcamp', '% Score', 'M1-S1 Tries', 'M2-S1 Tries',\n",
       "       'M2-S2 Tries', 'M3-S1 Tries', 'M3-S2 Tries', 'M4-S1 Tries',\n",
       "       'M4-S2 Tries', 'M5-S1 Tries', 'M5-S2 Tries', 'M6-S2 Tries',\n",
       "       'M7-S1 Tries', 'M8-S1 Tries', 'M9-S1 Tries', 'M10-S1 Tries',\n",
       "       'M10-S2 Tries'], dtype=object)"
      ]
     },
     "execution_count": 175,
     "metadata": {},
     "output_type": "execute_result"
    }
   ],
   "source": [
    "np.asarray(df.corr().columns)"
   ]
  },
  {
   "cell_type": "code",
   "execution_count": 176,
   "metadata": {
    "collapsed": false
   },
   "outputs": [],
   "source": [
    "from sklearn.model_selection import train_test_split\n",
    "\n",
    "feature_col_names = ['Bootcamp', '% Score', 'M1-S1 Tries', 'M2-S1 Tries',\n",
    "       'M2-S2 Tries', 'M3-S1 Tries', 'M3-S2 Tries', 'M4-S1 Tries',\n",
    "       'M4-S2 Tries', 'M5-S1 Tries', 'M5-S2 Tries', 'M6-S2 Tries',\n",
    "       'M7-S1 Tries', 'M8-S1 Tries', 'M9-S1 Tries', 'M10-S1 Tries',\n",
    "       'M10-S2 Tries']\n",
    "# feature_col_names = ['Bootcamp', 'Score', '% Completed']\n",
    "predicted_class_names = ['Stage']\n",
    "\n",
    "X = df[feature_col_names].values     # predictor feature columns (8 X m)\n",
    "y = df[predicted_class_names].values # predicted class (1=true, 0=false) column (1 X m)\n",
    "split_test_size = 0.30\n",
    "\n",
    "X_train, X_test, y_train, y_test = train_test_split(X, y, test_size=split_test_size, random_state=42) \n",
    "\n",
    "                            # test_size = 0.3 is 30%, 42 is the answer to everything"
   ]
  },
  {
   "cell_type": "code",
   "execution_count": 177,
   "metadata": {
    "collapsed": false
   },
   "outputs": [
    {
     "name": "stdout",
     "output_type": "stream",
     "text": [
      "69.99% in training set\n",
      "30.01% in test set\n"
     ]
    }
   ],
   "source": [
    "# Check to ensure we have the the desired 70% train, 30% test split of the data\n",
    "print(\"{0:0.2f}% in training set\".format((len(X_train)/len(df.index)) * 100))\n",
    "print(\"{0:0.2f}% in test set\".format((len(X_test)/len(df.index)) * 100))"
   ]
  },
  {
   "cell_type": "code",
   "execution_count": 178,
   "metadata": {
    "collapsed": false
   },
   "outputs": [
    {
     "name": "stdout",
     "output_type": "stream",
     "text": [
      "Original True  : 30 (0.42%)\n",
      "Original False : 7048 (99.58%)\n",
      "\n",
      "Training True  : 23 (0.46%)\n",
      "Training False : 4931 (99.54%)\n",
      "\n",
      "Test True      : 7 (0.33%)\n",
      "Test False     : 2117 (99.67%)\n"
     ]
    }
   ],
   "source": [
    "# Verify predicted value was split correctly\n",
    "print(\"Original True  : {0} ({1:0.2f}%)\".format(len(df.loc[df['Stage'] == 1]), (len(df.loc[df['Stage'] == 1])/len(df.index)) * 100.0))\n",
    "print(\"Original False : {0} ({1:0.2f}%)\".format(len(df.loc[df['Stage'] == 0]), (len(df.loc[df['Stage'] == 0])/len(df.index)) * 100.0))\n",
    "print(\"\")\n",
    "print(\"Training True  : {0} ({1:0.2f}%)\".format(len(y_train[y_train[:] == 1]), (len(y_train[y_train[:] == 1])/len(y_train) * 100.0)))\n",
    "print(\"Training False : {0} ({1:0.2f}%)\".format(len(y_train[y_train[:] == 0]), (len(y_train[y_train[:] == 0])/len(y_train) * 100.0)))\n",
    "print(\"\")\n",
    "print(\"Test True      : {0} ({1:0.2f}%)\".format(len(y_test[y_test[:] == 1]), (len(y_test[y_test[:] == 1])/len(y_test) * 100.0)))\n",
    "print(\"Test False     : {0} ({1:0.2f}%)\".format(len(y_test[y_test[:] == 0]), (len(y_test[y_test[:] == 0])/len(y_test) * 100.0)))"
   ]
  },
  {
   "cell_type": "code",
   "execution_count": 179,
   "metadata": {
    "collapsed": false
   },
   "outputs": [
    {
     "data": {
      "text/plain": [
       "GaussianNB(priors=None)"
      ]
     },
     "execution_count": 179,
     "metadata": {},
     "output_type": "execute_result"
    }
   ],
   "source": [
    "from sklearn.naive_bayes import GaussianNB\n",
    "\n",
    "# create Gaussian Naive Bayes model object and train it with the data\n",
    "nb_model = GaussianNB()\n",
    "\n",
    "nb_model.fit(X_train, y_train.ravel())"
   ]
  },
  {
   "cell_type": "code",
   "execution_count": 180,
   "metadata": {
    "collapsed": false
   },
   "outputs": [
    {
     "name": "stdout",
     "output_type": "stream",
     "text": [
      "Accuracy: 0.9873\n",
      "\n"
     ]
    }
   ],
   "source": [
    "# predict values using the training data\n",
    "nb_predict_train = nb_model.predict(X_train)\n",
    "\n",
    "# import the performance metrics library\n",
    "from sklearn import metrics\n",
    "\n",
    "# Accuracy\n",
    "print(\"Accuracy: {0:.4f}\".format(metrics.accuracy_score(y_train, nb_predict_train)))\n",
    "print()"
   ]
  },
  {
   "cell_type": "code",
   "execution_count": 181,
   "metadata": {
    "collapsed": false
   },
   "outputs": [
    {
     "name": "stdout",
     "output_type": "stream",
     "text": [
      "Accuracy Test Sample: 0.9892\n",
      "\n"
     ]
    }
   ],
   "source": [
    "# predict values using the testing data\n",
    "nb_predict_test = nb_model.predict(X_test)\n",
    "\n",
    "from sklearn import metrics\n",
    "\n",
    "# training metrics\n",
    "print(\"Accuracy Test Sample: {0:.4f}\".format(metrics.accuracy_score(y_test, nb_predict_test)))\n",
    "print()"
   ]
  },
  {
   "cell_type": "markdown",
   "metadata": {},
   "source": [
    "### Decision Tree Algorithm"
   ]
  },
  {
   "cell_type": "code",
   "execution_count": 185,
   "metadata": {
    "collapsed": false
   },
   "outputs": [
    {
     "name": "stdout",
     "output_type": "stream",
     "text": [
      "Confusion Matrix\n",
      "[[   3    4]\n",
      " [   4 2113]]\n",
      "\n",
      "Accuracy - Training Sample: 1.0000\n",
      "\n",
      "Accuracy - Test Sample: 0.9962\n",
      "\n",
      "Classification Report - Test Sample\n",
      "             precision    recall  f1-score   support\n",
      "\n",
      "          1       0.43      0.43      0.43         7\n",
      "          0       1.00      1.00      1.00      2117\n",
      "\n",
      "avg / total       1.00      1.00      1.00      2124\n",
      "\n"
     ]
    }
   ],
   "source": [
    "from sklearn import tree\n",
    "\n",
    "model = tree.DecisionTreeClassifier(criterion='entropy') # for classification, here you can change the algorithm as gini or entropy (information gain) by default it is gini  \n",
    "#model = tree.DecisionTreeRegressor() # for regression\n",
    "\n",
    "# Train the model using the training sets and check score\n",
    "model.fit(X_train, y_train.ravel())\n",
    "model.score(X_train, y_train)\n",
    "\n",
    "#Predict Output\n",
    "predict_train= model.predict(X_train)\n",
    "predicted= model.predict(X_test)\n",
    "metrics.confusion_matrix\n",
    "print(\"Confusion Matrix\")\n",
    "print(metrics.confusion_matrix(y_test, predicted, labels=[1,0]))\n",
    "print()\n",
    "print(\"Accuracy - Training Sample: {0:.4f}\".format(metrics.accuracy_score(y_train, predict_train)))\n",
    "print()\n",
    "print(\"Accuracy - Test Sample: {0:.4f}\".format(metrics.accuracy_score(y_test, predicted)))\n",
    "print()\n",
    "print(\"Classification Report - Test Sample\")\n",
    "print(metrics.classification_report(y_test, predicted, labels=[1,0]))"
   ]
  },
  {
   "cell_type": "code",
   "execution_count": null,
   "metadata": {
    "collapsed": true
   },
   "outputs": [],
   "source": []
  },
  {
   "cell_type": "code",
   "execution_count": 23,
   "metadata": {
    "collapsed": false
   },
   "outputs": [
    {
     "data": {
      "image/png": "iVBORw0KGgoAAAANSUhEUgAAA9wAAAN8CAYAAACqTKLzAAAABHNCSVQICAgIfAhkiAAAAAlwSFlz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\nJEmSpAYM3JIkSZIkNfD/AbM4YMdMT8O9AAAAAElFTkSuQmCC\n",
      "text/plain": [
       "<matplotlib.figure.Figure at 0x109165748>"
      ]
     },
     "metadata": {},
     "output_type": "display_data"
    }
   ],
   "source": [
    "plot_corr(df)"
   ]
  },
  {
   "cell_type": "code",
   "execution_count": 24,
   "metadata": {
    "collapsed": true
   },
   "outputs": [],
   "source": [
    "# del df['Score']"
   ]
  },
  {
   "cell_type": "code",
   "execution_count": 25,
   "metadata": {
    "collapsed": false
   },
   "outputs": [
    {
     "data": {
      "text/plain": [
       "array(['Stage', 'Score', 'M1-S1 Tries', 'M2-S1 Tries', 'M2-S2 Tries',\n",
       "       'M3-S1 Tries', 'M3-S2 Tries', 'M4-S1 Tries', 'M4-S2 Tries',\n",
       "       'M5-S1 Tries', 'M5-S2 Tries', 'M6-S2 Tries', 'M7-S1 Tries',\n",
       "       'M8-S1 Tries', 'M9-S1 Tries', 'M10-S1 Tries', 'M10-S2 Tries'], dtype=object)"
      ]
     },
     "execution_count": 25,
     "metadata": {},
     "output_type": "execute_result"
    }
   ],
   "source": [
    "# Get an array of the column names\n",
    "np.asarray(df.corr().columns)"
   ]
  },
  {
   "cell_type": "markdown",
   "metadata": {},
   "source": [
    "### Spliting the data \n",
    "\n",
    "70% for training, 30% for testing"
   ]
  },
  {
   "cell_type": "code",
   "execution_count": 26,
   "metadata": {
    "collapsed": false
   },
   "outputs": [],
   "source": [
    "from sklearn.model_selection import train_test_split\n",
    "\n",
    "feature_col_names = ['Score', 'M1-S1 Tries', 'M2-S1 Tries', 'M2-S2 Tries',\n",
    "       'M3-S1 Tries', 'M3-S2 Tries', 'M4-S1 Tries', 'M4-S2 Tries',\n",
    "       'M5-S1 Tries', 'M5-S2 Tries', 'M6-S2 Tries', 'M7-S1 Tries',\n",
    "       'M8-S1 Tries', 'M9-S1 Tries', 'M10-S1 Tries', 'M10-S2 Tries']\n",
    "# feature_col_names = ['Bootcamp', 'Score', '% Completed']\n",
    "predicted_class_names = ['Stage']\n",
    "\n",
    "X = df[feature_col_names].values     # predictor feature columns (8 X m)\n",
    "y = df[predicted_class_names].values # predicted class (1=true, 0=false) column (1 X m)\n",
    "split_test_size = 0.50\n",
    "\n",
    "X_train, X_test, y_train, y_test = train_test_split(X, y, test_size=split_test_size, random_state=42) \n",
    "\n",
    "split_train_size = 0.50\n",
    "X_test_1, X_test_2, y_test_1, y_test_2 = train_test_split(X_test, y_test, train_size=split_train_size, random_state=42) \n",
    "\n",
    "                            # test_size = 0.3 is 30%, 42 is the answer to everything"
   ]
  },
  {
   "cell_type": "code",
   "execution_count": 27,
   "metadata": {
    "collapsed": false
   },
   "outputs": [
    {
     "name": "stdout",
     "output_type": "stream",
     "text": [
      "49.60% in training set\n",
      "24.80% in test set 1\n",
      "25.60% in test set 2\n"
     ]
    }
   ],
   "source": [
    "# Check to ensure we have the the desired 70% train, 30% test split of the data\n",
    "\n",
    "print(\"{0:0.2f}% in training set\".format((len(X_train)/len(df.index)) * 100))\n",
    "print(\"{0:0.2f}% in test set 1\".format((len(X_test_1)/len(df.index)) * 100))\n",
    "\n",
    "print(\"{0:0.2f}% in test set 2\".format((len(X_test_2)/len(df.index)) * 100))"
   ]
  },
  {
   "cell_type": "code",
   "execution_count": 28,
   "metadata": {
    "collapsed": false
   },
   "outputs": [
    {
     "name": "stdout",
     "output_type": "stream",
     "text": [
      "Original Accepted  : 30 (24.00%)\n",
      "Original Rejected : 95 (76.00%)\n",
      "\n",
      "Training Accepted  : 18 (29.03%)\n",
      "Training Rejected : 44 (70.97%)\n",
      "\n",
      "Test 1 Accepted      : 4 (12.90%)\n",
      "Test 1 Rejected     : 27 (87.10%)\n",
      "\n",
      "Test 2 Accepted      : 8 (25.00%)\n",
      "Test 2 Rejected     : 24 (75.00%)\n"
     ]
    }
   ],
   "source": [
    "# Verify predicted value was split evenly\n",
    "\n",
    "print(\"Original Accepted  : {0} ({1:0.2f}%)\".format(len(df.loc[df['Stage'] == 1]), (len(df.loc[df['Stage'] == 1])/len(df.index)) * 100.0))\n",
    "print(\"Original Rejected : {0} ({1:0.2f}%)\".format(len(df.loc[df['Stage'] == 0]), (len(df.loc[df['Stage'] == 0])/len(df.index)) * 100.0))\n",
    "print(\"\")\n",
    "print(\"Training Accepted  : {0} ({1:0.2f}%)\".format(len(y_train[y_train[:] == 1]), (len(y_train[y_train[:] == 1])/len(y_train) * 100.0)))\n",
    "print(\"Training Rejected : {0} ({1:0.2f}%)\".format(len(y_train[y_train[:] == 0]), (len(y_train[y_train[:] == 0])/len(y_train) * 100.0)))\n",
    "print(\"\")\n",
    "print(\"Test 1 Accepted      : {0} ({1:0.2f}%)\".format(len(y_test_1[y_test_1[:] == 1]), (len(y_test_1[y_test_1[:] == 1])/len(y_test_1) * 100.0)))\n",
    "print(\"Test 1 Rejected     : {0} ({1:0.2f}%)\".format(len(y_test_1[y_test_1[:] == 0]), (len(y_test_1[y_test_1[:] == 0])/len(y_test_1) * 100.0)))\n",
    "print(\"\")\n",
    "print(\"Test 2 Accepted      : {0} ({1:0.2f}%)\".format(len(y_test_2[y_test_2[:] == 1]), (len(y_test_2[y_test_2[:] == 1])/len(y_test_2) * 100.0)))\n",
    "print(\"Test 2 Rejected     : {0} ({1:0.2f}%)\".format(len(y_test_2[y_test_2[:] == 0]), (len(y_test_2[y_test_2[:] == 0])/len(y_test_2) * 100.0)))"
   ]
  },
  {
   "cell_type": "markdown",
   "metadata": {},
   "source": [
    "## Training Initial Algorithm - Naive Bayes"
   ]
  },
  {
   "cell_type": "code",
   "execution_count": 29,
   "metadata": {
    "collapsed": false
   },
   "outputs": [
    {
     "data": {
      "text/plain": [
       "GaussianNB(priors=None)"
      ]
     },
     "execution_count": 29,
     "metadata": {},
     "output_type": "execute_result"
    }
   ],
   "source": [
    "from sklearn.naive_bayes import GaussianNB\n",
    "\n",
    "# create Gaussian Naive Bayes model object and train it with the data\n",
    "nb_model = GaussianNB()\n",
    "\n",
    "nb_model.fit(X_train, y_train.ravel())"
   ]
  },
  {
   "cell_type": "markdown",
   "metadata": {},
   "source": [
    "### Performance on Training Data"
   ]
  },
  {
   "cell_type": "code",
   "execution_count": 30,
   "metadata": {
    "collapsed": false
   },
   "outputs": [
    {
     "name": "stdout",
     "output_type": "stream",
     "text": [
      "Accuracy: 0.5161\n",
      "\n"
     ]
    }
   ],
   "source": [
    "# predict values using the training data\n",
    "nb_predict_train = nb_model.predict(X_train)\n",
    "\n",
    "# import the performance metrics library\n",
    "from sklearn import metrics\n",
    "\n",
    "# Accuracy\n",
    "print(\"Accuracy: {0:.4f}\".format(metrics.accuracy_score(y_train, nb_predict_train)))\n",
    "print()"
   ]
  },
  {
   "cell_type": "markdown",
   "metadata": {},
   "source": [
    "### Performance on Testing Data"
   ]
  },
  {
   "cell_type": "code",
   "execution_count": 31,
   "metadata": {
    "collapsed": false
   },
   "outputs": [
    {
     "name": "stdout",
     "output_type": "stream",
     "text": [
      "Accuracy Test Sample 1: 0.3871\n",
      "Accuracy Test Sample 2: 0.4375\n",
      "\n"
     ]
    }
   ],
   "source": [
    "# predict values using the testing data\n",
    "nb_predict_test_1 = nb_model.predict(X_test_1)\n",
    "nb_predict_test_2 = nb_model.predict(X_test_2)\n",
    "\n",
    "from sklearn import metrics\n",
    "\n",
    "# training metrics\n",
    "print(\"Accuracy Test Sample 1: {0:.4f}\".format(metrics.accuracy_score(y_test_1, nb_predict_test_1)))\n",
    "print(\"Accuracy Test Sample 2: {0:.4f}\".format(metrics.accuracy_score(y_test_2, nb_predict_test_2)))\n",
    "print()"
   ]
  },
  {
   "cell_type": "markdown",
   "metadata": {},
   "source": [
    "#### Metrics"
   ]
  },
  {
   "cell_type": "code",
   "execution_count": 32,
   "metadata": {
    "collapsed": false
   },
   "outputs": [
    {
     "name": "stdout",
     "output_type": "stream",
     "text": [
      "Confusion Matrix - Test Sample 1\n",
      "[[ 3  1]\n",
      " [18  9]]\n",
      "\n",
      "Classification Report - Test Sample 1\n",
      "             precision    recall  f1-score   support\n",
      "\n",
      "          1       0.14      0.75      0.24         4\n",
      "          0       0.90      0.33      0.49        27\n",
      "\n",
      "avg / total       0.80      0.39      0.45        31\n",
      "\n"
     ]
    }
   ],
   "source": [
    "print(\"Confusion Matrix - Test Sample 1\")\n",
    "# Note the use of labels for set 1=True to upper left and 0=False to lower right\n",
    "print(\"{0}\".format(metrics.confusion_matrix(y_test_1, nb_predict_test_1, labels=[1, 0])))\n",
    "print(\"\")\n",
    "\n",
    "print(\"Classification Report - Test Sample 1\")\n",
    "print(metrics.classification_report(y_test_1, nb_predict_test_1, labels=[1,0]))\n"
   ]
  },
  {
   "cell_type": "code",
   "execution_count": 33,
   "metadata": {
    "collapsed": false
   },
   "outputs": [
    {
     "name": "stdout",
     "output_type": "stream",
     "text": [
      "Confusion Matrix - Test Sample 2\n",
      "[[ 6  2]\n",
      " [16  8]]\n",
      "\n",
      "Classification Report - Test Sample 2\n",
      "             precision    recall  f1-score   support\n",
      "\n",
      "          1       0.27      0.75      0.40         8\n",
      "          0       0.80      0.33      0.47        24\n",
      "\n",
      "avg / total       0.67      0.44      0.45        32\n",
      "\n"
     ]
    }
   ],
   "source": [
    "print(\"Confusion Matrix - Test Sample 2\")\n",
    "# Note the use of labels for set 1=True to upper left and 0=False to lower right\n",
    "print(\"{0}\".format(metrics.confusion_matrix(y_test_2, nb_predict_test_2, labels=[1, 0])))\n",
    "print(\"\")\n",
    "\n",
    "print(\"Classification Report - Test Sample 2\")\n",
    "print(metrics.classification_report(y_test_2, nb_predict_test_2, labels=[1,0]))\n"
   ]
  },
  {
   "cell_type": "markdown",
   "metadata": {},
   "source": [
    "## Training Alternate Algorithm - Random Forest"
   ]
  },
  {
   "cell_type": "code",
   "execution_count": 34,
   "metadata": {
    "collapsed": false
   },
   "outputs": [
    {
     "data": {
      "text/plain": [
       "RandomForestClassifier(bootstrap=True, class_weight=None, criterion='gini',\n",
       "            max_depth=None, max_features='auto', max_leaf_nodes=None,\n",
       "            min_impurity_split=1e-07, min_samples_leaf=1,\n",
       "            min_samples_split=2, min_weight_fraction_leaf=0.0,\n",
       "            n_estimators=10, n_jobs=1, oob_score=False, random_state=42,\n",
       "            verbose=0, warm_start=False)"
      ]
     },
     "execution_count": 34,
     "metadata": {},
     "output_type": "execute_result"
    }
   ],
   "source": [
    "from sklearn.ensemble import RandomForestClassifier\n",
    "rf_model = RandomForestClassifier(random_state=42)      # Create random forest object\n",
    "rf_model.fit(X_train, y_train.ravel())"
   ]
  },
  {
   "cell_type": "markdown",
   "metadata": {},
   "source": [
    "### Predict Training Data"
   ]
  },
  {
   "cell_type": "code",
   "execution_count": 35,
   "metadata": {
    "collapsed": false
   },
   "outputs": [
    {
     "name": "stdout",
     "output_type": "stream",
     "text": [
      "Accuracy: 0.9677\n"
     ]
    }
   ],
   "source": [
    "rf_predict_train = rf_model.predict(X_train)\n",
    "# training metrics\n",
    "print(\"Accuracy: {0:.4f}\".format(metrics.accuracy_score(y_train, rf_predict_train)))"
   ]
  },
  {
   "cell_type": "markdown",
   "metadata": {},
   "source": [
    "### Predict Test Data"
   ]
  },
  {
   "cell_type": "code",
   "execution_count": 36,
   "metadata": {
    "collapsed": false
   },
   "outputs": [
    {
     "name": "stdout",
     "output_type": "stream",
     "text": [
      "Accuracy - Test Sample 1: 0.8065\n",
      "Accuracy - Test Sample 2: 0.6250\n"
     ]
    }
   ],
   "source": [
    "rf_predict_test_1 = rf_model.predict(X_test_1)\n",
    "rf_predict_test_2 = rf_model.predict(X_test_2)\n",
    "\n",
    "# training metrics\n",
    "print(\"Accuracy - Test Sample 1: {0:.4f}\".format(metrics.accuracy_score(y_test_1, rf_predict_test_1)))\n",
    "print(\"Accuracy - Test Sample 2: {0:.4f}\".format(metrics.accuracy_score(y_test_2, rf_predict_test_2)))"
   ]
  },
  {
   "cell_type": "markdown",
   "metadata": {},
   "source": [
    "### Metrics"
   ]
  },
  {
   "cell_type": "code",
   "execution_count": 37,
   "metadata": {
    "collapsed": false
   },
   "outputs": [
    {
     "name": "stdout",
     "output_type": "stream",
     "text": [
      "[[ 1  3]\n",
      " [ 3 24]]\n",
      "\n",
      "Classification Report - Test Sample 1\n",
      "             precision    recall  f1-score   support\n",
      "\n",
      "          1       0.25      0.25      0.25         4\n",
      "          0       0.89      0.89      0.89        27\n",
      "\n",
      "avg / total       0.81      0.81      0.81        31\n",
      "\n"
     ]
    }
   ],
   "source": [
    "print(metrics.confusion_matrix(y_test_1, rf_predict_test_1, labels=[1, 0]) )\n",
    "print(\"\")\n",
    "print(\"Classification Report - Test Sample 1\")\n",
    "print(metrics.classification_report(y_test_1, rf_predict_test_1, labels=[1,0]))"
   ]
  },
  {
   "cell_type": "code",
   "execution_count": 38,
   "metadata": {
    "collapsed": false
   },
   "outputs": [
    {
     "name": "stdout",
     "output_type": "stream",
     "text": [
      "[[ 1  7]\n",
      " [ 5 19]]\n",
      "\n",
      "Classification Report - Test Sample 2\n",
      "             precision    recall  f1-score   support\n",
      "\n",
      "          1       0.17      0.12      0.14         8\n",
      "          0       0.73      0.79      0.76        24\n",
      "\n",
      "avg / total       0.59      0.62      0.61        32\n",
      "\n"
     ]
    }
   ],
   "source": [
    "print(metrics.confusion_matrix(y_test_2, rf_predict_test_2, labels=[1, 0]) )\n",
    "print(\"\")\n",
    "print(\"Classification Report - Test Sample 2\")\n",
    "print(metrics.classification_report(y_test_2, rf_predict_test_2, labels=[1,0]))"
   ]
  },
  {
   "cell_type": "markdown",
   "metadata": {},
   "source": [
    "## Logistic Regression"
   ]
  },
  {
   "cell_type": "code",
   "execution_count": 44,
   "metadata": {
    "collapsed": false
   },
   "outputs": [
    {
     "name": "stdout",
     "output_type": "stream",
     "text": [
      "Coefficient: \n",
      " [-0.00131713 -0.02362754  0.00950391 -0.11585902  0.02925672 -0.01663043\n",
      "  0.06349376  0.07606879 -0.15066574 -0.00562986  0.06974185 -0.0484076\n",
      "  0.00283864 -0.01884507 -0.03870592 -0.07582714]\n",
      "Intercept: \n",
      " 0.48913830913\n",
      "Classification Report - Test Sample 1\n"
     ]
    },
    {
     "ename": "ValueError",
     "evalue": "Mix type of y not allowed, got types {'continuous', 'binary'}",
     "output_type": "error",
     "traceback": [
      "\u001b[0;31m---------------------------------------------------------------------------\u001b[0m",
      "\u001b[0;31mValueError\u001b[0m                                Traceback (most recent call last)",
      "\u001b[0;32m<ipython-input-44-8fbb24ed79bc>\u001b[0m in \u001b[0;36m<module>\u001b[0;34m()\u001b[0m\n\u001b[1;32m     13\u001b[0m \u001b[0mpredicted\u001b[0m\u001b[0;34m=\u001b[0m \u001b[0mlinear\u001b[0m\u001b[0;34m.\u001b[0m\u001b[0mpredict\u001b[0m\u001b[0;34m(\u001b[0m\u001b[0mX_test_1\u001b[0m\u001b[0;34m)\u001b[0m\u001b[0;34m\u001b[0m\u001b[0m\n\u001b[1;32m     14\u001b[0m \u001b[0mprint\u001b[0m\u001b[0;34m(\u001b[0m\u001b[0;34m\"Classification Report - Test Sample 1\"\u001b[0m\u001b[0;34m)\u001b[0m\u001b[0;34m\u001b[0m\u001b[0m\n\u001b[0;32m---> 15\u001b[0;31m \u001b[0mprint\u001b[0m\u001b[0;34m(\u001b[0m\u001b[0mmetrics\u001b[0m\u001b[0;34m.\u001b[0m\u001b[0mclassification_report\u001b[0m\u001b[0;34m(\u001b[0m\u001b[0my_test_1\u001b[0m\u001b[0;34m,\u001b[0m \u001b[0mpredicted\u001b[0m\u001b[0;34m)\u001b[0m\u001b[0;34m)\u001b[0m\u001b[0;34m\u001b[0m\u001b[0m\n\u001b[0m",
      "\u001b[0;32m/usr/local/lib/python3.5/site-packages/sklearn/metrics/classification.py\u001b[0m in \u001b[0;36mclassification_report\u001b[0;34m(y_true, y_pred, labels, target_names, sample_weight, digits)\u001b[0m\n\u001b[1;32m   1389\u001b[0m \u001b[0;34m\u001b[0m\u001b[0m\n\u001b[1;32m   1390\u001b[0m     \u001b[0;32mif\u001b[0m \u001b[0mlabels\u001b[0m \u001b[0;32mis\u001b[0m \u001b[0;32mNone\u001b[0m\u001b[0;34m:\u001b[0m\u001b[0;34m\u001b[0m\u001b[0m\n\u001b[0;32m-> 1391\u001b[0;31m         \u001b[0mlabels\u001b[0m \u001b[0;34m=\u001b[0m \u001b[0munique_labels\u001b[0m\u001b[0;34m(\u001b[0m\u001b[0my_true\u001b[0m\u001b[0;34m,\u001b[0m \u001b[0my_pred\u001b[0m\u001b[0;34m)\u001b[0m\u001b[0;34m\u001b[0m\u001b[0m\n\u001b[0m\u001b[1;32m   1392\u001b[0m     \u001b[0;32melse\u001b[0m\u001b[0;34m:\u001b[0m\u001b[0;34m\u001b[0m\u001b[0m\n\u001b[1;32m   1393\u001b[0m         \u001b[0mlabels\u001b[0m \u001b[0;34m=\u001b[0m \u001b[0mnp\u001b[0m\u001b[0;34m.\u001b[0m\u001b[0masarray\u001b[0m\u001b[0;34m(\u001b[0m\u001b[0mlabels\u001b[0m\u001b[0;34m)\u001b[0m\u001b[0;34m\u001b[0m\u001b[0m\n",
      "\u001b[0;32m/usr/local/lib/python3.5/site-packages/sklearn/utils/multiclass.py\u001b[0m in \u001b[0;36munique_labels\u001b[0;34m(*ys)\u001b[0m\n\u001b[1;32m     82\u001b[0m \u001b[0;34m\u001b[0m\u001b[0m\n\u001b[1;32m     83\u001b[0m     \u001b[0;32mif\u001b[0m \u001b[0mlen\u001b[0m\u001b[0;34m(\u001b[0m\u001b[0mys_types\u001b[0m\u001b[0;34m)\u001b[0m \u001b[0;34m>\u001b[0m \u001b[0;36m1\u001b[0m\u001b[0;34m:\u001b[0m\u001b[0;34m\u001b[0m\u001b[0m\n\u001b[0;32m---> 84\u001b[0;31m         \u001b[0;32mraise\u001b[0m \u001b[0mValueError\u001b[0m\u001b[0;34m(\u001b[0m\u001b[0;34m\"Mix type of y not allowed, got types %s\"\u001b[0m \u001b[0;34m%\u001b[0m \u001b[0mys_types\u001b[0m\u001b[0;34m)\u001b[0m\u001b[0;34m\u001b[0m\u001b[0m\n\u001b[0m\u001b[1;32m     85\u001b[0m \u001b[0;34m\u001b[0m\u001b[0m\n\u001b[1;32m     86\u001b[0m     \u001b[0mlabel_type\u001b[0m \u001b[0;34m=\u001b[0m \u001b[0mys_types\u001b[0m\u001b[0;34m.\u001b[0m\u001b[0mpop\u001b[0m\u001b[0;34m(\u001b[0m\u001b[0;34m)\u001b[0m\u001b[0;34m\u001b[0m\u001b[0m\n",
      "\u001b[0;31mValueError\u001b[0m: Mix type of y not allowed, got types {'continuous', 'binary'}"
     ]
    }
   ],
   "source": [
    "\n",
    "from sklearn import linear_model\n",
    "\n",
    "# Create linear regression object\n",
    "linear = linear_model.LinearRegression()\n",
    "# Train the model using the training sets and check score\n",
    "linear.fit(X_train, y_train.ravel())\n",
    "linear.score(X_train, y_train)\n",
    "#Equation coefficient and Intercept\n",
    "print('Coefficient: \\n', linear.coef_)\n",
    "print('Intercept: \\n', linear.intercept_)\n",
    "#Predict Output\n",
    "predicted= linear.predict(X_test_1)\n",
    "print(\"Classification Report - Test Sample 1\")\n",
    "print(metrics.classification_report(y_test_1, predicted, labels=[1,0]))"
   ]
  },
  {
   "cell_type": "code",
   "execution_count": 389,
   "metadata": {
    "collapsed": false
   },
   "outputs": [
    {
     "name": "stdout",
     "output_type": "stream",
     "text": [
      "Accuracy - Test Sample 1: 0.8065\n",
      "[[ 1  3]\n",
      " [ 3 24]]\n",
      "\n",
      "Classification Report - Test Sample 1\n",
      "             precision    recall  f1-score   support\n",
      "\n",
      "          1       0.25      0.25      0.25         4\n",
      "          0       0.89      0.89      0.89        27\n",
      "\n",
      "avg / total       0.81      0.81      0.81        31\n",
      "\n"
     ]
    }
   ],
   "source": [
    "from sklearn.linear_model import LogisticRegression\n",
    "\n",
    "lr_model =LogisticRegression(C=0.7, random_state=42)\n",
    "lr_model.fit(X_train, y_train.ravel())\n",
    "lr_predict_test_1 = lr_model.predict(X_test_1)\n",
    "\n",
    "\n",
    "# training metrics\n",
    "print(\"Accuracy - Test Sample 1: {0:.4f}\".format(metrics.accuracy_score(y_test_1, lr_predict_test_1)))\n",
    "print(metrics.confusion_matrix(y_test_1, lr_predict_test_1, labels=[1, 0]) )\n",
    "print(\"\")\n",
    "print(\"Classification Report - Test Sample 1\")\n",
    "print(metrics.classification_report(y_test_1, lr_predict_test_1, labels=[1,0]))"
   ]
  },
  {
   "cell_type": "code",
   "execution_count": 390,
   "metadata": {
    "collapsed": false
   },
   "outputs": [
    {
     "name": "stdout",
     "output_type": "stream",
     "text": [
      "Accuracy - Test Sample 2: 0.7188\n",
      "[[ 1  7]\n",
      " [ 2 22]]\n",
      "\n",
      "Classification Report - Test Sample 2\n",
      "             precision    recall  f1-score   support\n",
      "\n",
      "          1       0.33      0.12      0.18         8\n",
      "          0       0.76      0.92      0.83        24\n",
      "\n",
      "avg / total       0.65      0.72      0.67        32\n",
      "\n"
     ]
    }
   ],
   "source": [
    "lr_predict_test_2 = lr_model.predict(X_test_2)\n",
    "\n",
    "\n",
    "# training metrics\n",
    "print(\"Accuracy - Test Sample 2: {0:.4f}\".format(metrics.accuracy_score(y_test_2, lr_predict_test_2)))\n",
    "print(metrics.confusion_matrix(y_test_2, lr_predict_test_2, labels=[1, 0]) )\n",
    "print(\"\")\n",
    "print(\"Classification Report - Test Sample 2\")\n",
    "print(metrics.classification_report(y_test_2, lr_predict_test_2, labels=[1,0]))"
   ]
  },
  {
   "cell_type": "code",
   "execution_count": 395,
   "metadata": {
    "collapsed": false
   },
   "outputs": [
    {
     "name": "stdout",
     "output_type": "stream",
     "text": [
      "1st max value of 0.250 occured at C=0.100\n"
     ]
    },
    {
     "data": {
      "text/plain": [
       "<matplotlib.text.Text at 0x10f7d5c18>"
      ]
     },
     "execution_count": 395,
     "metadata": {},
     "output_type": "execute_result"
    },
    {
     "data": {
      "image/png": "iVBORw0KGgoAAAANSUhEUgAAAisAAAF5CAYAAABeAGpJAAAABHNCSVQICAgIfAhkiAAAAAlwSFlz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\nkOmcwGfpVgAAAABJRU5ErkJggg==\n",
      "text/plain": [
       "<matplotlib.figure.Figure at 0x10f4aaf28>"
      ]
     },
     "metadata": {},
     "output_type": "display_data"
    }
   ],
   "source": [
    "# Find the best regularisation parameter\n",
    "C_start = 0.1\n",
    "C_end = 5\n",
    "C_inc = 0.1\n",
    "\n",
    "C_values, recall_scores = [], []\n",
    "\n",
    "C_val = C_start\n",
    "best_recall_score = 0\n",
    "while (C_val < C_end):\n",
    "    C_values.append(C_val)\n",
    "    lr_model_loop = LogisticRegression(C=C_val, random_state=42)\n",
    "    lr_model_loop.fit(X_train, y_train.ravel())\n",
    "    lr_predict_loop_test = lr_model_loop.predict(X_test_1)\n",
    "    recall_score = metrics.recall_score(y_test_1, lr_predict_loop_test)\n",
    "    recall_scores.append(recall_score)\n",
    "    if (recall_score > best_recall_score):\n",
    "        best_recall_score = recall_score\n",
    "        best_lr_predict_test = lr_predict_loop_test\n",
    "        \n",
    "    C_val = C_val + C_inc\n",
    "\n",
    "best_score_C_val = C_values[recall_scores.index(best_recall_score)]\n",
    "print(\"1st max value of {0:.3f} occured at C={1:.3f}\".format(best_recall_score, best_score_C_val))\n",
    "\n",
    "%matplotlib inline \n",
    "plt.plot(C_values, recall_scores, \"-\")\n",
    "plt.xlabel(\"C value\")\n",
    "plt.ylabel(\"recall score\")"
   ]
  },
  {
   "cell_type": "code",
   "execution_count": null,
   "metadata": {
    "collapsed": true
   },
   "outputs": [],
   "source": []
  }
 ],
 "metadata": {
  "kernelspec": {
   "display_name": "Python 3",
   "language": "python",
   "name": "python3"
  },
  "language_info": {
   "codemirror_mode": {
    "name": "ipython",
    "version": 3
   },
   "file_extension": ".py",
   "mimetype": "text/x-python",
   "name": "python",
   "nbconvert_exporter": "python",
   "pygments_lexer": "ipython3",
   "version": "3.5.0"
  }
 },
 "nbformat": 4,
 "nbformat_minor": 0
}
